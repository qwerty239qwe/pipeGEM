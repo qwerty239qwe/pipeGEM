{
 "cells": [
  {
   "cell_type": "markdown",
   "id": "c418dff9-85ae-4fa0-9498-3f07970f49e1",
   "metadata": {},
   "source": [
    "# 2. Data fetching and processing"
   ]
  },
  {
   "cell_type": "code",
   "execution_count": 1,
   "id": "a7996daf-7b27-4f2b-baba-69da4fa6638a",
   "metadata": {},
   "outputs": [],
   "source": [
    "import sys\n",
    "from pathlib import Path\n",
    "sys.path.append(str(Path(\"../../\").resolve()))\n",
    "\n",
    "%load_ext autoreload\n",
    "%autoreload 2"
   ]
  },
  {
   "cell_type": "markdown",
   "id": "28579300-c67d-4409-beab-4371ad07e1ed",
   "metadata": {},
   "source": [
    "## More details about list_data"
   ]
  },
  {
   "cell_type": "code",
   "execution_count": 2,
   "id": "17afc575-0b91-46d1-9d67-aec7e4cff44c",
   "metadata": {},
   "outputs": [],
   "source": [
    "import pipeGEM as pg\n",
    "from pipeGEM.data.fetching import list_models, load_model"
   ]
  },
  {
   "cell_type": "code",
   "execution_count": 3,
   "id": "38864d7a-249f-4c52-ae1e-c38716d7ebaf",
   "metadata": {},
   "outputs": [],
   "source": [
    "model_list = list_models(organism=\"human\")"
   ]
  },
  {
   "cell_type": "code",
   "execution_count": 4,
   "id": "66c58c4a-c491-4560-9709-3f70a532b7f7",
   "metadata": {},
   "outputs": [
    {
     "data": {
      "text/html": [
       "<div>\n",
       "<style scoped>\n",
       "    .dataframe tbody tr th:only-of-type {\n",
       "        vertical-align: middle;\n",
       "    }\n",
       "\n",
       "    .dataframe tbody tr th {\n",
       "        vertical-align: top;\n",
       "    }\n",
       "\n",
       "    .dataframe thead th {\n",
       "        text-align: right;\n",
       "    }\n",
       "</style>\n",
       "<table border=\"1\" class=\"dataframe\">\n",
       "  <thead>\n",
       "    <tr style=\"text-align: right;\">\n",
       "      <th></th>\n",
       "      <th>id</th>\n",
       "      <th>organism</th>\n",
       "      <th>reaction_count</th>\n",
       "      <th>metabolite_count</th>\n",
       "      <th>gene_count</th>\n",
       "      <th>database</th>\n",
       "    </tr>\n",
       "  </thead>\n",
       "  <tbody>\n",
       "    <tr>\n",
       "      <th>1</th>\n",
       "      <td>Human-GEM</td>\n",
       "      <td>Homo sapiens</td>\n",
       "      <td>13070</td>\n",
       "      <td>8369</td>\n",
       "      <td>3067</td>\n",
       "      <td>metabolic atlas</td>\n",
       "    </tr>\n",
       "    <tr>\n",
       "      <th>1</th>\n",
       "      <td>iAB_RBC_283</td>\n",
       "      <td>Homo sapiens</td>\n",
       "      <td>469</td>\n",
       "      <td>342</td>\n",
       "      <td>346</td>\n",
       "      <td>BiGG</td>\n",
       "    </tr>\n",
       "    <tr>\n",
       "      <th>12</th>\n",
       "      <td>iAT_PLT_636</td>\n",
       "      <td>Homo sapiens</td>\n",
       "      <td>1008</td>\n",
       "      <td>738</td>\n",
       "      <td>636</td>\n",
       "      <td>BiGG</td>\n",
       "    </tr>\n",
       "    <tr>\n",
       "      <th>105</th>\n",
       "      <td>RECON1</td>\n",
       "      <td>Homo sapiens</td>\n",
       "      <td>3741</td>\n",
       "      <td>2766</td>\n",
       "      <td>1905</td>\n",
       "      <td>BiGG</td>\n",
       "    </tr>\n",
       "    <tr>\n",
       "      <th>106</th>\n",
       "      <td>Recon3D</td>\n",
       "      <td>Homo sapiens</td>\n",
       "      <td>10600</td>\n",
       "      <td>5835</td>\n",
       "      <td>2248</td>\n",
       "      <td>BiGG</td>\n",
       "    </tr>\n",
       "  </tbody>\n",
       "</table>\n",
       "</div>"
      ],
      "text/plain": [
       "              id      organism  reaction_count  metabolite_count  gene_count  \\\n",
       "1      Human-GEM  Homo sapiens           13070              8369        3067   \n",
       "1    iAB_RBC_283  Homo sapiens             469               342         346   \n",
       "12   iAT_PLT_636  Homo sapiens            1008               738         636   \n",
       "105       RECON1  Homo sapiens            3741              2766        1905   \n",
       "106      Recon3D  Homo sapiens           10600              5835        2248   \n",
       "\n",
       "            database  \n",
       "1    metabolic atlas  \n",
       "1               BiGG  \n",
       "12              BiGG  \n",
       "105             BiGG  \n",
       "106             BiGG  "
      ]
     },
     "execution_count": 4,
     "metadata": {},
     "output_type": "execute_result"
    }
   ],
   "source": [
    "model_list"
   ]
  },
  {
   "cell_type": "code",
   "execution_count": 5,
   "id": "f928bd37-80ca-4367-8635-0ad5a92f55dc",
   "metadata": {},
   "outputs": [],
   "source": [
    "# select by number of components\n",
    "\n",
    "model_list = list_models(organism=\"mouse\", \n",
    "                         max_n_genes=2000, max_n_mets=3000, max_n_rxns=5000)"
   ]
  },
  {
   "cell_type": "code",
   "execution_count": 6,
   "id": "579c3667-e3d9-4c45-bf23-1018c9f4d430",
   "metadata": {},
   "outputs": [
    {
     "data": {
      "text/html": [
       "<div>\n",
       "<style scoped>\n",
       "    .dataframe tbody tr th:only-of-type {\n",
       "        vertical-align: middle;\n",
       "    }\n",
       "\n",
       "    .dataframe tbody tr th {\n",
       "        vertical-align: top;\n",
       "    }\n",
       "\n",
       "    .dataframe thead th {\n",
       "        text-align: right;\n",
       "    }\n",
       "</style>\n",
       "<table border=\"1\" class=\"dataframe\">\n",
       "  <thead>\n",
       "    <tr style=\"text-align: right;\">\n",
       "      <th></th>\n",
       "      <th>id</th>\n",
       "      <th>organism</th>\n",
       "      <th>reaction_count</th>\n",
       "      <th>metabolite_count</th>\n",
       "      <th>gene_count</th>\n",
       "      <th>database</th>\n",
       "    </tr>\n",
       "  </thead>\n",
       "  <tbody>\n",
       "    <tr>\n",
       "      <th>77</th>\n",
       "      <td>iMM1415</td>\n",
       "      <td>Mus musculus</td>\n",
       "      <td>3726</td>\n",
       "      <td>2775</td>\n",
       "      <td>1375</td>\n",
       "      <td>BiGG</td>\n",
       "    </tr>\n",
       "  </tbody>\n",
       "</table>\n",
       "</div>"
      ],
      "text/plain": [
       "         id      organism  reaction_count  metabolite_count  gene_count  \\\n",
       "77  iMM1415  Mus musculus            3726              2775        1375   \n",
       "\n",
       "   database  \n",
       "77     BiGG  "
      ]
     },
     "execution_count": 6,
     "metadata": {},
     "output_type": "execute_result"
    }
   ],
   "source": [
    "model_list"
   ]
  },
  {
   "cell_type": "markdown",
   "id": "a3cc9451-5aa1-42f5-839c-69426c3bb00f",
   "metadata": {},
   "source": [
    "## Generate simulated gene data"
   ]
  },
  {
   "cell_type": "code",
   "execution_count": 3,
   "id": "a502a259-3a3e-4240-8c66-0a09c669b122",
   "metadata": {},
   "outputs": [],
   "source": [
    "from pipeGEM.data.synthesis import get_syn_gene_data\n",
    "import seaborn as sns\n",
    "import numpy as np"
   ]
  },
  {
   "cell_type": "code",
   "execution_count": 4,
   "id": "5bfc3aff-e853-47ea-992c-cc8847a8d1b2",
   "metadata": {},
   "outputs": [
    {
     "name": "stdout",
     "output_type": "stream",
     "text": [
      "Set parameter Username\n",
      "Academic license - for non-commercial use only - expires 2023-06-14\n"
     ]
    },
    {
     "name": "stderr",
     "output_type": "stream",
     "text": [
      "No objective coefficients in model. Unclear what should be optimized\n"
     ]
    }
   ],
   "source": [
    "mouse = load_model('iMM1415')"
   ]
  },
  {
   "cell_type": "code",
   "execution_count": 5,
   "id": "c6ad1a73-9151-470b-9658-da1213489f6c",
   "metadata": {},
   "outputs": [],
   "source": [
    "raw_count = get_syn_gene_data(mouse, n_sample=9, random_state=42)"
   ]
  },
  {
   "cell_type": "code",
   "execution_count": 6,
   "id": "661550f1-a04b-42e1-8e6d-59e985e6eb24",
   "metadata": {},
   "outputs": [
    {
     "data": {
      "text/html": [
       "<div>\n",
       "<style scoped>\n",
       "    .dataframe tbody tr th:only-of-type {\n",
       "        vertical-align: middle;\n",
       "    }\n",
       "\n",
       "    .dataframe tbody tr th {\n",
       "        vertical-align: top;\n",
       "    }\n",
       "\n",
       "    .dataframe thead th {\n",
       "        text-align: right;\n",
       "    }\n",
       "</style>\n",
       "<table border=\"1\" class=\"dataframe\">\n",
       "  <thead>\n",
       "    <tr style=\"text-align: right;\">\n",
       "      <th></th>\n",
       "      <th>sample_0</th>\n",
       "      <th>sample_1</th>\n",
       "      <th>sample_2</th>\n",
       "      <th>sample_3</th>\n",
       "      <th>sample_4</th>\n",
       "      <th>sample_5</th>\n",
       "      <th>sample_6</th>\n",
       "      <th>sample_7</th>\n",
       "      <th>sample_8</th>\n",
       "    </tr>\n",
       "  </thead>\n",
       "  <tbody>\n",
       "    <tr>\n",
       "      <th>12846</th>\n",
       "      <td>4163</td>\n",
       "      <td>4115</td>\n",
       "      <td>4058</td>\n",
       "      <td>4072</td>\n",
       "      <td>4153</td>\n",
       "      <td>4135</td>\n",
       "      <td>4012</td>\n",
       "      <td>4068</td>\n",
       "      <td>4004</td>\n",
       "    </tr>\n",
       "    <tr>\n",
       "      <th>67689</th>\n",
       "      <td>4063</td>\n",
       "      <td>4141</td>\n",
       "      <td>4117</td>\n",
       "      <td>4145</td>\n",
       "      <td>4061</td>\n",
       "      <td>4110</td>\n",
       "      <td>4091</td>\n",
       "      <td>4031</td>\n",
       "      <td>3938</td>\n",
       "    </tr>\n",
       "    <tr>\n",
       "      <th>237940</th>\n",
       "      <td>4093</td>\n",
       "      <td>4152</td>\n",
       "      <td>4121</td>\n",
       "      <td>4003</td>\n",
       "      <td>4050</td>\n",
       "      <td>4168</td>\n",
       "      <td>4133</td>\n",
       "      <td>3974</td>\n",
       "      <td>4053</td>\n",
       "    </tr>\n",
       "    <tr>\n",
       "      <th>222</th>\n",
       "      <td>4127</td>\n",
       "      <td>4099</td>\n",
       "      <td>3910</td>\n",
       "      <td>3994</td>\n",
       "      <td>4090</td>\n",
       "      <td>4250</td>\n",
       "      <td>4082</td>\n",
       "      <td>4081</td>\n",
       "      <td>4063</td>\n",
       "    </tr>\n",
       "    <tr>\n",
       "      <th>76507</th>\n",
       "      <td>4012</td>\n",
       "      <td>4025</td>\n",
       "      <td>4005</td>\n",
       "      <td>4081</td>\n",
       "      <td>4040</td>\n",
       "      <td>4038</td>\n",
       "      <td>4074</td>\n",
       "      <td>4175</td>\n",
       "      <td>4138</td>\n",
       "    </tr>\n",
       "  </tbody>\n",
       "</table>\n",
       "</div>"
      ],
      "text/plain": [
       "        sample_0  sample_1  sample_2  sample_3  sample_4  sample_5  sample_6  \\\n",
       "12846       4163      4115      4058      4072      4153      4135      4012   \n",
       "67689       4063      4141      4117      4145      4061      4110      4091   \n",
       "237940      4093      4152      4121      4003      4050      4168      4133   \n",
       "222         4127      4099      3910      3994      4090      4250      4082   \n",
       "76507       4012      4025      4005      4081      4040      4038      4074   \n",
       "\n",
       "        sample_7  sample_8  \n",
       "12846       4068      4004  \n",
       "67689       4031      3938  \n",
       "237940      3974      4053  \n",
       "222         4081      4063  \n",
       "76507       4175      4138  "
      ]
     },
     "execution_count": 6,
     "metadata": {},
     "output_type": "execute_result"
    }
   ],
   "source": [
    "raw_count.head()"
   ]
  },
  {
   "cell_type": "code",
   "execution_count": 7,
   "id": "672ddb0a-934d-43b9-b617-e4c05cff35b9",
   "metadata": {},
   "outputs": [
    {
     "data": {
      "text/plain": [
       "<seaborn.axisgrid.FacetGrid at 0x25c8ea09040>"
      ]
     },
     "execution_count": 7,
     "metadata": {},
     "output_type": "execute_result"
    },
    {
     "data": {
      "image/png": "[encoded data removed]",
      "text/plain": [
       "<Figure size 360x360 with 1 Axes>"
      ]
     },
     "metadata": {
      "needs_background": "light"
     },
     "output_type": "display_data"
    }
   ],
   "source": [
    "# should be negative binomial distribution\n",
    "\n",
    "sns.displot(np.log2(raw_count + 1)[\"sample_0\"])"
   ]
  },
  {
   "cell_type": "markdown",
   "id": "9d82f747-dbc7-44cb-b317-9816f4d925af",
   "metadata": {},
   "source": [
    "## Maping gene data to a pipeGEM model"
   ]
  },
  {
   "cell_type": "code",
   "execution_count": 9,
   "id": "5298c21b-e368-45cd-a8ff-d2d390a5537c",
   "metadata": {},
   "outputs": [],
   "source": [
    "from pipeGEM.data import GeneData"
   ]
  },
  {
   "cell_type": "code",
   "execution_count": 20,
   "id": "bf9aad24-b31d-49a8-a31f-4eed55345dad",
   "metadata": {},
   "outputs": [],
   "source": [
    "p_mouse = pg.Model(\"imm1415\", mouse)"
   ]
  },
  {
   "cell_type": "code",
   "execution_count": 16,
   "id": "a08b05db-4645-4b62-9af9-4bb67515b006",
   "metadata": {},
   "outputs": [],
   "source": [
    "gene_data = GeneData(data=raw_count[\"sample_0\"], \n",
    "                     data_transform=lambda x: np.log2(x), \n",
    "                     absent_expression=-np.inf)"
   ]
  },
  {
   "cell_type": "code",
   "execution_count": 21,
   "id": "43fc7e1a-302a-4b26-9ade-d41126f81878",
   "metadata": {},
   "outputs": [],
   "source": [
    "p_mouse.add_gene_data(name_or_prefix=\"sample_0\", \n",
    "                      data=gene_data, \n",
    "                      or_operation=\"nanmax\",  # alternative: nansum\n",
    "                      threshold=-np.inf, \n",
    "                      absent_value=-np.inf)"
   ]
  },
  {
   "cell_type": "code",
   "execution_count": 27,
   "id": "fa084bbe-7b2f-4a09-bb6b-c3a41832a5d9",
   "metadata": {},
   "outputs": [
    {
     "data": {
      "text/html": [
       "\n",
       "        <table>\n",
       "            <tr>\n",
       "                <td><strong>Reaction identifier</strong></td><td>2HBt2</td>\n",
       "            </tr><tr>\n",
       "                <td><strong>Name</strong></td><td>2 hydroxybutyrate cotransport with proton</td>\n",
       "            </tr><tr>\n",
       "                <td><strong>Memory address</strong></td>\n",
       "                <td>0x0209c9613eb0</td>\n",
       "            </tr><tr>\n",
       "                <td><strong>Stoichiometry</strong></td>\n",
       "                <td>\n",
       "                    <p style='text-align:right'>2hb_e + h_e <=> 2hb_c + h_c</p>\n",
       "                    <p style='text-align:right'>2 Hydroxybutyrate C4H7O3 + H+ <=> 2 Hydroxybutyrate C4H7O3 + H+</p>\n",
       "                </td>\n",
       "            </tr><tr>\n",
       "                <td><strong>GPR</strong></td><td>80879 or 20503 or 20501</td>\n",
       "            </tr><tr>\n",
       "                <td><strong>Lower bound</strong></td><td>-100000.0</td>\n",
       "            </tr><tr>\n",
       "                <td><strong>Upper bound</strong></td><td>100000.0</td>\n",
       "            </tr>\n",
       "        </table>\n",
       "        "
      ],
      "text/plain": [
       "<Reaction 2HBt2 at 0x209c9613eb0>"
      ]
     },
     "execution_count": 27,
     "metadata": {},
     "output_type": "execute_result"
    }
   ],
   "source": [
    "p_mouse.reactions.get_by_id(\"2HBt2\")"
   ]
  },
  {
   "cell_type": "code",
   "execution_count": 28,
   "id": "9d8b605c-6cbc-4cce-b2d9-32d379e4cd25",
   "metadata": {
    "tags": []
   },
   "outputs": [
    {
     "data": {
      "text/plain": [
       "11.98299357469431"
      ]
     },
     "execution_count": 28,
     "metadata": {},
     "output_type": "execute_result"
    }
   ],
   "source": [
    "p_mouse.gene_data[\"sample_0\"].rxn_scores[\"2HBt2\"]"
   ]
  },
  {
   "cell_type": "code",
   "execution_count": 31,
   "id": "06f49a37-f02f-4321-9d7c-463cdd4dee81",
   "metadata": {},
   "outputs": [
    {
     "data": {
      "text/plain": [
       "(11.98299357469431, 11.972261848733291, 11.971543553950772)"
      ]
     },
     "execution_count": 31,
     "metadata": {},
     "output_type": "execute_result"
    }
   ],
   "source": [
    "gene_data.gene_data[\"80879\"], gene_data.gene_data[\"20503\"], gene_data.gene_data[\"20501\"]"
   ]
  },
  {
   "cell_type": "markdown",
   "id": "bb1dc559-0cf8-4254-8fd6-8497268e2449",
   "metadata": {},
   "source": [
    "## Visualizing gene data"
   ]
  },
  {
   "cell_type": "code",
   "execution_count": 10,
   "id": "78a2ad1b-b8aa-4bea-9500-11be7983dd35",
   "metadata": {
    "tags": []
   },
   "outputs": [],
   "source": [
    "gene_data_dict = {k: GeneData(data=v, \n",
    "                              data_transform=lambda x: np.log2(x), \n",
    "                              absent_expression=-np.inf) \n",
    "                  for k, v in raw_count.items()}"
   ]
  },
  {
   "cell_type": "code",
   "execution_count": 11,
   "id": "825b610a-5ebf-4768-8abb-f60064887107",
   "metadata": {},
   "outputs": [
    {
     "data": {
      "text/plain": [
       "{'sample_0': <pipeGEM.data.data.GeneData at 0x25cd20ac280>,\n",
       " 'sample_1': <pipeGEM.data.data.GeneData at 0x25cd20ac340>,\n",
       " 'sample_2': <pipeGEM.data.data.GeneData at 0x25cd20ac4f0>,\n",
       " 'sample_3': <pipeGEM.data.data.GeneData at 0x25cd20ac580>,\n",
       " 'sample_4': <pipeGEM.data.data.GeneData at 0x25cd20ac670>,\n",
       " 'sample_5': <pipeGEM.data.data.GeneData at 0x25cd20ac790>,\n",
       " 'sample_6': <pipeGEM.data.data.GeneData at 0x25cd20ac880>,\n",
       " 'sample_7': <pipeGEM.data.data.GeneData at 0x25cd20ac910>,\n",
       " 'sample_8': <pipeGEM.data.data.GeneData at 0x25cd20ac970>}"
      ]
     },
     "execution_count": 11,
     "metadata": {},
     "output_type": "execute_result"
    }
   ],
   "source": [
    "gene_data_dict"
   ]
  },
  {
   "cell_type": "code",
   "execution_count": 12,
   "id": "2ec47f62-afad-423d-8e8f-6f33c637ec73",
   "metadata": {},
   "outputs": [],
   "source": [
    "agg_data = GeneData.aggregate(gene_data_dict, prop=\"data\")"
   ]
  },
  {
   "cell_type": "code",
   "execution_count": 15,
   "id": "0d613192-4ccd-4f34-8ac0-8733e6ffbea7",
   "metadata": {},
   "outputs": [
    {
     "data": {
      "text/html": [
       "<div>\n",
       "<style scoped>\n",
       "    .dataframe tbody tr th:only-of-type {\n",
       "        vertical-align: middle;\n",
       "    }\n",
       "\n",
       "    .dataframe tbody tr th {\n",
       "        vertical-align: top;\n",
       "    }\n",
       "\n",
       "    .dataframe thead th {\n",
       "        text-align: right;\n",
       "    }\n",
       "</style>\n",
       "<table border=\"1\" class=\"dataframe\">\n",
       "  <thead>\n",
       "    <tr style=\"text-align: right;\">\n",
       "      <th></th>\n",
       "      <th>sample_0</th>\n",
       "      <th>sample_1</th>\n",
       "      <th>sample_2</th>\n",
       "      <th>sample_3</th>\n",
       "      <th>sample_4</th>\n",
       "      <th>sample_5</th>\n",
       "      <th>sample_6</th>\n",
       "      <th>sample_7</th>\n",
       "      <th>sample_8</th>\n",
       "    </tr>\n",
       "  </thead>\n",
       "  <tbody>\n",
       "    <tr>\n",
       "      <th>sample_0</th>\n",
       "      <td>1.000000</td>\n",
       "      <td>-0.019768</td>\n",
       "      <td>-0.030866</td>\n",
       "      <td>0.023345</td>\n",
       "      <td>-0.016708</td>\n",
       "      <td>0.020136</td>\n",
       "      <td>0.004408</td>\n",
       "      <td>0.001422</td>\n",
       "      <td>0.027229</td>\n",
       "    </tr>\n",
       "    <tr>\n",
       "      <th>sample_1</th>\n",
       "      <td>-0.019768</td>\n",
       "      <td>1.000000</td>\n",
       "      <td>-0.003563</td>\n",
       "      <td>-0.013306</td>\n",
       "      <td>-0.015332</td>\n",
       "      <td>-0.010605</td>\n",
       "      <td>-0.003146</td>\n",
       "      <td>0.049430</td>\n",
       "      <td>-0.016304</td>\n",
       "    </tr>\n",
       "    <tr>\n",
       "      <th>sample_2</th>\n",
       "      <td>-0.030866</td>\n",
       "      <td>-0.003563</td>\n",
       "      <td>1.000000</td>\n",
       "      <td>0.025437</td>\n",
       "      <td>-0.025465</td>\n",
       "      <td>-0.029224</td>\n",
       "      <td>-0.035789</td>\n",
       "      <td>-0.019060</td>\n",
       "      <td>-0.018303</td>\n",
       "    </tr>\n",
       "    <tr>\n",
       "      <th>sample_3</th>\n",
       "      <td>0.023345</td>\n",
       "      <td>-0.013306</td>\n",
       "      <td>0.025437</td>\n",
       "      <td>1.000000</td>\n",
       "      <td>-0.011472</td>\n",
       "      <td>0.035821</td>\n",
       "      <td>-0.025553</td>\n",
       "      <td>0.015618</td>\n",
       "      <td>-0.003134</td>\n",
       "    </tr>\n",
       "    <tr>\n",
       "      <th>sample_4</th>\n",
       "      <td>-0.016708</td>\n",
       "      <td>-0.015332</td>\n",
       "      <td>-0.025465</td>\n",
       "      <td>-0.011472</td>\n",
       "      <td>1.000000</td>\n",
       "      <td>0.018340</td>\n",
       "      <td>0.030272</td>\n",
       "      <td>-0.013200</td>\n",
       "      <td>-0.034380</td>\n",
       "    </tr>\n",
       "    <tr>\n",
       "      <th>sample_5</th>\n",
       "      <td>0.020136</td>\n",
       "      <td>-0.010605</td>\n",
       "      <td>-0.029224</td>\n",
       "      <td>0.035821</td>\n",
       "      <td>0.018340</td>\n",
       "      <td>1.000000</td>\n",
       "      <td>0.001410</td>\n",
       "      <td>0.027424</td>\n",
       "      <td>-0.048966</td>\n",
       "    </tr>\n",
       "    <tr>\n",
       "      <th>sample_6</th>\n",
       "      <td>0.004408</td>\n",
       "      <td>-0.003146</td>\n",
       "      <td>-0.035789</td>\n",
       "      <td>-0.025553</td>\n",
       "      <td>0.030272</td>\n",
       "      <td>0.001410</td>\n",
       "      <td>1.000000</td>\n",
       "      <td>0.021957</td>\n",
       "      <td>0.022836</td>\n",
       "    </tr>\n",
       "    <tr>\n",
       "      <th>sample_7</th>\n",
       "      <td>0.001422</td>\n",
       "      <td>0.049430</td>\n",
       "      <td>-0.019060</td>\n",
       "      <td>0.015618</td>\n",
       "      <td>-0.013200</td>\n",
       "      <td>0.027424</td>\n",
       "      <td>0.021957</td>\n",
       "      <td>1.000000</td>\n",
       "      <td>-0.027944</td>\n",
       "    </tr>\n",
       "    <tr>\n",
       "      <th>sample_8</th>\n",
       "      <td>0.027229</td>\n",
       "      <td>-0.016304</td>\n",
       "      <td>-0.018303</td>\n",
       "      <td>-0.003134</td>\n",
       "      <td>-0.034380</td>\n",
       "      <td>-0.048966</td>\n",
       "      <td>0.022836</td>\n",
       "      <td>-0.027944</td>\n",
       "      <td>1.000000</td>\n",
       "    </tr>\n",
       "  </tbody>\n",
       "</table>\n",
       "</div>"
      ],
      "text/plain": [
       "          sample_0  sample_1  sample_2  sample_3  sample_4  sample_5  \\\n",
       "sample_0  1.000000 -0.019768 -0.030866  0.023345 -0.016708  0.020136   \n",
       "sample_1 -0.019768  1.000000 -0.003563 -0.013306 -0.015332 -0.010605   \n",
       "sample_2 -0.030866 -0.003563  1.000000  0.025437 -0.025465 -0.029224   \n",
       "sample_3  0.023345 -0.013306  0.025437  1.000000 -0.011472  0.035821   \n",
       "sample_4 -0.016708 -0.015332 -0.025465 -0.011472  1.000000  0.018340   \n",
       "sample_5  0.020136 -0.010605 -0.029224  0.035821  0.018340  1.000000   \n",
       "sample_6  0.004408 -0.003146 -0.035789 -0.025553  0.030272  0.001410   \n",
       "sample_7  0.001422  0.049430 -0.019060  0.015618 -0.013200  0.027424   \n",
       "sample_8  0.027229 -0.016304 -0.018303 -0.003134 -0.034380 -0.048966   \n",
       "\n",
       "          sample_6  sample_7  sample_8  \n",
       "sample_0  0.004408  0.001422  0.027229  \n",
       "sample_1 -0.003146  0.049430 -0.016304  \n",
       "sample_2 -0.035789 -0.019060 -0.018303  \n",
       "sample_3 -0.025553  0.015618 -0.003134  \n",
       "sample_4  0.030272 -0.013200 -0.034380  \n",
       "sample_5  0.001410  0.027424 -0.048966  \n",
       "sample_6  1.000000  0.021957  0.022836  \n",
       "sample_7  0.021957  1.000000 -0.027944  \n",
       "sample_8  0.022836 -0.027944  1.000000  "
      ]
     },
     "execution_count": 15,
     "metadata": {},
     "output_type": "execute_result"
    }
   ],
   "source": [
    "corr_result = agg_data.corr()"
   ]
  },
  {
   "cell_type": "code",
   "execution_count": 14,
   "id": "e5641407-63f9-44be-abe6-26edb2065a58",
   "metadata": {
    "tags": []
   },
   "outputs": [
    {
     "ename": "NameError",
     "evalue": "name 'plot_PCA' is not defined",
     "output_type": "error",
     "traceback": [
      "\u001b[1;31m---------------------------------------------------------------------------\u001b[0m",
      "\u001b[1;31mNameError\u001b[0m                                 Traceback (most recent call last)",
      "\u001b[1;32m~\\AppData\\Local\\Temp/ipykernel_42768/1082891063.py\u001b[0m in \u001b[0;36m<module>\u001b[1;34m\u001b[0m\n\u001b[1;32m----> 1\u001b[1;33m \u001b[0mplot_PCA\u001b[0m\u001b[1;33m(\u001b[0m\u001b[0mnp\u001b[0m\u001b[1;33m.\u001b[0m\u001b[0mlog2\u001b[0m\u001b[1;33m(\u001b[0m\u001b[0mraw_count\u001b[0m \u001b[1;33m+\u001b[0m \u001b[1;36m1\u001b[0m\u001b[1;33m)\u001b[0m\u001b[1;33m,\u001b[0m \u001b[0mgroups\u001b[0m\u001b[1;33m=\u001b[0m\u001b[1;32mNone\u001b[0m\u001b[1;33m)\u001b[0m\u001b[1;33m\u001b[0m\u001b[1;33m\u001b[0m\u001b[0m\n\u001b[0m",
      "\u001b[1;31mNameError\u001b[0m: name 'plot_PCA' is not defined"
     ]
    }
   ],
   "source": [
    "plot_PCA(np.log2(raw_count + 1), groups=None)"
   ]
  },
  {
   "cell_type": "code",
   "execution_count": 65,
   "id": "6ada464b-609b-4ebb-844c-a953ca868ebb",
   "metadata": {
    "collapsed": true,
    "jupyter": {
     "outputs_hidden": true
    },
    "tags": []
   },
   "outputs": [
    {
     "name": "stdout",
     "output_type": "stream",
     "text": [
      "saving  None\n"
     ]
    },
    {
     "data": {
      "image/png": "[encoded data removed]",
      "text/plain": [
       "<Figure size 504x504 with 1 Axes>"
      ]
     },
     "metadata": {
      "needs_background": "light"
     },
     "output_type": "display_data"
    },
    {
     "data": {
      "text/plain": [
       "{'g': <Figure size 504x504 with 1 Axes>}"
      ]
     },
     "execution_count": 65,
     "metadata": {},
     "output_type": "execute_result"
    }
   ],
   "source": [
    "plot_embedding(np.log2(raw_count + 1), reducer=\"TSNE\")"
   ]
  },
  {
   "cell_type": "code",
   "execution_count": 64,
   "id": "9be1a72b-9a1d-4030-95a6-b0330faa151b",
   "metadata": {},
   "outputs": [
    {
     "name": "stderr",
     "output_type": "stream",
     "text": [
      "/Library/Frameworks/Python.framework/Versions/3.7/lib/python3.7/site-packages/umap/umap_.py:2214: UserWarning: n_neighbors is larger than the dataset size; truncating to X.shape[0] - 1\n",
      "  \"n_neighbors is larger than the dataset size; truncating to \"\n"
     ]
    },
    {
     "name": "stdout",
     "output_type": "stream",
     "text": [
      "saving  None\n"
     ]
    },
    {
     "data": {
      "image/png": "[encoded data removed]",
      "text/plain": [
       "<Figure size 504x504 with 1 Axes>"
      ]
     },
     "metadata": {
      "needs_background": "light"
     },
     "output_type": "display_data"
    },
    {
     "data": {
      "text/plain": [
       "{'g': <Figure size 504x504 with 1 Axes>}"
      ]
     },
     "execution_count": 64,
     "metadata": {},
     "output_type": "execute_result"
    }
   ],
   "source": [
    "plot_embedding(np.log2(raw_count + 1), reducer=\"UMAP\")"
   ]
  },
  {
   "cell_type": "markdown",
   "id": "6e44ec21-12f9-41b2-9667-637d80df7834",
   "metadata": {
    "jp-MarkdownHeadingCollapsed": true,
    "tags": []
   },
   "source": [
    "## Protein data fetcher"
   ]
  },
  {
   "cell_type": "markdown",
   "id": "3902012a-d614-47f8-ba3f-e76d56a17f64",
   "metadata": {},
   "source": [
    "pipeGEM provides an API to fetch HPA data and to process it,\n",
    "the data could be found in https://www.proteinatlas.org/about/download"
   ]
  },
  {
   "cell_type": "code",
   "execution_count": 66,
   "id": "cfb77bc3-0e91-458b-b4ef-c697f054ee44",
   "metadata": {},
   "outputs": [],
   "source": [
    "from pipeGEM.pipeline.preprocessing import HPADataFetcher"
   ]
  },
  {
   "cell_type": "code",
   "execution_count": 71,
   "id": "2277f579-1253-4ab3-b16f-a5bec54b812f",
   "metadata": {},
   "outputs": [],
   "source": [
    "hpa_data = HPADataFetcher(\"normal_tissue\", data_path=\"./\")"
   ]
  },
  {
   "cell_type": "code",
   "execution_count": 73,
   "id": "a1b5369e-cb66-4183-b221-f8918796f8ca",
   "metadata": {},
   "outputs": [
    {
     "name": "stdout",
     "output_type": "stream",
     "text": [
      "fetching data...\n",
      "Data is downloaded and saved in  .\n",
      "The dataframe is already exist.\n",
      "[]\n",
      "Using Fastcormic thresholds\n",
      "[]\n",
      "Using Fastcormic thresholds\n",
      "The dataframe is already exist.\n",
      "The dataframe is already exist.\n",
      "[]\n",
      "Using Fastcormic thresholds\n",
      "[]\n",
      "Using Fastcormic thresholds\n"
     ]
    },
    {
     "data": {
      "text/plain": [
       "{'data_df': Empty DataFrame\n",
       " Columns: []\n",
       " Index: [],\n",
       " 'used_rxn_thres': None}"
      ]
     },
     "execution_count": 73,
     "metadata": {},
     "output_type": "execute_result"
    }
   ],
   "source": [
    "hpa_data()"
   ]
  },
  {
   "cell_type": "markdown",
   "id": "a6527f79-485e-49fb-b56b-18979824b383",
   "metadata": {},
   "source": [
    "## Medium data"
   ]
  },
  {
   "cell_type": "code",
   "execution_count": 38,
   "id": "c9f3d23b-9357-4aad-b8d1-266927fc3838",
   "metadata": {},
   "outputs": [
    {
     "ename": "NotImplementedError",
     "evalue": "haven't finished",
     "output_type": "error",
     "traceback": [
      "\u001b[1;31m---------------------------------------------------------------------------\u001b[0m",
      "\u001b[1;31mNotImplementedError\u001b[0m                       Traceback (most recent call last)",
      "\u001b[1;32m~\\AppData\\Local\\Temp/ipykernel_32684/3088567939.py\u001b[0m in \u001b[0;36m<module>\u001b[1;34m\u001b[0m\n\u001b[1;32m----> 1\u001b[1;33m \u001b[0mhuman\u001b[0m \u001b[1;33m=\u001b[0m \u001b[0mload_model\u001b[0m\u001b[1;33m(\u001b[0m\u001b[1;34m\"Human-GEM\"\u001b[0m\u001b[1;33m)\u001b[0m\u001b[1;33m\u001b[0m\u001b[1;33m\u001b[0m\u001b[0m\n\u001b[0m",
      "\u001b[1;32m~\\PycharmProjects\\pipeGEM\\pipeGEM\\data\\fetching.py\u001b[0m in \u001b[0;36mload_model\u001b[1;34m(model_id)\u001b[0m\n\u001b[0;32m    264\u001b[0m     \u001b[1;32mif\u001b[0m \u001b[0mmodel_id\u001b[0m \u001b[1;32min\u001b[0m \u001b[0mmodel_list\u001b[0m\u001b[1;33m[\u001b[0m\u001b[0mmodel_list\u001b[0m\u001b[1;33m[\u001b[0m\u001b[1;34m\"database\"\u001b[0m\u001b[1;33m]\u001b[0m\u001b[1;33m==\u001b[0m\u001b[1;34m\"BiGG\"\u001b[0m\u001b[1;33m]\u001b[0m\u001b[1;33m[\u001b[0m\u001b[1;34m\"id\"\u001b[0m\u001b[1;33m]\u001b[0m\u001b[1;33m.\u001b[0m\u001b[0mto_list\u001b[0m\u001b[1;33m(\u001b[0m\u001b[1;33m)\u001b[0m\u001b[1;33m:\u001b[0m\u001b[1;33m\u001b[0m\u001b[1;33m\u001b[0m\u001b[0m\n\u001b[0;32m    265\u001b[0m         \u001b[1;32mreturn\u001b[0m \u001b[0mcobra\u001b[0m\u001b[1;33m.\u001b[0m\u001b[0mio\u001b[0m\u001b[1;33m.\u001b[0m\u001b[0mload_model\u001b[0m\u001b[1;33m(\u001b[0m\u001b[0mmodel_id\u001b[0m\u001b[1;33m)\u001b[0m\u001b[1;33m\u001b[0m\u001b[1;33m\u001b[0m\u001b[0m\n\u001b[1;32m--> 266\u001b[1;33m     \u001b[1;32mraise\u001b[0m \u001b[0mNotImplementedError\u001b[0m\u001b[1;33m(\u001b[0m\u001b[1;34m\"haven't finished\"\u001b[0m\u001b[1;33m)\u001b[0m\u001b[1;33m\u001b[0m\u001b[1;33m\u001b[0m\u001b[0m\n\u001b[0m\u001b[0;32m    267\u001b[0m \u001b[1;33m\u001b[0m\u001b[0m\n\u001b[0;32m    268\u001b[0m \u001b[1;33m\u001b[0m\u001b[0m\n",
      "\u001b[1;31mNotImplementedError\u001b[0m: haven't finished"
     ]
    }
   ],
   "source": [
    "human = load_model(\"Human-GEM\")"
   ]
  },
  {
   "cell_type": "code",
   "execution_count": null,
   "id": "c2ebe34a-a528-4fe9-8ab3-41078be49240",
   "metadata": {},
   "outputs": [],
   "source": []
  }
 ],
 "metadata": {
  "kernelspec": {
   "display_name": "Python 3 (ipykernel)",
   "language": "python",
   "name": "python3"
  },
  "language_info": {
   "codemirror_mode": {
    "name": "ipython",
    "version": 3
   },
   "file_extension": ".py",
   "mimetype": "text/x-python",
   "name": "python",
   "nbconvert_exporter": "python",
   "pygments_lexer": "ipython3",
   "version": "3.8.12"
  }
 },
 "nbformat": 4,
 "nbformat_minor": 5
}
