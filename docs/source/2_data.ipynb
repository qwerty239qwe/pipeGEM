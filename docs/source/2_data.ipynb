{
 "cells": [
  {
   "cell_type": "markdown",
   "id": "cef61bc4",
   "metadata": {},
   "source": [
    "# 2. Data fetching and processing"
   ]
  },
  {
   "cell_type": "code",
   "execution_count": 1,
   "id": "609f7d34",
   "metadata": {
    "tags": []
   },
   "outputs": [],
   "source": [
    "import sys\n",
    "from pathlib import Path\n",
    "sys.path.append(str(Path(\"../../\").resolve()))\n",
    "\n",
    "%load_ext autoreload\n",
    "%autoreload 2"
   ]
  },
  {
   "cell_type": "markdown",
   "id": "d1b0887e",
   "metadata": {},
   "source": [
    "## More details about list_data"
   ]
  },
  {
   "cell_type": "code",
   "execution_count": 3,
   "id": "8c533087",
   "metadata": {
    "tags": []
   },
   "outputs": [],
   "source": [
    "import pipeGEM as pg\n",
    "from pipeGEM.data.fetching import list_models, load_remote_model"
   ]
  },
  {
   "cell_type": "code",
   "execution_count": 4,
   "id": "c0cb08e9",
   "metadata": {
    "tags": []
   },
   "outputs": [],
   "source": [
    "model_list = list_models(organism=\"human\")"
   ]
  },
  {
   "cell_type": "code",
   "execution_count": 5,
   "id": "ab1531c9",
   "metadata": {
    "tags": []
   },
   "outputs": [
    {
     "data": {
      "text/html": [
       "<div>\n",
       "<style scoped>\n",
       "    .dataframe tbody tr th:only-of-type {\n",
       "        vertical-align: middle;\n",
       "    }\n",
       "\n",
       "    .dataframe tbody tr th {\n",
       "        vertical-align: top;\n",
       "    }\n",
       "\n",
       "    .dataframe thead th {\n",
       "        text-align: right;\n",
       "    }\n",
       "</style>\n",
       "<table border=\"1\" class=\"dataframe\">\n",
       "  <thead>\n",
       "    <tr style=\"text-align: right;\">\n",
       "      <th></th>\n",
       "      <th>id</th>\n",
       "      <th>organism</th>\n",
       "      <th>reaction_count</th>\n",
       "      <th>metabolite_count</th>\n",
       "      <th>gene_count</th>\n",
       "      <th>database</th>\n",
       "    </tr>\n",
       "  </thead>\n",
       "  <tbody>\n",
       "    <tr>\n",
       "      <th>1</th>\n",
       "      <td>Human-GEM</td>\n",
       "      <td>Homo sapiens</td>\n",
       "      <td>13070</td>\n",
       "      <td>8369</td>\n",
       "      <td>3067</td>\n",
       "      <td>metabolic atlas</td>\n",
       "    </tr>\n",
       "    <tr>\n",
       "      <th>1</th>\n",
       "      <td>iAB_RBC_283</td>\n",
       "      <td>Homo sapiens</td>\n",
       "      <td>469</td>\n",
       "      <td>342</td>\n",
       "      <td>346</td>\n",
       "      <td>BiGG</td>\n",
       "    </tr>\n",
       "    <tr>\n",
       "      <th>12</th>\n",
       "      <td>iAT_PLT_636</td>\n",
       "      <td>Homo sapiens</td>\n",
       "      <td>1008</td>\n",
       "      <td>738</td>\n",
       "      <td>636</td>\n",
       "      <td>BiGG</td>\n",
       "    </tr>\n",
       "    <tr>\n",
       "      <th>105</th>\n",
       "      <td>RECON1</td>\n",
       "      <td>Homo sapiens</td>\n",
       "      <td>3741</td>\n",
       "      <td>2766</td>\n",
       "      <td>1905</td>\n",
       "      <td>BiGG</td>\n",
       "    </tr>\n",
       "    <tr>\n",
       "      <th>106</th>\n",
       "      <td>Recon3D</td>\n",
       "      <td>Homo sapiens</td>\n",
       "      <td>10600</td>\n",
       "      <td>5835</td>\n",
       "      <td>2248</td>\n",
       "      <td>BiGG</td>\n",
       "    </tr>\n",
       "  </tbody>\n",
       "</table>\n",
       "</div>"
      ],
      "text/plain": [
       "              id      organism  reaction_count  metabolite_count  gene_count  \\\n",
       "1      Human-GEM  Homo sapiens           13070              8369        3067   \n",
       "1    iAB_RBC_283  Homo sapiens             469               342         346   \n",
       "12   iAT_PLT_636  Homo sapiens            1008               738         636   \n",
       "105       RECON1  Homo sapiens            3741              2766        1905   \n",
       "106      Recon3D  Homo sapiens           10600              5835        2248   \n",
       "\n",
       "            database  \n",
       "1    metabolic atlas  \n",
       "1               BiGG  \n",
       "12              BiGG  \n",
       "105             BiGG  \n",
       "106             BiGG  "
      ]
     },
     "execution_count": 5,
     "metadata": {},
     "output_type": "execute_result"
    }
   ],
   "source": [
    "model_list"
   ]
  },
  {
   "cell_type": "code",
   "execution_count": 6,
   "id": "49e301ce",
   "metadata": {
    "tags": []
   },
   "outputs": [],
   "source": [
    "# select by number of components\n",
    "\n",
    "model_list = list_models(organism=\"mouse\", \n",
    "                         max_n_genes=2000, max_n_mets=3000, max_n_rxns=5000)"
   ]
  },
  {
   "cell_type": "code",
   "execution_count": 7,
   "id": "1bc5e872",
   "metadata": {
    "tags": []
   },
   "outputs": [
    {
     "data": {
      "text/html": [
       "<div>\n",
       "<style scoped>\n",
       "    .dataframe tbody tr th:only-of-type {\n",
       "        vertical-align: middle;\n",
       "    }\n",
       "\n",
       "    .dataframe tbody tr th {\n",
       "        vertical-align: top;\n",
       "    }\n",
       "\n",
       "    .dataframe thead th {\n",
       "        text-align: right;\n",
       "    }\n",
       "</style>\n",
       "<table border=\"1\" class=\"dataframe\">\n",
       "  <thead>\n",
       "    <tr style=\"text-align: right;\">\n",
       "      <th></th>\n",
       "      <th>id</th>\n",
       "      <th>organism</th>\n",
       "      <th>reaction_count</th>\n",
       "      <th>metabolite_count</th>\n",
       "      <th>gene_count</th>\n",
       "      <th>database</th>\n",
       "    </tr>\n",
       "  </thead>\n",
       "  <tbody>\n",
       "    <tr>\n",
       "      <th>77</th>\n",
       "      <td>iMM1415</td>\n",
       "      <td>Mus musculus</td>\n",
       "      <td>3726</td>\n",
       "      <td>2775</td>\n",
       "      <td>1375</td>\n",
       "      <td>BiGG</td>\n",
       "    </tr>\n",
       "  </tbody>\n",
       "</table>\n",
       "</div>"
      ],
      "text/plain": [
       "         id      organism  reaction_count  metabolite_count  gene_count  \\\n",
       "77  iMM1415  Mus musculus            3726              2775        1375   \n",
       "\n",
       "   database  \n",
       "77     BiGG  "
      ]
     },
     "execution_count": 7,
     "metadata": {},
     "output_type": "execute_result"
    }
   ],
   "source": [
    "model_list"
   ]
  },
  {
   "cell_type": "markdown",
   "id": "4a3c2e3b",
   "metadata": {},
   "source": [
    "## Generate simulated gene data"
   ]
  },
  {
   "cell_type": "code",
   "execution_count": 8,
   "id": "e0581ac6",
   "metadata": {
    "tags": []
   },
   "outputs": [],
   "source": [
    "from pipeGEM.data.synthesis import get_syn_gene_data\n",
    "import seaborn as sns\n",
    "import numpy as np"
   ]
  },
  {
   "cell_type": "code",
   "execution_count": 9,
   "id": "26515f54",
   "metadata": {
    "tags": []
   },
   "outputs": [
    {
     "data": {
      "application/vnd.jupyter.widget-view+json": {
       "model_id": "",
       "version_major": 2,
       "version_minor": 0
      },
      "text/plain": [
       "Output()"
      ]
     },
     "metadata": {},
     "output_type": "display_data"
    },
    {
     "data": {
      "text/html": [
       "<pre style=\"white-space:pre;overflow-x:auto;line-height:normal;font-family:Menlo,'DejaVu Sans Mono',consolas,'Courier New',monospace\"></pre>\n"
      ],
      "text/plain": []
     },
     "metadata": {},
     "output_type": "display_data"
    },
    {
     "data": {
      "text/html": [
       "<pre style=\"white-space:pre;overflow-x:auto;line-height:normal;font-family:Menlo,'DejaVu Sans Mono',consolas,'Courier New',monospace\">\n",
       "</pre>\n"
      ],
      "text/plain": [
       "\n"
      ]
     },
     "metadata": {},
     "output_type": "display_data"
    },
    {
     "name": "stderr",
     "output_type": "stream",
     "text": [
      "No objective coefficients in model. Unclear what should be optimized\n"
     ]
    }
   ],
   "source": [
    "mouse = load_remote_model('iMM1415')"
   ]
  },
  {
   "cell_type": "code",
   "execution_count": 10,
   "id": "a4220987",
   "metadata": {
    "tags": []
   },
   "outputs": [],
   "source": [
    "raw_count = get_syn_gene_data(mouse, n_sample=9, random_state=42)"
   ]
  },
  {
   "cell_type": "code",
   "execution_count": 11,
   "id": "bca78782",
   "metadata": {
    "tags": []
   },
   "outputs": [
    {
     "data": {
      "text/html": [
       "<div>\n",
       "<style scoped>\n",
       "    .dataframe tbody tr th:only-of-type {\n",
       "        vertical-align: middle;\n",
       "    }\n",
       "\n",
       "    .dataframe tbody tr th {\n",
       "        vertical-align: top;\n",
       "    }\n",
       "\n",
       "    .dataframe thead th {\n",
       "        text-align: right;\n",
       "    }\n",
       "</style>\n",
       "<table border=\"1\" class=\"dataframe\">\n",
       "  <thead>\n",
       "    <tr style=\"text-align: right;\">\n",
       "      <th></th>\n",
       "      <th>sample_0</th>\n",
       "      <th>sample_1</th>\n",
       "      <th>sample_2</th>\n",
       "      <th>sample_3</th>\n",
       "      <th>sample_4</th>\n",
       "      <th>sample_5</th>\n",
       "      <th>sample_6</th>\n",
       "      <th>sample_7</th>\n",
       "      <th>sample_8</th>\n",
       "    </tr>\n",
       "  </thead>\n",
       "  <tbody>\n",
       "    <tr>\n",
       "      <th>12846</th>\n",
       "      <td>1461</td>\n",
       "      <td>1467</td>\n",
       "      <td>1511</td>\n",
       "      <td>1451</td>\n",
       "      <td>1455</td>\n",
       "      <td>1502</td>\n",
       "      <td>1359</td>\n",
       "      <td>1455</td>\n",
       "      <td>1481</td>\n",
       "    </tr>\n",
       "    <tr>\n",
       "      <th>67689</th>\n",
       "      <td>2520</td>\n",
       "      <td>2425</td>\n",
       "      <td>2448</td>\n",
       "      <td>2505</td>\n",
       "      <td>2387</td>\n",
       "      <td>2444</td>\n",
       "      <td>2479</td>\n",
       "      <td>2408</td>\n",
       "      <td>2319</td>\n",
       "    </tr>\n",
       "    <tr>\n",
       "      <th>237940</th>\n",
       "      <td>12245</td>\n",
       "      <td>11857</td>\n",
       "      <td>11953</td>\n",
       "      <td>12095</td>\n",
       "      <td>12054</td>\n",
       "      <td>11849</td>\n",
       "      <td>12323</td>\n",
       "      <td>12163</td>\n",
       "      <td>11762</td>\n",
       "    </tr>\n",
       "    <tr>\n",
       "      <th>222</th>\n",
       "      <td>832</td>\n",
       "      <td>807</td>\n",
       "      <td>825</td>\n",
       "      <td>823</td>\n",
       "      <td>840</td>\n",
       "      <td>845</td>\n",
       "      <td>919</td>\n",
       "      <td>798</td>\n",
       "      <td>860</td>\n",
       "    </tr>\n",
       "    <tr>\n",
       "      <th>76507</th>\n",
       "      <td>30289</td>\n",
       "      <td>30916</td>\n",
       "      <td>30368</td>\n",
       "      <td>31428</td>\n",
       "      <td>30924</td>\n",
       "      <td>30584</td>\n",
       "      <td>30503</td>\n",
       "      <td>30198</td>\n",
       "      <td>30589</td>\n",
       "    </tr>\n",
       "  </tbody>\n",
       "</table>\n",
       "</div>"
      ],
      "text/plain": [
       "        sample_0  sample_1  sample_2  sample_3  sample_4  sample_5  sample_6  \\\n",
       "12846       1461      1467      1511      1451      1455      1502      1359   \n",
       "67689       2520      2425      2448      2505      2387      2444      2479   \n",
       "237940     12245     11857     11953     12095     12054     11849     12323   \n",
       "222          832       807       825       823       840       845       919   \n",
       "76507      30289     30916     30368     31428     30924     30584     30503   \n",
       "\n",
       "        sample_7  sample_8  \n",
       "12846       1455      1481  \n",
       "67689       2408      2319  \n",
       "237940     12163     11762  \n",
       "222          798       860  \n",
       "76507      30198     30589  "
      ]
     },
     "execution_count": 11,
     "metadata": {},
     "output_type": "execute_result"
    }
   ],
   "source": [
    "raw_count.head()"
   ]
  },
  {
   "cell_type": "code",
   "execution_count": 12,
   "id": "fbe36360",
   "metadata": {
    "tags": []
   },
   "outputs": [
    {
     "data": {
      "text/plain": [
       "<seaborn.axisgrid.FacetGrid at 0x1b79dd380d0>"
      ]
     },
     "execution_count": 12,
     "metadata": {},
     "output_type": "execute_result"
    },
    {
     "data": {
      "image/png": "[encoded data removed]",
      "text/plain": [
       "<Figure size 500x500 with 1 Axes>"
      ]
     },
     "metadata": {},
     "output_type": "display_data"
    }
   ],
   "source": [
    "sns.displot(np.log2(raw_count + 1)[\"sample_0\"])"
   ]
  },
  {
   "cell_type": "markdown",
   "id": "5cfdbb68",
   "metadata": {},
   "source": [
    "## Maping gene data to a pipeGEM model"
   ]
  },
  {
   "cell_type": "code",
   "execution_count": 13,
   "id": "dcf13700",
   "metadata": {
    "tags": []
   },
   "outputs": [],
   "source": [
    "from pipeGEM.data import GeneData"
   ]
  },
  {
   "cell_type": "code",
   "execution_count": 17,
   "id": "32ff9a6e",
   "metadata": {
    "tags": []
   },
   "outputs": [],
   "source": [
    "p_mouse = pg.Model(\"imm1415\", mouse)"
   ]
  },
  {
   "cell_type": "code",
   "execution_count": 18,
   "id": "54ea24b2",
   "metadata": {
    "tags": []
   },
   "outputs": [],
   "source": [
    "gene_data = GeneData(data=raw_count[\"sample_0\"], \n",
    "                     data_transform=lambda x: np.log2(x), \n",
    "                     absent_expression=0)"
   ]
  },
  {
   "cell_type": "code",
   "execution_count": 19,
   "id": "39cf8ed2",
   "metadata": {
    "tags": []
   },
   "outputs": [
    {
     "name": "stderr",
     "output_type": "stream",
     "text": [
      "100%|███████████████████████████████████████████████████████████████████████████| 3726/3726 [00:00<00:00, 12051.50it/s]"
     ]
    },
    {
     "name": "stdout",
     "output_type": "stream",
     "text": [
      "Finished mapping in 0.3420863151550293 seconds.\n"
     ]
    },
    {
     "name": "stderr",
     "output_type": "stream",
     "text": [
      "\n"
     ]
    }
   ],
   "source": [
    "p_mouse.add_gene_data(name_or_prefix=\"sample_0\", \n",
    "                      data=gene_data, \n",
    "                      or_operation=\"nanmax\",  # alternative: nansum\n",
    "                      threshold=-np.inf, \n",
    "                      absent_value=-np.inf)"
   ]
  },
  {
   "cell_type": "code",
   "execution_count": 20,
   "id": "2f34f728",
   "metadata": {
    "tags": []
   },
   "outputs": [
    {
     "data": {
      "text/html": [
       "\n",
       "        <table>\n",
       "            <tr>\n",
       "                <td><strong>Reaction identifier</strong></td><td>2HBt2</td>\n",
       "            </tr><tr>\n",
       "                <td><strong>Name</strong></td><td>2 hydroxybutyrate cotransport with proton</td>\n",
       "            </tr><tr>\n",
       "                <td><strong>Memory address</strong></td>\n",
       "                <td>0x1b79f92f8b0</td>\n",
       "            </tr><tr>\n",
       "                <td><strong>Stoichiometry</strong></td>\n",
       "                <td>\n",
       "                    <p style='text-align:right'>2hb_e + h_e <=> 2hb_c + h_c</p>\n",
       "                    <p style='text-align:right'>2 Hydroxybutyrate C4H7O3 + H+ <=> 2 Hydroxybutyrate C4H7O3 + H+</p>\n",
       "                </td>\n",
       "            </tr><tr>\n",
       "                <td><strong>GPR</strong></td><td>80879 or 20503 or 20501</td>\n",
       "            </tr><tr>\n",
       "                <td><strong>Lower bound</strong></td><td>-100000.0</td>\n",
       "            </tr><tr>\n",
       "                <td><strong>Upper bound</strong></td><td>100000.0</td>\n",
       "            </tr>\n",
       "        </table>\n",
       "        "
      ],
      "text/plain": [
       "<Reaction 2HBt2 at 0x1b79f92f8b0>"
      ]
     },
     "execution_count": 20,
     "metadata": {},
     "output_type": "execute_result"
    }
   ],
   "source": [
    "p_mouse.reactions.get_by_id(\"2HBt2\")"
   ]
  },
  {
   "cell_type": "code",
   "execution_count": 21,
   "id": "f45d6cd0",
   "metadata": {
    "tags": []
   },
   "outputs": [
    {
     "data": {
      "text/plain": [
       "15.077358175436048"
      ]
     },
     "execution_count": 21,
     "metadata": {},
     "output_type": "execute_result"
    }
   ],
   "source": [
    "p_mouse.gene_data[\"sample_0\"].rxn_scores[\"2HBt2\"]"
   ]
  },
  {
   "cell_type": "code",
   "execution_count": 22,
   "id": "0acde1ce",
   "metadata": {
    "tags": []
   },
   "outputs": [
    {
     "data": {
      "text/plain": [
       "(12.262388523751019, 14.023407843140218, 15.077358175436048)"
      ]
     },
     "execution_count": 22,
     "metadata": {},
     "output_type": "execute_result"
    }
   ],
   "source": [
    "gene_data.transformed_gene_data[\"80879\"], gene_data.transformed_gene_data[\"20503\"], gene_data.transformed_gene_data[\"20501\"]"
   ]
  },
  {
   "cell_type": "markdown",
   "id": "52983fc5",
   "metadata": {},
   "source": [
    "## Finding data thresholds"
   ]
  },
  {
   "cell_type": "code",
   "execution_count": 23,
   "id": "9d1ca582",
   "metadata": {
    "tags": []
   },
   "outputs": [
    {
     "name": "stdout",
     "output_type": "stream",
     "text": [
      "p_score of init values: 0.05166682619379623\n",
      "original guess:  10.2725845924854 13.87628153509947\n",
      "best fitted Amps:  0.14863768215360654 0.03174552227686612\n",
      "best fitted means:  12.51202902321045 11.26317542557138\n"
     ]
    },
    {
     "name": "stderr",
     "output_type": "stream",
     "text": [
      "C:\\Users\\user\\PycharmProjects\\pipeGEM\\pipeGEM\\analysis\\_threshold.py:158: UserWarning: Fail to find proper parameters, return the best 3 params\n",
      "  warnings.warn(f\"Fail to find proper parameters, return the best {k} params\")\n"
     ]
    }
   ],
   "source": [
    "# modified rFASTCORMICS thresholds\n",
    "rFASTCORMICS_threshold = gene_data.get_threshold(\"rFASTCORMICS\", return_heuristic=False)"
   ]
  },
  {
   "cell_type": "code",
   "execution_count": 24,
   "id": "dcb2b6db",
   "metadata": {
    "tags": []
   },
   "outputs": [
    {
     "data": {
      "image/png": "[encoded data removed]",
      "text/plain": [
       "<Figure size 800x600 with 1 Axes>"
      ]
     },
     "metadata": {},
     "output_type": "display_data"
    },
    {
     "name": "stdout",
     "output_type": "stream",
     "text": [
      "Expression threshold: 12.51202902321045\n"
     ]
    }
   ],
   "source": [
    "rFASTCORMICS_threshold.plot()\n",
    "print(f\"Expression threshold: {rFASTCORMICS_threshold.exp_th}\")"
   ]
  },
  {
   "cell_type": "code",
   "execution_count": 25,
   "id": "348a383c",
   "metadata": {
    "tags": []
   },
   "outputs": [],
   "source": [
    "# percentile thresholds\n",
    "p90_threshold = gene_data.get_threshold(\"percentile\", p=90)\n",
    "p75_threshold = gene_data.get_threshold(\"percentile\", p=75)\n",
    "p50_threshold = gene_data.get_threshold(\"percentile\", p=50)"
   ]
  },
  {
   "cell_type": "code",
   "execution_count": 26,
   "id": "c03a98f6",
   "metadata": {
    "tags": []
   },
   "outputs": [
    {
     "data": {
      "text/plain": [
       "(12.282798858683533, 13.881009769447015, 15.35267145440937)"
      ]
     },
     "execution_count": 26,
     "metadata": {},
     "output_type": "execute_result"
    }
   ],
   "source": [
    "p50_threshold.exp_th, p75_threshold.exp_th, p90_threshold.exp_th"
   ]
  },
  {
   "cell_type": "code",
   "execution_count": 27,
   "id": "6da7f708",
   "metadata": {
    "tags": []
   },
   "outputs": [
    {
     "data": {
      "image/png": "[encoded data removed]",
      "text/plain": [
       "<Figure size 800x600 with 1 Axes>"
      ]
     },
     "metadata": {},
     "output_type": "display_data"
    },
    {
     "data": {
      "image/png": "[encoded data removed]",
      "text/plain": [
       "<Figure size 800x600 with 1 Axes>"
      ]
     },
     "metadata": {},
     "output_type": "display_data"
    }
   ],
   "source": [
    "p90_threshold.plot()\n",
    "p75_threshold.plot()"
   ]
  },
  {
   "cell_type": "markdown",
   "id": "af6e0032",
   "metadata": {},
   "source": [
    "## Visualizing gene data"
   ]
  },
  {
   "cell_type": "code",
   "execution_count": 28,
   "id": "21dbdd7c",
   "metadata": {
    "tags": []
   },
   "outputs": [],
   "source": [
    "gene_data_dict = {k: GeneData(data=v, \n",
    "                              data_transform=lambda x: np.log2(x), \n",
    "                              absent_expression=-np.inf) \n",
    "                  for k, v in raw_count.items()}"
   ]
  },
  {
   "cell_type": "code",
   "execution_count": 29,
   "id": "87ec8d3e",
   "metadata": {
    "tags": []
   },
   "outputs": [
    {
     "data": {
      "text/plain": [
       "{'sample_0': <pipeGEM.data.data.GeneData at 0x1b7b99b0f10>,\n",
       " 'sample_1': <pipeGEM.data.data.GeneData at 0x1b7b99b05b0>,\n",
       " 'sample_2': <pipeGEM.data.data.GeneData at 0x1b7b99b01f0>,\n",
       " 'sample_3': <pipeGEM.data.data.GeneData at 0x1b7b99b0310>,\n",
       " 'sample_4': <pipeGEM.data.data.GeneData at 0x1b7b99b1240>,\n",
       " 'sample_5': <pipeGEM.data.data.GeneData at 0x1b7b99b0400>,\n",
       " 'sample_6': <pipeGEM.data.data.GeneData at 0x1b7b550ff40>,\n",
       " 'sample_7': <pipeGEM.data.data.GeneData at 0x1b7b99f6d40>,\n",
       " 'sample_8': <pipeGEM.data.data.GeneData at 0x1b7b9a09270>}"
      ]
     },
     "execution_count": 29,
     "metadata": {},
     "output_type": "execute_result"
    }
   ],
   "source": [
    "gene_data_dict"
   ]
  },
  {
   "cell_type": "code",
   "execution_count": 30,
   "id": "ac878e26",
   "metadata": {
    "tags": []
   },
   "outputs": [],
   "source": [
    "agg_data = GeneData.aggregate(gene_data_dict, prop=\"data\")"
   ]
  },
  {
   "cell_type": "code",
   "execution_count": 31,
   "id": "512f72d7",
   "metadata": {
    "tags": []
   },
   "outputs": [],
   "source": [
    "corr_result = agg_data.corr()"
   ]
  },
  {
   "cell_type": "code",
   "execution_count": 32,
   "id": "3e559925",
   "metadata": {
    "tags": []
   },
   "outputs": [
    {
     "data": {
      "image/png": "[encoded data removed]",
      "text/plain": [
       "<Figure size 900x900 with 2 Axes>"
      ]
     },
     "metadata": {},
     "output_type": "display_data"
    }
   ],
   "source": [
    "corr_result.plot()"
   ]
  },
  {
   "cell_type": "code",
   "execution_count": 37,
   "id": "10c7a56d-fcba-4210-9c25-80225bc7e11d",
   "metadata": {
    "tags": []
   },
   "outputs": [
    {
     "data": {
      "text/plain": [
       "           sample_0  sample_1  sample_2  sample_3  sample_4  sample_5  \\\n",
       "100039108      2038    2127.0      2131      1993      1974      2060   \n",
       "100041375     26814   28565.0     27612     28233     27654     27167   \n",
       "100042918      6390    6406.0      6300      6626      6411      6507   \n",
       "100043349      7807    7959.0      8055      7923      7858      7845   \n",
       "100043472      5752    5702.0      5709      5584      5685      5777   \n",
       "...             ...       ...       ...       ...       ...       ...   \n",
       "99439           171     181.0       162       152       181       157   \n",
       "9952           4010    4115.0      4243      4284      4012      4046   \n",
       "9954           4028    3868.0      4056      4097      4065      3925   \n",
       "99586           195     214.0       201       209       198       228   \n",
       "99712          4116    4027.0      4051      4232      4112      4058   \n",
       "\n",
       "           sample_6  sample_7  sample_8  \n",
       "100039108      2042      1997      2071  \n",
       "100041375     27972     27790     27702  \n",
       "100042918      6176      6393      6306  \n",
       "100043349      7973      7785      8181  \n",
       "100043472      5582      5610      5511  \n",
       "...             ...       ...       ...  \n",
       "99439           167       159       150  \n",
       "9952           4051      4126      4245  \n",
       "9954           3975      3995      4058  \n",
       "99586           220       234       202  \n",
       "99712          4096      4200      4098  \n",
       "\n",
       "[1375 rows x 9 columns]"
      ]
     },
     "execution_count": 37,
     "metadata": {},
     "output_type": "execute_result"
    }
   ],
   "source": [
    "agg_data"
   ]
  },
  {
   "cell_type": "code",
   "execution_count": 35,
   "id": "4ea0fee3",
   "metadata": {
    "tags": []
   },
   "outputs": [
    {
     "ename": "ValueError",
     "evalue": "Input X contains infinity or a value too large for dtype('float64').",
     "output_type": "error",
     "traceback": [
      "\u001b[1;31m---------------------------------------------------------------------------\u001b[0m",
      "\u001b[1;31mValueError\u001b[0m                                Traceback (most recent call last)",
      "Cell \u001b[1;32mIn[35], line 1\u001b[0m\n\u001b[1;32m----> 1\u001b[0m pca_result \u001b[38;5;241m=\u001b[39m \u001b[43magg_data\u001b[49m\u001b[38;5;241;43m.\u001b[39;49m\u001b[43mdim_reduction\u001b[49m\u001b[43m(\u001b[49m\u001b[43mmethod\u001b[49m\u001b[38;5;241;43m=\u001b[39;49m\u001b[38;5;124;43m\"\u001b[39;49m\u001b[38;5;124;43mPCA\u001b[39;49m\u001b[38;5;124;43m\"\u001b[39;49m\u001b[43m)\u001b[49m\n",
      "File \u001b[1;32m~\\PycharmProjects\\pipeGEM\\pipeGEM\\analysis\\results\\data.py:31\u001b[0m, in \u001b[0;36mDataAggregation.dim_reduction\u001b[1;34m(self, method, **kwargs)\u001b[0m\n\u001b[0;32m     25\u001b[0m \u001b[38;5;28;01mdef\u001b[39;00m \u001b[38;5;21mdim_reduction\u001b[39m(\u001b[38;5;28mself\u001b[39m,\n\u001b[0;32m     26\u001b[0m                   method\u001b[38;5;241m=\u001b[39m\u001b[38;5;124m\"\u001b[39m\u001b[38;5;124mPCA\u001b[39m\u001b[38;5;124m\"\u001b[39m,\n\u001b[0;32m     27\u001b[0m                   \u001b[38;5;241m*\u001b[39m\u001b[38;5;241m*\u001b[39mkwargs\n\u001b[0;32m     28\u001b[0m                   ) \u001b[38;5;241m-\u001b[39m\u001b[38;5;241m>\u001b[39m Union[PCA_Analysis, EmbeddingAnalysis]:\n\u001b[0;32m     30\u001b[0m     \u001b[38;5;28;01mif\u001b[39;00m method \u001b[38;5;241m==\u001b[39m \u001b[38;5;124m\"\u001b[39m\u001b[38;5;124mPCA\u001b[39m\u001b[38;5;124m\"\u001b[39m:\n\u001b[1;32m---> 31\u001b[0m         final_df, exp_var_df, component_df \u001b[38;5;241m=\u001b[39m prepare_PCA_dfs(\u001b[38;5;28mself\u001b[39m\u001b[38;5;241m.\u001b[39m_result,\n\u001b[0;32m     32\u001b[0m                                                              \u001b[38;5;241m*\u001b[39m\u001b[38;5;241m*\u001b[39mkwargs)\n\u001b[0;32m     33\u001b[0m         result \u001b[38;5;241m=\u001b[39m PCA_Analysis(log\u001b[38;5;241m=\u001b[39m{\u001b[38;5;241m*\u001b[39m\u001b[38;5;241m*\u001b[39mkwargs, \u001b[38;5;241m*\u001b[39m\u001b[38;5;241m*\u001b[39m\u001b[38;5;28mself\u001b[39m\u001b[38;5;241m.\u001b[39mlog})\n\u001b[0;32m     34\u001b[0m         result\u001b[38;5;241m.\u001b[39madd_result({\u001b[38;5;124m\"\u001b[39m\u001b[38;5;124mPC\u001b[39m\u001b[38;5;124m\"\u001b[39m: final_df, \u001b[38;5;124m\"\u001b[39m\u001b[38;5;124mexp_var\u001b[39m\u001b[38;5;124m\"\u001b[39m: exp_var_df, \u001b[38;5;124m\"\u001b[39m\u001b[38;5;124mcomponents\u001b[39m\u001b[38;5;124m\"\u001b[39m: component_df})\n",
      "File \u001b[1;32m~\\PycharmProjects\\pipeGEM\\pipeGEM\\analysis\\_dim_reduction.py:67\u001b[0m, in \u001b[0;36mprepare_PCA_dfs\u001b[1;34m(feature_df, transform_func, n_components, standardize, incremental)\u001b[0m\n\u001b[0;32m     65\u001b[0m \u001b[38;5;28;01melse\u001b[39;00m:\n\u001b[0;32m     66\u001b[0m     x \u001b[38;5;241m=\u001b[39m feature_df\n\u001b[1;32m---> 67\u001b[0m x \u001b[38;5;241m=\u001b[39m \u001b[43mStandardScaler\u001b[49m\u001b[43m(\u001b[49m\u001b[43m)\u001b[49m\u001b[38;5;241;43m.\u001b[39;49m\u001b[43mfit_transform\u001b[49m\u001b[43m(\u001b[49m\u001b[43mx\u001b[49m\u001b[38;5;241;43m.\u001b[39;49m\u001b[43mvalues\u001b[49m\u001b[38;5;241;43m.\u001b[39;49m\u001b[43mT\u001b[49m\u001b[43m)\u001b[49m \u001b[38;5;28;01mif\u001b[39;00m standardize \u001b[38;5;28;01melse\u001b[39;00m x\u001b[38;5;241m.\u001b[39mvalues\u001b[38;5;241m.\u001b[39mT\n\u001b[0;32m     69\u001b[0m \u001b[38;5;28;01mif\u001b[39;00m \u001b[38;5;129;01mnot\u001b[39;00m n_components:\n\u001b[0;32m     70\u001b[0m     n_components \u001b[38;5;241m=\u001b[39m \u001b[38;5;28mmin\u001b[39m(x\u001b[38;5;241m.\u001b[39mshape[\u001b[38;5;241m0\u001b[39m], x\u001b[38;5;241m.\u001b[39mshape[\u001b[38;5;241m1\u001b[39m])\n",
      "File \u001b[1;32m~\\mambaforge\\envs\\py310\\lib\\site-packages\\sklearn\\utils\\_set_output.py:140\u001b[0m, in \u001b[0;36m_wrap_method_output.<locals>.wrapped\u001b[1;34m(self, X, *args, **kwargs)\u001b[0m\n\u001b[0;32m    138\u001b[0m \u001b[38;5;129m@wraps\u001b[39m(f)\n\u001b[0;32m    139\u001b[0m \u001b[38;5;28;01mdef\u001b[39;00m \u001b[38;5;21mwrapped\u001b[39m(\u001b[38;5;28mself\u001b[39m, X, \u001b[38;5;241m*\u001b[39margs, \u001b[38;5;241m*\u001b[39m\u001b[38;5;241m*\u001b[39mkwargs):\n\u001b[1;32m--> 140\u001b[0m     data_to_wrap \u001b[38;5;241m=\u001b[39m f(\u001b[38;5;28mself\u001b[39m, X, \u001b[38;5;241m*\u001b[39margs, \u001b[38;5;241m*\u001b[39m\u001b[38;5;241m*\u001b[39mkwargs)\n\u001b[0;32m    141\u001b[0m     \u001b[38;5;28;01mif\u001b[39;00m \u001b[38;5;28misinstance\u001b[39m(data_to_wrap, \u001b[38;5;28mtuple\u001b[39m):\n\u001b[0;32m    142\u001b[0m         \u001b[38;5;66;03m# only wrap the first output for cross decomposition\u001b[39;00m\n\u001b[0;32m    143\u001b[0m         \u001b[38;5;28;01mreturn\u001b[39;00m (\n\u001b[0;32m    144\u001b[0m             _wrap_data_with_container(method, data_to_wrap[\u001b[38;5;241m0\u001b[39m], X, \u001b[38;5;28mself\u001b[39m),\n\u001b[0;32m    145\u001b[0m             \u001b[38;5;241m*\u001b[39mdata_to_wrap[\u001b[38;5;241m1\u001b[39m:],\n\u001b[0;32m    146\u001b[0m         )\n",
      "File \u001b[1;32m~\\mambaforge\\envs\\py310\\lib\\site-packages\\sklearn\\base.py:878\u001b[0m, in \u001b[0;36mTransformerMixin.fit_transform\u001b[1;34m(self, X, y, **fit_params)\u001b[0m\n\u001b[0;32m    874\u001b[0m \u001b[38;5;66;03m# non-optimized default implementation; override when a better\u001b[39;00m\n\u001b[0;32m    875\u001b[0m \u001b[38;5;66;03m# method is possible for a given clustering algorithm\u001b[39;00m\n\u001b[0;32m    876\u001b[0m \u001b[38;5;28;01mif\u001b[39;00m y \u001b[38;5;129;01mis\u001b[39;00m \u001b[38;5;28;01mNone\u001b[39;00m:\n\u001b[0;32m    877\u001b[0m     \u001b[38;5;66;03m# fit method of arity 1 (unsupervised transformation)\u001b[39;00m\n\u001b[1;32m--> 878\u001b[0m     \u001b[38;5;28;01mreturn\u001b[39;00m \u001b[38;5;28mself\u001b[39m\u001b[38;5;241m.\u001b[39mfit(X, \u001b[38;5;241m*\u001b[39m\u001b[38;5;241m*\u001b[39mfit_params)\u001b[38;5;241m.\u001b[39mtransform(X)\n\u001b[0;32m    879\u001b[0m \u001b[38;5;28;01melse\u001b[39;00m:\n\u001b[0;32m    880\u001b[0m     \u001b[38;5;66;03m# fit method of arity 2 (supervised transformation)\u001b[39;00m\n\u001b[0;32m    881\u001b[0m     \u001b[38;5;28;01mreturn\u001b[39;00m \u001b[38;5;28mself\u001b[39m\u001b[38;5;241m.\u001b[39mfit(X, y, \u001b[38;5;241m*\u001b[39m\u001b[38;5;241m*\u001b[39mfit_params)\u001b[38;5;241m.\u001b[39mtransform(X)\n",
      "File \u001b[1;32m~\\mambaforge\\envs\\py310\\lib\\site-packages\\sklearn\\preprocessing\\_data.py:824\u001b[0m, in \u001b[0;36mStandardScaler.fit\u001b[1;34m(self, X, y, sample_weight)\u001b[0m\n\u001b[0;32m    822\u001b[0m \u001b[38;5;66;03m# Reset internal state before fitting\u001b[39;00m\n\u001b[0;32m    823\u001b[0m \u001b[38;5;28mself\u001b[39m\u001b[38;5;241m.\u001b[39m_reset()\n\u001b[1;32m--> 824\u001b[0m \u001b[38;5;28;01mreturn\u001b[39;00m \u001b[38;5;28;43mself\u001b[39;49m\u001b[38;5;241;43m.\u001b[39;49m\u001b[43mpartial_fit\u001b[49m\u001b[43m(\u001b[49m\u001b[43mX\u001b[49m\u001b[43m,\u001b[49m\u001b[43m \u001b[49m\u001b[43my\u001b[49m\u001b[43m,\u001b[49m\u001b[43m \u001b[49m\u001b[43msample_weight\u001b[49m\u001b[43m)\u001b[49m\n",
      "File \u001b[1;32m~\\mambaforge\\envs\\py310\\lib\\site-packages\\sklearn\\preprocessing\\_data.py:861\u001b[0m, in \u001b[0;36mStandardScaler.partial_fit\u001b[1;34m(self, X, y, sample_weight)\u001b[0m\n\u001b[0;32m    858\u001b[0m \u001b[38;5;28mself\u001b[39m\u001b[38;5;241m.\u001b[39m_validate_params()\n\u001b[0;32m    860\u001b[0m first_call \u001b[38;5;241m=\u001b[39m \u001b[38;5;129;01mnot\u001b[39;00m \u001b[38;5;28mhasattr\u001b[39m(\u001b[38;5;28mself\u001b[39m, \u001b[38;5;124m\"\u001b[39m\u001b[38;5;124mn_samples_seen_\u001b[39m\u001b[38;5;124m\"\u001b[39m)\n\u001b[1;32m--> 861\u001b[0m X \u001b[38;5;241m=\u001b[39m \u001b[38;5;28;43mself\u001b[39;49m\u001b[38;5;241;43m.\u001b[39;49m\u001b[43m_validate_data\u001b[49m\u001b[43m(\u001b[49m\n\u001b[0;32m    862\u001b[0m \u001b[43m    \u001b[49m\u001b[43mX\u001b[49m\u001b[43m,\u001b[49m\n\u001b[0;32m    863\u001b[0m \u001b[43m    \u001b[49m\u001b[43maccept_sparse\u001b[49m\u001b[38;5;241;43m=\u001b[39;49m\u001b[43m(\u001b[49m\u001b[38;5;124;43m\"\u001b[39;49m\u001b[38;5;124;43mcsr\u001b[39;49m\u001b[38;5;124;43m\"\u001b[39;49m\u001b[43m,\u001b[49m\u001b[43m \u001b[49m\u001b[38;5;124;43m\"\u001b[39;49m\u001b[38;5;124;43mcsc\u001b[39;49m\u001b[38;5;124;43m\"\u001b[39;49m\u001b[43m)\u001b[49m\u001b[43m,\u001b[49m\n\u001b[0;32m    864\u001b[0m \u001b[43m    \u001b[49m\u001b[43mdtype\u001b[49m\u001b[38;5;241;43m=\u001b[39;49m\u001b[43mFLOAT_DTYPES\u001b[49m\u001b[43m,\u001b[49m\n\u001b[0;32m    865\u001b[0m \u001b[43m    \u001b[49m\u001b[43mforce_all_finite\u001b[49m\u001b[38;5;241;43m=\u001b[39;49m\u001b[38;5;124;43m\"\u001b[39;49m\u001b[38;5;124;43mallow-nan\u001b[39;49m\u001b[38;5;124;43m\"\u001b[39;49m\u001b[43m,\u001b[49m\n\u001b[0;32m    866\u001b[0m \u001b[43m    \u001b[49m\u001b[43mreset\u001b[49m\u001b[38;5;241;43m=\u001b[39;49m\u001b[43mfirst_call\u001b[49m\u001b[43m,\u001b[49m\n\u001b[0;32m    867\u001b[0m \u001b[43m\u001b[49m\u001b[43m)\u001b[49m\n\u001b[0;32m    868\u001b[0m n_features \u001b[38;5;241m=\u001b[39m X\u001b[38;5;241m.\u001b[39mshape[\u001b[38;5;241m1\u001b[39m]\n\u001b[0;32m    870\u001b[0m \u001b[38;5;28;01mif\u001b[39;00m sample_weight \u001b[38;5;129;01mis\u001b[39;00m \u001b[38;5;129;01mnot\u001b[39;00m \u001b[38;5;28;01mNone\u001b[39;00m:\n",
      "File \u001b[1;32m~\\mambaforge\\envs\\py310\\lib\\site-packages\\sklearn\\base.py:565\u001b[0m, in \u001b[0;36mBaseEstimator._validate_data\u001b[1;34m(self, X, y, reset, validate_separately, **check_params)\u001b[0m\n\u001b[0;32m    563\u001b[0m     \u001b[38;5;28;01mraise\u001b[39;00m \u001b[38;5;167;01mValueError\u001b[39;00m(\u001b[38;5;124m\"\u001b[39m\u001b[38;5;124mValidation should be done on X, y or both.\u001b[39m\u001b[38;5;124m\"\u001b[39m)\n\u001b[0;32m    564\u001b[0m \u001b[38;5;28;01melif\u001b[39;00m \u001b[38;5;129;01mnot\u001b[39;00m no_val_X \u001b[38;5;129;01mand\u001b[39;00m no_val_y:\n\u001b[1;32m--> 565\u001b[0m     X \u001b[38;5;241m=\u001b[39m check_array(X, input_name\u001b[38;5;241m=\u001b[39m\u001b[38;5;124m\"\u001b[39m\u001b[38;5;124mX\u001b[39m\u001b[38;5;124m\"\u001b[39m, \u001b[38;5;241m*\u001b[39m\u001b[38;5;241m*\u001b[39mcheck_params)\n\u001b[0;32m    566\u001b[0m     out \u001b[38;5;241m=\u001b[39m X\n\u001b[0;32m    567\u001b[0m \u001b[38;5;28;01melif\u001b[39;00m no_val_X \u001b[38;5;129;01mand\u001b[39;00m \u001b[38;5;129;01mnot\u001b[39;00m no_val_y:\n",
      "File \u001b[1;32m~\\mambaforge\\envs\\py310\\lib\\site-packages\\sklearn\\utils\\validation.py:921\u001b[0m, in \u001b[0;36mcheck_array\u001b[1;34m(array, accept_sparse, accept_large_sparse, dtype, order, copy, force_all_finite, ensure_2d, allow_nd, ensure_min_samples, ensure_min_features, estimator, input_name)\u001b[0m\n\u001b[0;32m    915\u001b[0m         \u001b[38;5;28;01mraise\u001b[39;00m \u001b[38;5;167;01mValueError\u001b[39;00m(\n\u001b[0;32m    916\u001b[0m             \u001b[38;5;124m\"\u001b[39m\u001b[38;5;124mFound array with dim \u001b[39m\u001b[38;5;132;01m%d\u001b[39;00m\u001b[38;5;124m. \u001b[39m\u001b[38;5;132;01m%s\u001b[39;00m\u001b[38;5;124m expected <= 2.\u001b[39m\u001b[38;5;124m\"\u001b[39m\n\u001b[0;32m    917\u001b[0m             \u001b[38;5;241m%\u001b[39m (array\u001b[38;5;241m.\u001b[39mndim, estimator_name)\n\u001b[0;32m    918\u001b[0m         )\n\u001b[0;32m    920\u001b[0m     \u001b[38;5;28;01mif\u001b[39;00m force_all_finite:\n\u001b[1;32m--> 921\u001b[0m         \u001b[43m_assert_all_finite\u001b[49m\u001b[43m(\u001b[49m\n\u001b[0;32m    922\u001b[0m \u001b[43m            \u001b[49m\u001b[43marray\u001b[49m\u001b[43m,\u001b[49m\n\u001b[0;32m    923\u001b[0m \u001b[43m            \u001b[49m\u001b[43minput_name\u001b[49m\u001b[38;5;241;43m=\u001b[39;49m\u001b[43minput_name\u001b[49m\u001b[43m,\u001b[49m\n\u001b[0;32m    924\u001b[0m \u001b[43m            \u001b[49m\u001b[43mestimator_name\u001b[49m\u001b[38;5;241;43m=\u001b[39;49m\u001b[43mestimator_name\u001b[49m\u001b[43m,\u001b[49m\n\u001b[0;32m    925\u001b[0m \u001b[43m            \u001b[49m\u001b[43mallow_nan\u001b[49m\u001b[38;5;241;43m=\u001b[39;49m\u001b[43mforce_all_finite\u001b[49m\u001b[43m \u001b[49m\u001b[38;5;241;43m==\u001b[39;49m\u001b[43m \u001b[49m\u001b[38;5;124;43m\"\u001b[39;49m\u001b[38;5;124;43mallow-nan\u001b[39;49m\u001b[38;5;124;43m\"\u001b[39;49m\u001b[43m,\u001b[49m\n\u001b[0;32m    926\u001b[0m \u001b[43m        \u001b[49m\u001b[43m)\u001b[49m\n\u001b[0;32m    928\u001b[0m \u001b[38;5;28;01mif\u001b[39;00m ensure_min_samples \u001b[38;5;241m>\u001b[39m \u001b[38;5;241m0\u001b[39m:\n\u001b[0;32m    929\u001b[0m     n_samples \u001b[38;5;241m=\u001b[39m _num_samples(array)\n",
      "File \u001b[1;32m~\\mambaforge\\envs\\py310\\lib\\site-packages\\sklearn\\utils\\validation.py:161\u001b[0m, in \u001b[0;36m_assert_all_finite\u001b[1;34m(X, allow_nan, msg_dtype, estimator_name, input_name)\u001b[0m\n\u001b[0;32m    144\u001b[0m \u001b[38;5;28;01mif\u001b[39;00m estimator_name \u001b[38;5;129;01mand\u001b[39;00m input_name \u001b[38;5;241m==\u001b[39m \u001b[38;5;124m\"\u001b[39m\u001b[38;5;124mX\u001b[39m\u001b[38;5;124m\"\u001b[39m \u001b[38;5;129;01mand\u001b[39;00m has_nan_error:\n\u001b[0;32m    145\u001b[0m     \u001b[38;5;66;03m# Improve the error message on how to handle missing values in\u001b[39;00m\n\u001b[0;32m    146\u001b[0m     \u001b[38;5;66;03m# scikit-learn.\u001b[39;00m\n\u001b[0;32m    147\u001b[0m     msg_err \u001b[38;5;241m+\u001b[39m\u001b[38;5;241m=\u001b[39m (\n\u001b[0;32m    148\u001b[0m         \u001b[38;5;124mf\u001b[39m\u001b[38;5;124m\"\u001b[39m\u001b[38;5;130;01m\\n\u001b[39;00m\u001b[38;5;132;01m{\u001b[39;00mestimator_name\u001b[38;5;132;01m}\u001b[39;00m\u001b[38;5;124m does not accept missing values\u001b[39m\u001b[38;5;124m\"\u001b[39m\n\u001b[0;32m    149\u001b[0m         \u001b[38;5;124m\"\u001b[39m\u001b[38;5;124m encoded as NaN natively. For supervised learning, you might want\u001b[39m\u001b[38;5;124m\"\u001b[39m\n\u001b[1;32m   (...)\u001b[0m\n\u001b[0;32m    159\u001b[0m         \u001b[38;5;124m\"\u001b[39m\u001b[38;5;124m#estimators-that-handle-nan-values\u001b[39m\u001b[38;5;124m\"\u001b[39m\n\u001b[0;32m    160\u001b[0m     )\n\u001b[1;32m--> 161\u001b[0m \u001b[38;5;28;01mraise\u001b[39;00m \u001b[38;5;167;01mValueError\u001b[39;00m(msg_err)\n",
      "\u001b[1;31mValueError\u001b[0m: Input X contains infinity or a value too large for dtype('float64')."
     ]
    }
   ],
   "source": [
    "pca_result = agg_data.dim_reduction(method=\"PCA\")"
   ]
  },
  {
   "cell_type": "code",
   "execution_count": null,
   "id": "6c59fe65",
   "metadata": {
    "tags": []
   },
   "outputs": [],
   "source": [
    "pca_result.plot()"
   ]
  },
  {
   "cell_type": "code",
   "execution_count": 36,
   "id": "30c23e20",
   "metadata": {
    "tags": []
   },
   "outputs": [
    {
     "ename": "ValueError",
     "evalue": "Input X contains infinity or a value too large for dtype('float64').",
     "output_type": "error",
     "traceback": [
      "\u001b[1;31m---------------------------------------------------------------------------\u001b[0m",
      "\u001b[1;31mValueError\u001b[0m                                Traceback (most recent call last)",
      "Cell \u001b[1;32mIn[36], line 1\u001b[0m\n\u001b[1;32m----> 1\u001b[0m tsne_result \u001b[38;5;241m=\u001b[39m \u001b[43magg_data\u001b[49m\u001b[38;5;241;43m.\u001b[39;49m\u001b[43mdim_reduction\u001b[49m\u001b[43m(\u001b[49m\u001b[43mmethod\u001b[49m\u001b[38;5;241;43m=\u001b[39;49m\u001b[38;5;124;43m\"\u001b[39;49m\u001b[38;5;124;43mTSNE\u001b[39;49m\u001b[38;5;124;43m\"\u001b[39;49m\u001b[43m)\u001b[49m\n\u001b[0;32m      2\u001b[0m tsne_result\u001b[38;5;241m.\u001b[39mplot()\n",
      "File \u001b[1;32m~\\PycharmProjects\\pipeGEM\\pipeGEM\\analysis\\results\\data.py:37\u001b[0m, in \u001b[0;36mDataAggregation.dim_reduction\u001b[1;34m(self, method, **kwargs)\u001b[0m\n\u001b[0;32m     35\u001b[0m     \u001b[38;5;28;01mreturn\u001b[39;00m result\n\u001b[0;32m     36\u001b[0m \u001b[38;5;28;01melse\u001b[39;00m:\n\u001b[1;32m---> 37\u001b[0m     emb_df \u001b[38;5;241m=\u001b[39m prepare_embedding_dfs(\u001b[38;5;28mself\u001b[39m\u001b[38;5;241m.\u001b[39m_result,\n\u001b[0;32m     38\u001b[0m                                    reducer\u001b[38;5;241m=\u001b[39mmethod,\n\u001b[0;32m     39\u001b[0m                                    \u001b[38;5;241m*\u001b[39m\u001b[38;5;241m*\u001b[39mkwargs)\n\u001b[0;32m     40\u001b[0m     result \u001b[38;5;241m=\u001b[39m EmbeddingAnalysis(log\u001b[38;5;241m=\u001b[39m{\u001b[38;5;241m*\u001b[39m\u001b[38;5;241m*\u001b[39mkwargs, \u001b[38;5;241m*\u001b[39m\u001b[38;5;241m*\u001b[39m\u001b[38;5;28mself\u001b[39m\u001b[38;5;241m.\u001b[39mlog})\n\u001b[0;32m     41\u001b[0m     result\u001b[38;5;241m.\u001b[39madd_result(emb_df, method\u001b[38;5;241m=\u001b[39mmethod)\n",
      "File \u001b[1;32m~\\PycharmProjects\\pipeGEM\\pipeGEM\\analysis\\_dim_reduction.py:114\u001b[0m, in \u001b[0;36mprepare_embedding_dfs\u001b[1;34m(feature_df, transform_func, n_components, reducer, standardize, **kwargs)\u001b[0m\n\u001b[0;32m    112\u001b[0m     reducer \u001b[38;5;241m=\u001b[39m Reducer(reducer)\n\u001b[0;32m    113\u001b[0m sample_names \u001b[38;5;241m=\u001b[39m feature_df\u001b[38;5;241m.\u001b[39mcolumns\u001b[38;5;241m.\u001b[39mto_list()\n\u001b[1;32m--> 114\u001b[0m x \u001b[38;5;241m=\u001b[39m \u001b[43mStandardScaler\u001b[49m\u001b[43m(\u001b[49m\u001b[43m)\u001b[49m\u001b[38;5;241;43m.\u001b[39;49m\u001b[43mfit_transform\u001b[49m\u001b[43m(\u001b[49m\u001b[43mx\u001b[49m\u001b[38;5;241;43m.\u001b[39;49m\u001b[43mT\u001b[49m\u001b[43m)\u001b[49m \u001b[38;5;28;01mif\u001b[39;00m standardize \u001b[38;5;28;01melse\u001b[39;00m x\u001b[38;5;241m.\u001b[39mvalues\u001b[38;5;241m.\u001b[39mT\n\u001b[0;32m    115\u001b[0m \u001b[38;5;28;01mif\u001b[39;00m reducer \u001b[38;5;241m==\u001b[39m Reducer(\u001b[38;5;124m\"\u001b[39m\u001b[38;5;124mTSNE\u001b[39m\u001b[38;5;124m\"\u001b[39m) \u001b[38;5;129;01mand\u001b[39;00m kwargs\u001b[38;5;241m.\u001b[39mget(\u001b[38;5;124m\"\u001b[39m\u001b[38;5;124mperplexity\u001b[39m\u001b[38;5;124m\"\u001b[39m) \u001b[38;5;129;01mis\u001b[39;00m \u001b[38;5;28;01mNone\u001b[39;00m:\n\u001b[0;32m    116\u001b[0m     kwargs[\u001b[38;5;124m\"\u001b[39m\u001b[38;5;124mperplexity\u001b[39m\u001b[38;5;124m\"\u001b[39m] \u001b[38;5;241m=\u001b[39m \u001b[38;5;28mmin\u001b[39m(x\u001b[38;5;241m.\u001b[39mshape[\u001b[38;5;241m0\u001b[39m]\u001b[38;5;241m-\u001b[39m\u001b[38;5;241m1\u001b[39m, \u001b[38;5;241m30\u001b[39m)\n",
      "File \u001b[1;32m~\\mambaforge\\envs\\py310\\lib\\site-packages\\sklearn\\utils\\_set_output.py:140\u001b[0m, in \u001b[0;36m_wrap_method_output.<locals>.wrapped\u001b[1;34m(self, X, *args, **kwargs)\u001b[0m\n\u001b[0;32m    138\u001b[0m \u001b[38;5;129m@wraps\u001b[39m(f)\n\u001b[0;32m    139\u001b[0m \u001b[38;5;28;01mdef\u001b[39;00m \u001b[38;5;21mwrapped\u001b[39m(\u001b[38;5;28mself\u001b[39m, X, \u001b[38;5;241m*\u001b[39margs, \u001b[38;5;241m*\u001b[39m\u001b[38;5;241m*\u001b[39mkwargs):\n\u001b[1;32m--> 140\u001b[0m     data_to_wrap \u001b[38;5;241m=\u001b[39m f(\u001b[38;5;28mself\u001b[39m, X, \u001b[38;5;241m*\u001b[39margs, \u001b[38;5;241m*\u001b[39m\u001b[38;5;241m*\u001b[39mkwargs)\n\u001b[0;32m    141\u001b[0m     \u001b[38;5;28;01mif\u001b[39;00m \u001b[38;5;28misinstance\u001b[39m(data_to_wrap, \u001b[38;5;28mtuple\u001b[39m):\n\u001b[0;32m    142\u001b[0m         \u001b[38;5;66;03m# only wrap the first output for cross decomposition\u001b[39;00m\n\u001b[0;32m    143\u001b[0m         \u001b[38;5;28;01mreturn\u001b[39;00m (\n\u001b[0;32m    144\u001b[0m             _wrap_data_with_container(method, data_to_wrap[\u001b[38;5;241m0\u001b[39m], X, \u001b[38;5;28mself\u001b[39m),\n\u001b[0;32m    145\u001b[0m             \u001b[38;5;241m*\u001b[39mdata_to_wrap[\u001b[38;5;241m1\u001b[39m:],\n\u001b[0;32m    146\u001b[0m         )\n",
      "File \u001b[1;32m~\\mambaforge\\envs\\py310\\lib\\site-packages\\sklearn\\base.py:878\u001b[0m, in \u001b[0;36mTransformerMixin.fit_transform\u001b[1;34m(self, X, y, **fit_params)\u001b[0m\n\u001b[0;32m    874\u001b[0m \u001b[38;5;66;03m# non-optimized default implementation; override when a better\u001b[39;00m\n\u001b[0;32m    875\u001b[0m \u001b[38;5;66;03m# method is possible for a given clustering algorithm\u001b[39;00m\n\u001b[0;32m    876\u001b[0m \u001b[38;5;28;01mif\u001b[39;00m y \u001b[38;5;129;01mis\u001b[39;00m \u001b[38;5;28;01mNone\u001b[39;00m:\n\u001b[0;32m    877\u001b[0m     \u001b[38;5;66;03m# fit method of arity 1 (unsupervised transformation)\u001b[39;00m\n\u001b[1;32m--> 878\u001b[0m     \u001b[38;5;28;01mreturn\u001b[39;00m \u001b[38;5;28mself\u001b[39m\u001b[38;5;241m.\u001b[39mfit(X, \u001b[38;5;241m*\u001b[39m\u001b[38;5;241m*\u001b[39mfit_params)\u001b[38;5;241m.\u001b[39mtransform(X)\n\u001b[0;32m    879\u001b[0m \u001b[38;5;28;01melse\u001b[39;00m:\n\u001b[0;32m    880\u001b[0m     \u001b[38;5;66;03m# fit method of arity 2 (supervised transformation)\u001b[39;00m\n\u001b[0;32m    881\u001b[0m     \u001b[38;5;28;01mreturn\u001b[39;00m \u001b[38;5;28mself\u001b[39m\u001b[38;5;241m.\u001b[39mfit(X, y, \u001b[38;5;241m*\u001b[39m\u001b[38;5;241m*\u001b[39mfit_params)\u001b[38;5;241m.\u001b[39mtransform(X)\n",
      "File \u001b[1;32m~\\mambaforge\\envs\\py310\\lib\\site-packages\\sklearn\\preprocessing\\_data.py:824\u001b[0m, in \u001b[0;36mStandardScaler.fit\u001b[1;34m(self, X, y, sample_weight)\u001b[0m\n\u001b[0;32m    822\u001b[0m \u001b[38;5;66;03m# Reset internal state before fitting\u001b[39;00m\n\u001b[0;32m    823\u001b[0m \u001b[38;5;28mself\u001b[39m\u001b[38;5;241m.\u001b[39m_reset()\n\u001b[1;32m--> 824\u001b[0m \u001b[38;5;28;01mreturn\u001b[39;00m \u001b[38;5;28;43mself\u001b[39;49m\u001b[38;5;241;43m.\u001b[39;49m\u001b[43mpartial_fit\u001b[49m\u001b[43m(\u001b[49m\u001b[43mX\u001b[49m\u001b[43m,\u001b[49m\u001b[43m \u001b[49m\u001b[43my\u001b[49m\u001b[43m,\u001b[49m\u001b[43m \u001b[49m\u001b[43msample_weight\u001b[49m\u001b[43m)\u001b[49m\n",
      "File \u001b[1;32m~\\mambaforge\\envs\\py310\\lib\\site-packages\\sklearn\\preprocessing\\_data.py:861\u001b[0m, in \u001b[0;36mStandardScaler.partial_fit\u001b[1;34m(self, X, y, sample_weight)\u001b[0m\n\u001b[0;32m    858\u001b[0m \u001b[38;5;28mself\u001b[39m\u001b[38;5;241m.\u001b[39m_validate_params()\n\u001b[0;32m    860\u001b[0m first_call \u001b[38;5;241m=\u001b[39m \u001b[38;5;129;01mnot\u001b[39;00m \u001b[38;5;28mhasattr\u001b[39m(\u001b[38;5;28mself\u001b[39m, \u001b[38;5;124m\"\u001b[39m\u001b[38;5;124mn_samples_seen_\u001b[39m\u001b[38;5;124m\"\u001b[39m)\n\u001b[1;32m--> 861\u001b[0m X \u001b[38;5;241m=\u001b[39m \u001b[38;5;28;43mself\u001b[39;49m\u001b[38;5;241;43m.\u001b[39;49m\u001b[43m_validate_data\u001b[49m\u001b[43m(\u001b[49m\n\u001b[0;32m    862\u001b[0m \u001b[43m    \u001b[49m\u001b[43mX\u001b[49m\u001b[43m,\u001b[49m\n\u001b[0;32m    863\u001b[0m \u001b[43m    \u001b[49m\u001b[43maccept_sparse\u001b[49m\u001b[38;5;241;43m=\u001b[39;49m\u001b[43m(\u001b[49m\u001b[38;5;124;43m\"\u001b[39;49m\u001b[38;5;124;43mcsr\u001b[39;49m\u001b[38;5;124;43m\"\u001b[39;49m\u001b[43m,\u001b[49m\u001b[43m \u001b[49m\u001b[38;5;124;43m\"\u001b[39;49m\u001b[38;5;124;43mcsc\u001b[39;49m\u001b[38;5;124;43m\"\u001b[39;49m\u001b[43m)\u001b[49m\u001b[43m,\u001b[49m\n\u001b[0;32m    864\u001b[0m \u001b[43m    \u001b[49m\u001b[43mdtype\u001b[49m\u001b[38;5;241;43m=\u001b[39;49m\u001b[43mFLOAT_DTYPES\u001b[49m\u001b[43m,\u001b[49m\n\u001b[0;32m    865\u001b[0m \u001b[43m    \u001b[49m\u001b[43mforce_all_finite\u001b[49m\u001b[38;5;241;43m=\u001b[39;49m\u001b[38;5;124;43m\"\u001b[39;49m\u001b[38;5;124;43mallow-nan\u001b[39;49m\u001b[38;5;124;43m\"\u001b[39;49m\u001b[43m,\u001b[49m\n\u001b[0;32m    866\u001b[0m \u001b[43m    \u001b[49m\u001b[43mreset\u001b[49m\u001b[38;5;241;43m=\u001b[39;49m\u001b[43mfirst_call\u001b[49m\u001b[43m,\u001b[49m\n\u001b[0;32m    867\u001b[0m \u001b[43m\u001b[49m\u001b[43m)\u001b[49m\n\u001b[0;32m    868\u001b[0m n_features \u001b[38;5;241m=\u001b[39m X\u001b[38;5;241m.\u001b[39mshape[\u001b[38;5;241m1\u001b[39m]\n\u001b[0;32m    870\u001b[0m \u001b[38;5;28;01mif\u001b[39;00m sample_weight \u001b[38;5;129;01mis\u001b[39;00m \u001b[38;5;129;01mnot\u001b[39;00m \u001b[38;5;28;01mNone\u001b[39;00m:\n",
      "File \u001b[1;32m~\\mambaforge\\envs\\py310\\lib\\site-packages\\sklearn\\base.py:565\u001b[0m, in \u001b[0;36mBaseEstimator._validate_data\u001b[1;34m(self, X, y, reset, validate_separately, **check_params)\u001b[0m\n\u001b[0;32m    563\u001b[0m     \u001b[38;5;28;01mraise\u001b[39;00m \u001b[38;5;167;01mValueError\u001b[39;00m(\u001b[38;5;124m\"\u001b[39m\u001b[38;5;124mValidation should be done on X, y or both.\u001b[39m\u001b[38;5;124m\"\u001b[39m)\n\u001b[0;32m    564\u001b[0m \u001b[38;5;28;01melif\u001b[39;00m \u001b[38;5;129;01mnot\u001b[39;00m no_val_X \u001b[38;5;129;01mand\u001b[39;00m no_val_y:\n\u001b[1;32m--> 565\u001b[0m     X \u001b[38;5;241m=\u001b[39m check_array(X, input_name\u001b[38;5;241m=\u001b[39m\u001b[38;5;124m\"\u001b[39m\u001b[38;5;124mX\u001b[39m\u001b[38;5;124m\"\u001b[39m, \u001b[38;5;241m*\u001b[39m\u001b[38;5;241m*\u001b[39mcheck_params)\n\u001b[0;32m    566\u001b[0m     out \u001b[38;5;241m=\u001b[39m X\n\u001b[0;32m    567\u001b[0m \u001b[38;5;28;01melif\u001b[39;00m no_val_X \u001b[38;5;129;01mand\u001b[39;00m \u001b[38;5;129;01mnot\u001b[39;00m no_val_y:\n",
      "File \u001b[1;32m~\\mambaforge\\envs\\py310\\lib\\site-packages\\sklearn\\utils\\validation.py:921\u001b[0m, in \u001b[0;36mcheck_array\u001b[1;34m(array, accept_sparse, accept_large_sparse, dtype, order, copy, force_all_finite, ensure_2d, allow_nd, ensure_min_samples, ensure_min_features, estimator, input_name)\u001b[0m\n\u001b[0;32m    915\u001b[0m         \u001b[38;5;28;01mraise\u001b[39;00m \u001b[38;5;167;01mValueError\u001b[39;00m(\n\u001b[0;32m    916\u001b[0m             \u001b[38;5;124m\"\u001b[39m\u001b[38;5;124mFound array with dim \u001b[39m\u001b[38;5;132;01m%d\u001b[39;00m\u001b[38;5;124m. \u001b[39m\u001b[38;5;132;01m%s\u001b[39;00m\u001b[38;5;124m expected <= 2.\u001b[39m\u001b[38;5;124m\"\u001b[39m\n\u001b[0;32m    917\u001b[0m             \u001b[38;5;241m%\u001b[39m (array\u001b[38;5;241m.\u001b[39mndim, estimator_name)\n\u001b[0;32m    918\u001b[0m         )\n\u001b[0;32m    920\u001b[0m     \u001b[38;5;28;01mif\u001b[39;00m force_all_finite:\n\u001b[1;32m--> 921\u001b[0m         \u001b[43m_assert_all_finite\u001b[49m\u001b[43m(\u001b[49m\n\u001b[0;32m    922\u001b[0m \u001b[43m            \u001b[49m\u001b[43marray\u001b[49m\u001b[43m,\u001b[49m\n\u001b[0;32m    923\u001b[0m \u001b[43m            \u001b[49m\u001b[43minput_name\u001b[49m\u001b[38;5;241;43m=\u001b[39;49m\u001b[43minput_name\u001b[49m\u001b[43m,\u001b[49m\n\u001b[0;32m    924\u001b[0m \u001b[43m            \u001b[49m\u001b[43mestimator_name\u001b[49m\u001b[38;5;241;43m=\u001b[39;49m\u001b[43mestimator_name\u001b[49m\u001b[43m,\u001b[49m\n\u001b[0;32m    925\u001b[0m \u001b[43m            \u001b[49m\u001b[43mallow_nan\u001b[49m\u001b[38;5;241;43m=\u001b[39;49m\u001b[43mforce_all_finite\u001b[49m\u001b[43m \u001b[49m\u001b[38;5;241;43m==\u001b[39;49m\u001b[43m \u001b[49m\u001b[38;5;124;43m\"\u001b[39;49m\u001b[38;5;124;43mallow-nan\u001b[39;49m\u001b[38;5;124;43m\"\u001b[39;49m\u001b[43m,\u001b[49m\n\u001b[0;32m    926\u001b[0m \u001b[43m        \u001b[49m\u001b[43m)\u001b[49m\n\u001b[0;32m    928\u001b[0m \u001b[38;5;28;01mif\u001b[39;00m ensure_min_samples \u001b[38;5;241m>\u001b[39m \u001b[38;5;241m0\u001b[39m:\n\u001b[0;32m    929\u001b[0m     n_samples \u001b[38;5;241m=\u001b[39m _num_samples(array)\n",
      "File \u001b[1;32m~\\mambaforge\\envs\\py310\\lib\\site-packages\\sklearn\\utils\\validation.py:161\u001b[0m, in \u001b[0;36m_assert_all_finite\u001b[1;34m(X, allow_nan, msg_dtype, estimator_name, input_name)\u001b[0m\n\u001b[0;32m    144\u001b[0m \u001b[38;5;28;01mif\u001b[39;00m estimator_name \u001b[38;5;129;01mand\u001b[39;00m input_name \u001b[38;5;241m==\u001b[39m \u001b[38;5;124m\"\u001b[39m\u001b[38;5;124mX\u001b[39m\u001b[38;5;124m\"\u001b[39m \u001b[38;5;129;01mand\u001b[39;00m has_nan_error:\n\u001b[0;32m    145\u001b[0m     \u001b[38;5;66;03m# Improve the error message on how to handle missing values in\u001b[39;00m\n\u001b[0;32m    146\u001b[0m     \u001b[38;5;66;03m# scikit-learn.\u001b[39;00m\n\u001b[0;32m    147\u001b[0m     msg_err \u001b[38;5;241m+\u001b[39m\u001b[38;5;241m=\u001b[39m (\n\u001b[0;32m    148\u001b[0m         \u001b[38;5;124mf\u001b[39m\u001b[38;5;124m\"\u001b[39m\u001b[38;5;130;01m\\n\u001b[39;00m\u001b[38;5;132;01m{\u001b[39;00mestimator_name\u001b[38;5;132;01m}\u001b[39;00m\u001b[38;5;124m does not accept missing values\u001b[39m\u001b[38;5;124m\"\u001b[39m\n\u001b[0;32m    149\u001b[0m         \u001b[38;5;124m\"\u001b[39m\u001b[38;5;124m encoded as NaN natively. For supervised learning, you might want\u001b[39m\u001b[38;5;124m\"\u001b[39m\n\u001b[1;32m   (...)\u001b[0m\n\u001b[0;32m    159\u001b[0m         \u001b[38;5;124m\"\u001b[39m\u001b[38;5;124m#estimators-that-handle-nan-values\u001b[39m\u001b[38;5;124m\"\u001b[39m\n\u001b[0;32m    160\u001b[0m     )\n\u001b[1;32m--> 161\u001b[0m \u001b[38;5;28;01mraise\u001b[39;00m \u001b[38;5;167;01mValueError\u001b[39;00m(msg_err)\n",
      "\u001b[1;31mValueError\u001b[0m: Input X contains infinity or a value too large for dtype('float64')."
     ]
    }
   ],
   "source": [
    "tsne_result = agg_data.dim_reduction(method=\"TSNE\")\n",
    "tsne_result.plot()"
   ]
  },
  {
   "cell_type": "code",
   "execution_count": 37,
   "id": "3107e50c",
   "metadata": {},
   "outputs": [
    {
     "name": "stderr",
     "output_type": "stream",
     "text": [
      "C:\\Users\\qwert\\miniconda3\\envs\\py38\\lib\\site-packages\\umap\\umap_.py:2344: UserWarning: n_neighbors is larger than the dataset size; truncating to X.shape[0] - 1\n",
      "  warn(\n"
     ]
    },
    {
     "data": {
      "image/png": "[encoded data removed]",
      "text/plain": [
       "<Figure size 504x504 with 1 Axes>"
      ]
     },
     "metadata": {},
     "output_type": "display_data"
    }
   ],
   "source": [
    "tsne_result = agg_data.dim_reduction(method=\"UMAP\")\n",
    "tsne_result.plot()"
   ]
  },
  {
   "cell_type": "markdown",
   "id": "4b243760",
   "metadata": {},
   "source": [
    "## Medium data"
   ]
  },
  {
   "cell_type": "code",
   "execution_count": 7,
   "id": "6415d2f6",
   "metadata": {},
   "outputs": [
    {
     "name": "stdout",
     "output_type": "stream",
     "text": [
      "Model Human-GEM is already downloaded\n",
      "Set parameter Username\n",
      "Academic license - for non-commercial use only - expires 2023-06-14\n"
     ]
    }
   ],
   "source": [
    "human = load_remote_model(\"Human-GEM\")"
   ]
  },
  {
   "cell_type": "code",
   "execution_count": 8,
   "id": "48c748be",
   "metadata": {
    "collapsed": true,
    "jupyter": {
     "outputs_hidden": true
    },
    "tags": []
   },
   "outputs": [
    {
     "data": {
      "text/html": [
       "<h3>Objective</h3><p>1.0 MAR13082 = 187.35362997658078</p><h4>Uptake</h4><table border=\"1\" class=\"dataframe\">\n",
       "  <thead>\n",
       "    <tr style=\"text-align: right;\">\n",
       "      <th>Metabolite</th>\n",
       "      <th>Reaction</th>\n",
       "      <th>Flux</th>\n",
       "      <th>C-Number</th>\n",
       "      <th>C-Flux</th>\n",
       "    </tr>\n",
       "  </thead>\n",
       "  <tbody>\n",
       "    <tr>\n",
       "      <td>MAM01291e</td>\n",
       "      <td>MAR00566</td>\n",
       "      <td>0.3888</td>\n",
       "      <td>22</td>\n",
       "      <td>0.01%</td>\n",
       "    </tr>\n",
       "    <tr>\n",
       "      <td>MAM01771e</td>\n",
       "      <td>MAR00567</td>\n",
       "      <td>0.01104</td>\n",
       "      <td>20</td>\n",
       "      <td>0.00%</td>\n",
       "    </tr>\n",
       "    <tr>\n",
       "      <td>MAM01371e</td>\n",
       "      <td>MAR00569</td>\n",
       "      <td>1000</td>\n",
       "      <td>10</td>\n",
       "      <td>10.44%</td>\n",
       "    </tr>\n",
       "    <tr>\n",
       "      <td>MAM01741e</td>\n",
       "      <td>MAR00571</td>\n",
       "      <td>0.1629</td>\n",
       "      <td>22</td>\n",
       "      <td>0.00%</td>\n",
       "    </tr>\n",
       "    <tr>\n",
       "      <td>MAM01689e</td>\n",
       "      <td>MAR00573</td>\n",
       "      <td>0.4173</td>\n",
       "      <td>22</td>\n",
       "      <td>0.01%</td>\n",
       "    </tr>\n",
       "    <tr>\n",
       "      <td>MAM00094e</td>\n",
       "      <td>MAR00575</td>\n",
       "      <td>0.1049</td>\n",
       "      <td>22</td>\n",
       "      <td>0.00%</td>\n",
       "    </tr>\n",
       "    <tr>\n",
       "      <td>MAM01696e</td>\n",
       "      <td>MAR00576</td>\n",
       "      <td>3.583</td>\n",
       "      <td>20</td>\n",
       "      <td>0.07%</td>\n",
       "    </tr>\n",
       "    <tr>\n",
       "      <td>MAM02648e</td>\n",
       "      <td>MAR00577</td>\n",
       "      <td>0.6377</td>\n",
       "      <td>20</td>\n",
       "      <td>0.01%</td>\n",
       "    </tr>\n",
       "    <tr>\n",
       "      <td>MAM01432e</td>\n",
       "      <td>MAR00618</td>\n",
       "      <td>0.01104</td>\n",
       "      <td>26</td>\n",
       "      <td>0.00%</td>\n",
       "    </tr>\n",
       "    <tr>\n",
       "      <td>MAM02456e</td>\n",
       "      <td>MAR00620</td>\n",
       "      <td>0.01104</td>\n",
       "      <td>17</td>\n",
       "      <td>0.00%</td>\n",
       "    </tr>\n",
       "    <tr>\n",
       "      <td>MAM02385e</td>\n",
       "      <td>MAR00621</td>\n",
       "      <td>0.01104</td>\n",
       "      <td>24</td>\n",
       "      <td>0.00%</td>\n",
       "    </tr>\n",
       "    <tr>\n",
       "      <td>MAM00656e</td>\n",
       "      <td>MAR00628</td>\n",
       "      <td>23.38</td>\n",
       "      <td>9</td>\n",
       "      <td>0.22%</td>\n",
       "    </tr>\n",
       "    <tr>\n",
       "      <td>MAM02564e</td>\n",
       "      <td>MAR00637</td>\n",
       "      <td>0.01104</td>\n",
       "      <td>24</td>\n",
       "      <td>0.00%</td>\n",
       "    </tr>\n",
       "    <tr>\n",
       "      <td>MAM02646e</td>\n",
       "      <td>MAR00650</td>\n",
       "      <td>42.91</td>\n",
       "      <td>18</td>\n",
       "      <td>0.81%</td>\n",
       "    </tr>\n",
       "    <tr>\n",
       "      <td>MAM02685e</td>\n",
       "      <td>MAR00656</td>\n",
       "      <td>7.903</td>\n",
       "      <td>7</td>\n",
       "      <td>0.06%</td>\n",
       "    </tr>\n",
       "    <tr>\n",
       "      <td>MAM02715e</td>\n",
       "      <td>MAR00658</td>\n",
       "      <td>1.247</td>\n",
       "      <td>8</td>\n",
       "      <td>0.01%</td>\n",
       "    </tr>\n",
       "    <tr>\n",
       "      <td>MAM02808e</td>\n",
       "      <td>MAR00661</td>\n",
       "      <td>0.7874</td>\n",
       "      <td>8</td>\n",
       "      <td>0.01%</td>\n",
       "    </tr>\n",
       "    <tr>\n",
       "      <td>MAM02690e</td>\n",
       "      <td>MAR00662</td>\n",
       "      <td>0.01104</td>\n",
       "      <td>15</td>\n",
       "      <td>0.00%</td>\n",
       "    </tr>\n",
       "    <tr>\n",
       "      <td>MAM00135e</td>\n",
       "      <td>MAR00698</td>\n",
       "      <td>0.02208</td>\n",
       "      <td>24</td>\n",
       "      <td>0.00%</td>\n",
       "    </tr>\n",
       "    <tr>\n",
       "      <td>MAM00111e</td>\n",
       "      <td>MAR00699</td>\n",
       "      <td>0.01104</td>\n",
       "      <td>24</td>\n",
       "      <td>0.00%</td>\n",
       "    </tr>\n",
       "    <tr>\n",
       "      <td>MAM00132e</td>\n",
       "      <td>MAR00700</td>\n",
       "      <td>0.01104</td>\n",
       "      <td>24</td>\n",
       "      <td>0.00%</td>\n",
       "    </tr>\n",
       "    <tr>\n",
       "      <td>MAM02494e</td>\n",
       "      <td>MAR00702</td>\n",
       "      <td>0.3672</td>\n",
       "      <td>14</td>\n",
       "      <td>0.01%</td>\n",
       "    </tr>\n",
       "    <tr>\n",
       "      <td>MAM01802e</td>\n",
       "      <td>MAR01939</td>\n",
       "      <td>0.007756</td>\n",
       "      <td>27</td>\n",
       "      <td>0.00%</td>\n",
       "    </tr>\n",
       "    <tr>\n",
       "      <td>MAM01605e</td>\n",
       "      <td>MAR01965</td>\n",
       "      <td>18.29</td>\n",
       "      <td>36</td>\n",
       "      <td>0.69%</td>\n",
       "    </tr>\n",
       "    <tr>\n",
       "      <td>MAM02000e</td>\n",
       "      <td>MAR04148</td>\n",
       "      <td>1000</td>\n",
       "      <td>26</td>\n",
       "      <td>27.14%</td>\n",
       "    </tr>\n",
       "    <tr>\n",
       "      <td>MAM03494e</td>\n",
       "      <td>MAR04886</td>\n",
       "      <td>0.01104</td>\n",
       "      <td>10</td>\n",
       "      <td>0.00%</td>\n",
       "    </tr>\n",
       "    <tr>\n",
       "      <td>MAM02635e</td>\n",
       "      <td>MAR04889</td>\n",
       "      <td>10.39</td>\n",
       "      <td>11</td>\n",
       "      <td>0.12%</td>\n",
       "    </tr>\n",
       "    <tr>\n",
       "      <td>MAM03540e</td>\n",
       "      <td>MAR04923</td>\n",
       "      <td>0.01104</td>\n",
       "      <td>19</td>\n",
       "      <td>0.00%</td>\n",
       "    </tr>\n",
       "    <tr>\n",
       "      <td>MAM01583e</td>\n",
       "      <td>MAR04927</td>\n",
       "      <td>0.01104</td>\n",
       "      <td>22</td>\n",
       "      <td>0.00%</td>\n",
       "    </tr>\n",
       "    <tr>\n",
       "      <td>MAM01373e</td>\n",
       "      <td>MAR04929</td>\n",
       "      <td>0.01104</td>\n",
       "      <td>22</td>\n",
       "      <td>0.00%</td>\n",
       "    </tr>\n",
       "    <tr>\n",
       "      <td>MAM02964e</td>\n",
       "      <td>MAR08959</td>\n",
       "      <td>354.8</td>\n",
       "      <td>26</td>\n",
       "      <td>9.63%</td>\n",
       "    </tr>\n",
       "    <tr>\n",
       "      <td>MAM03102e</td>\n",
       "      <td>MAR08967</td>\n",
       "      <td>0.007756</td>\n",
       "      <td>59</td>\n",
       "      <td>0.00%</td>\n",
       "    </tr>\n",
       "    <tr>\n",
       "      <td>MAM02559e</td>\n",
       "      <td>MAR09029</td>\n",
       "      <td>0.3895</td>\n",
       "      <td>5</td>\n",
       "      <td>0.00%</td>\n",
       "    </tr>\n",
       "    <tr>\n",
       "      <td>MAM02389e</td>\n",
       "      <td>MAR09036</td>\n",
       "      <td>0.3009</td>\n",
       "      <td>18</td>\n",
       "      <td>0.01%</td>\n",
       "    </tr>\n",
       "    <tr>\n",
       "      <td>MAM02125e</td>\n",
       "      <td>MAR09038</td>\n",
       "      <td>23.02</td>\n",
       "      <td>6</td>\n",
       "      <td>0.14%</td>\n",
       "    </tr>\n",
       "    <tr>\n",
       "      <td>MAM02184e</td>\n",
       "      <td>MAR09039</td>\n",
       "      <td>45.12</td>\n",
       "      <td>6</td>\n",
       "      <td>0.28%</td>\n",
       "    </tr>\n",
       "    <tr>\n",
       "      <td>MAM02360e</td>\n",
       "      <td>MAR09040</td>\n",
       "      <td>92.02</td>\n",
       "      <td>6</td>\n",
       "      <td>0.58%</td>\n",
       "    </tr>\n",
       "    <tr>\n",
       "      <td>MAM02426e</td>\n",
       "      <td>MAR09041</td>\n",
       "      <td>72.16</td>\n",
       "      <td>6</td>\n",
       "      <td>0.45%</td>\n",
       "    </tr>\n",
       "    <tr>\n",
       "      <td>MAM02471e</td>\n",
       "      <td>MAR09042</td>\n",
       "      <td>22.54</td>\n",
       "      <td>5</td>\n",
       "      <td>0.12%</td>\n",
       "    </tr>\n",
       "    <tr>\n",
       "      <td>MAM02724e</td>\n",
       "      <td>MAR09043</td>\n",
       "      <td>38.17</td>\n",
       "      <td>9</td>\n",
       "      <td>0.36%</td>\n",
       "    </tr>\n",
       "    <tr>\n",
       "      <td>MAM02993e</td>\n",
       "      <td>MAR09044</td>\n",
       "      <td>57.01</td>\n",
       "      <td>4</td>\n",
       "      <td>0.24%</td>\n",
       "    </tr>\n",
       "    <tr>\n",
       "      <td>MAM03089e</td>\n",
       "      <td>MAR09045</td>\n",
       "      <td>9.891</td>\n",
       "      <td>11</td>\n",
       "      <td>0.11%</td>\n",
       "    </tr>\n",
       "    <tr>\n",
       "      <td>MAM03135e</td>\n",
       "      <td>MAR09046</td>\n",
       "      <td>67.5</td>\n",
       "      <td>5</td>\n",
       "      <td>0.35%</td>\n",
       "    </tr>\n",
       "    <tr>\n",
       "      <td>MAM02630e</td>\n",
       "      <td>MAR09048</td>\n",
       "      <td>186.7</td>\n",
       "      <td>0</td>\n",
       "      <td>0.00%</td>\n",
       "    </tr>\n",
       "    <tr>\n",
       "      <td>MAM02353e</td>\n",
       "      <td>MAR09051</td>\n",
       "      <td>0.0003146</td>\n",
       "      <td>94027</td>\n",
       "      <td>0.03%</td>\n",
       "    </tr>\n",
       "    <tr>\n",
       "      <td>MAM01307e</td>\n",
       "      <td>MAR09061</td>\n",
       "      <td>81.11</td>\n",
       "      <td>3</td>\n",
       "      <td>0.25%</td>\n",
       "    </tr>\n",
       "    <tr>\n",
       "      <td>MAM01369e</td>\n",
       "      <td>MAR09062</td>\n",
       "      <td>37.61</td>\n",
       "      <td>4</td>\n",
       "      <td>0.16%</td>\n",
       "    </tr>\n",
       "    <tr>\n",
       "      <td>MAM01975e</td>\n",
       "      <td>MAR09063</td>\n",
       "      <td>56.55</td>\n",
       "      <td>5</td>\n",
       "      <td>0.30%</td>\n",
       "    </tr>\n",
       "    <tr>\n",
       "      <td>MAM03101e</td>\n",
       "      <td>MAR09064</td>\n",
       "      <td>28.59</td>\n",
       "      <td>9</td>\n",
       "      <td>0.27%</td>\n",
       "    </tr>\n",
       "    <tr>\n",
       "      <td>MAM02770e</td>\n",
       "      <td>MAR09068</td>\n",
       "      <td>160.4</td>\n",
       "      <td>5</td>\n",
       "      <td>0.84%</td>\n",
       "    </tr>\n",
       "    <tr>\n",
       "      <td>MAM02896e</td>\n",
       "      <td>MAR09069</td>\n",
       "      <td>68.65</td>\n",
       "      <td>3</td>\n",
       "      <td>0.22%</td>\n",
       "    </tr>\n",
       "    <tr>\n",
       "      <td>MAM01370e</td>\n",
       "      <td>MAR09070</td>\n",
       "      <td>63.44</td>\n",
       "      <td>4</td>\n",
       "      <td>0.26%</td>\n",
       "    </tr>\n",
       "    <tr>\n",
       "      <td>MAM02042e</td>\n",
       "      <td>MAR09103</td>\n",
       "      <td>18.35</td>\n",
       "      <td>0</td>\n",
       "      <td>0.00%</td>\n",
       "    </tr>\n",
       "    <tr>\n",
       "      <td>MAM02049e</td>\n",
       "      <td>MAR09107</td>\n",
       "      <td>0.007756</td>\n",
       "      <td>34</td>\n",
       "      <td>0.00%</td>\n",
       "    </tr>\n",
       "    <tr>\n",
       "      <td>MAM01704e</td>\n",
       "      <td>MAR09108</td>\n",
       "      <td>666.7</td>\n",
       "      <td>9</td>\n",
       "      <td>6.26%</td>\n",
       "    </tr>\n",
       "    <tr>\n",
       "      <td>MAM01401e</td>\n",
       "      <td>MAR09109</td>\n",
       "      <td>0.007756</td>\n",
       "      <td>10</td>\n",
       "      <td>0.00%</td>\n",
       "    </tr>\n",
       "    <tr>\n",
       "      <td>MAM02842e</td>\n",
       "      <td>MAR09143</td>\n",
       "      <td>0.007756</td>\n",
       "      <td>17</td>\n",
       "      <td>0.00%</td>\n",
       "    </tr>\n",
       "    <tr>\n",
       "      <td>MAM02834e</td>\n",
       "      <td>MAR09147</td>\n",
       "      <td>0.03483</td>\n",
       "      <td>20</td>\n",
       "      <td>0.00%</td>\n",
       "    </tr>\n",
       "    <tr>\n",
       "      <td>MAM01330e</td>\n",
       "      <td>MAR09152</td>\n",
       "      <td>0.007756</td>\n",
       "      <td>29</td>\n",
       "      <td>0.00%</td>\n",
       "    </tr>\n",
       "    <tr>\n",
       "      <td>MAM01938e</td>\n",
       "      <td>MAR09154</td>\n",
       "      <td>0.007756</td>\n",
       "      <td>28</td>\n",
       "      <td>0.00%</td>\n",
       "    </tr>\n",
       "    <tr>\n",
       "      <td>MAM02982e</td>\n",
       "      <td>MAR09159</td>\n",
       "      <td>0.007756</td>\n",
       "      <td>12</td>\n",
       "      <td>0.00%</td>\n",
       "    </tr>\n",
       "    <tr>\n",
       "      <td>MAM02394e</td>\n",
       "      <td>MAR09167</td>\n",
       "      <td>0.007756</td>\n",
       "      <td>8</td>\n",
       "      <td>0.00%</td>\n",
       "    </tr>\n",
       "    <tr>\n",
       "      <td>MAM01415e</td>\n",
       "      <td>MAR09215</td>\n",
       "      <td>0.0116</td>\n",
       "      <td>27</td>\n",
       "      <td>0.00%</td>\n",
       "    </tr>\n",
       "    <tr>\n",
       "      <td>MAM01280e</td>\n",
       "      <td>MAR09254</td>\n",
       "      <td>546.3</td>\n",
       "      <td>10</td>\n",
       "      <td>5.70%</td>\n",
       "    </tr>\n",
       "    <tr>\n",
       "      <td>MAM01361e</td>\n",
       "      <td>MAR09269</td>\n",
       "      <td>0.007756</td>\n",
       "      <td>62</td>\n",
       "      <td>0.00%</td>\n",
       "    </tr>\n",
       "    <tr>\n",
       "      <td>MAM01397e</td>\n",
       "      <td>MAR09271</td>\n",
       "      <td>0.003867</td>\n",
       "      <td>45</td>\n",
       "      <td>0.00%</td>\n",
       "    </tr>\n",
       "    <tr>\n",
       "      <td>MAM01398e</td>\n",
       "      <td>MAR09272</td>\n",
       "      <td>0.05435</td>\n",
       "      <td>39</td>\n",
       "      <td>0.00%</td>\n",
       "    </tr>\n",
       "    <tr>\n",
       "      <td>MAM01450e</td>\n",
       "      <td>MAR09285</td>\n",
       "      <td>4.573</td>\n",
       "      <td>27</td>\n",
       "      <td>0.13%</td>\n",
       "    </tr>\n",
       "    <tr>\n",
       "      <td>MAM01630e</td>\n",
       "      <td>MAR09295</td>\n",
       "      <td>6.789</td>\n",
       "      <td>9</td>\n",
       "      <td>0.06%</td>\n",
       "    </tr>\n",
       "    <tr>\n",
       "      <td>MAM01673e</td>\n",
       "      <td>MAR09310</td>\n",
       "      <td>945.4</td>\n",
       "      <td>9</td>\n",
       "      <td>8.88%</td>\n",
       "    </tr>\n",
       "    <tr>\n",
       "      <td>MAM02038e</td>\n",
       "      <td>MAR09348</td>\n",
       "      <td>8.541</td>\n",
       "      <td>10</td>\n",
       "      <td>0.09%</td>\n",
       "    </tr>\n",
       "    <tr>\n",
       "      <td>MAM02026e</td>\n",
       "      <td>MAR09351</td>\n",
       "      <td>1.64</td>\n",
       "      <td>10</td>\n",
       "      <td>0.02%</td>\n",
       "    </tr>\n",
       "    <tr>\n",
       "      <td>MAM02041e</td>\n",
       "      <td>MAR09354</td>\n",
       "      <td>1000</td>\n",
       "      <td>0</td>\n",
       "      <td>0.00%</td>\n",
       "    </tr>\n",
       "    <tr>\n",
       "      <td>MAM02470e</td>\n",
       "      <td>MAR09372</td>\n",
       "      <td>56.07</td>\n",
       "      <td>1</td>\n",
       "      <td>0.06%</td>\n",
       "    </tr>\n",
       "    <tr>\n",
       "      <td>MAM02583e</td>\n",
       "      <td>MAR09378</td>\n",
       "      <td>0.3533</td>\n",
       "      <td>6</td>\n",
       "      <td>0.00%</td>\n",
       "    </tr>\n",
       "    <tr>\n",
       "      <td>MAM02833e</td>\n",
       "      <td>MAR09404</td>\n",
       "      <td>0.05035</td>\n",
       "      <td>20</td>\n",
       "      <td>0.00%</td>\n",
       "    </tr>\n",
       "    <tr>\n",
       "      <td>MAM03123e</td>\n",
       "      <td>MAR09439</td>\n",
       "      <td>54.57</td>\n",
       "      <td>9</td>\n",
       "      <td>0.51%</td>\n",
       "    </tr>\n",
       "    <tr>\n",
       "      <td>MAM03130e</td>\n",
       "      <td>MAR09440</td>\n",
       "      <td>66.42</td>\n",
       "      <td>9</td>\n",
       "      <td>0.62%</td>\n",
       "    </tr>\n",
       "    <tr>\n",
       "      <td>MAM02814e</td>\n",
       "      <td>MAR09691</td>\n",
       "      <td>0.007756</td>\n",
       "      <td>8</td>\n",
       "      <td>0.00%</td>\n",
       "    </tr>\n",
       "    <tr>\n",
       "      <td>MAM03161e</td>\n",
       "      <td>MAR09729</td>\n",
       "      <td>76.1</td>\n",
       "      <td>6</td>\n",
       "      <td>0.48%</td>\n",
       "    </tr>\n",
       "    <tr>\n",
       "      <td>MAM00674e</td>\n",
       "      <td>MAR09842</td>\n",
       "      <td>0.3261</td>\n",
       "      <td>3</td>\n",
       "      <td>0.00%</td>\n",
       "    </tr>\n",
       "    <tr>\n",
       "      <td>MAM01644e</td>\n",
       "      <td>MAR09847</td>\n",
       "      <td>1.019</td>\n",
       "      <td>9</td>\n",
       "      <td>0.01%</td>\n",
       "    </tr>\n",
       "    <tr>\n",
       "      <td>MAM02696e</td>\n",
       "      <td>MAR09858</td>\n",
       "      <td>12.47</td>\n",
       "      <td>3</td>\n",
       "      <td>0.04%</td>\n",
       "    </tr>\n",
       "    <tr>\n",
       "      <td>MAM03149e</td>\n",
       "      <td>MAR09861</td>\n",
       "      <td>390.6</td>\n",
       "      <td>10</td>\n",
       "      <td>4.08%</td>\n",
       "    </tr>\n",
       "    <tr>\n",
       "      <td>MAM02940e</td>\n",
       "      <td>MAR09924</td>\n",
       "      <td>4.837</td>\n",
       "      <td>25</td>\n",
       "      <td>0.13%</td>\n",
       "    </tr>\n",
       "    <tr>\n",
       "      <td>MAM02411e</td>\n",
       "      <td>MAR09925</td>\n",
       "      <td>6.733</td>\n",
       "      <td>23</td>\n",
       "      <td>0.16%</td>\n",
       "    </tr>\n",
       "    <tr>\n",
       "      <td>MAM02122e</td>\n",
       "      <td>MAR10250</td>\n",
       "      <td>2.138</td>\n",
       "      <td>27</td>\n",
       "      <td>0.06%</td>\n",
       "    </tr>\n",
       "    <tr>\n",
       "      <td>MAM02388e</td>\n",
       "      <td>MAR10254</td>\n",
       "      <td>5.367</td>\n",
       "      <td>25</td>\n",
       "      <td>0.14%</td>\n",
       "    </tr>\n",
       "    <tr>\n",
       "      <td>MAM02497e</td>\n",
       "      <td>MAR10265</td>\n",
       "      <td>336.9</td>\n",
       "      <td>6</td>\n",
       "      <td>2.11%</td>\n",
       "    </tr>\n",
       "    <tr>\n",
       "      <td>MAM02974e</td>\n",
       "      <td>MAR10345</td>\n",
       "      <td>0.01104</td>\n",
       "      <td>21</td>\n",
       "      <td>0.00%</td>\n",
       "    </tr>\n",
       "    <tr>\n",
       "      <td>MAM01584e</td>\n",
       "      <td>MAR10432</td>\n",
       "      <td>0.01104</td>\n",
       "      <td>20</td>\n",
       "      <td>0.00%</td>\n",
       "    </tr>\n",
       "    <tr>\n",
       "      <td>MAM00916e</td>\n",
       "      <td>MAR10441</td>\n",
       "      <td>0.2265</td>\n",
       "      <td>3</td>\n",
       "      <td>0.00%</td>\n",
       "    </tr>\n",
       "    <tr>\n",
       "      <td>MAM02978e</td>\n",
       "      <td>MAR10496</td>\n",
       "      <td>0.007756</td>\n",
       "      <td>9</td>\n",
       "      <td>0.00%</td>\n",
       "    </tr>\n",
       "    <tr>\n",
       "      <td>MAM03684e</td>\n",
       "      <td>MAR11293</td>\n",
       "      <td>1000</td>\n",
       "      <td>6</td>\n",
       "      <td>6.26%</td>\n",
       "    </tr>\n",
       "    <tr>\n",
       "      <td>MAM01620e</td>\n",
       "      <td>MAR11349</td>\n",
       "      <td>262.3</td>\n",
       "      <td>4</td>\n",
       "      <td>1.10%</td>\n",
       "    </tr>\n",
       "    <tr>\n",
       "      <td>MAM02579e</td>\n",
       "      <td>MAR11420</td>\n",
       "      <td>18.35</td>\n",
       "      <td>0</td>\n",
       "      <td>0.00%</td>\n",
       "    </tr>\n",
       "    <tr>\n",
       "      <td>MAM01973e</td>\n",
       "      <td>MAR11424</td>\n",
       "      <td>0.007756</td>\n",
       "      <td>6</td>\n",
       "      <td>0.00%</td>\n",
       "    </tr>\n",
       "    <tr>\n",
       "      <td>MAM00350e</td>\n",
       "      <td>MAR11895</td>\n",
       "      <td>0.01938</td>\n",
       "      <td>20</td>\n",
       "      <td>0.00%</td>\n",
       "    </tr>\n",
       "    <tr>\n",
       "      <td>MAM01231e</td>\n",
       "      <td>MAR11897</td>\n",
       "      <td>0.003867</td>\n",
       "      <td>20</td>\n",
       "      <td>0.00%</td>\n",
       "    </tr>\n",
       "    <tr>\n",
       "      <td>MAM02117e</td>\n",
       "      <td>MAR11949</td>\n",
       "      <td>0.01104</td>\n",
       "      <td>23</td>\n",
       "      <td>0.00%</td>\n",
       "    </tr>\n",
       "    <tr>\n",
       "      <td>MAM01045e</td>\n",
       "      <td>MAR11953</td>\n",
       "      <td>0.007756</td>\n",
       "      <td>20</td>\n",
       "      <td>0.00%</td>\n",
       "    </tr>\n",
       "    <tr>\n",
       "      <td>MAM02927e</td>\n",
       "      <td>MAR11959</td>\n",
       "      <td>277.7</td>\n",
       "      <td>18</td>\n",
       "      <td>5.22%</td>\n",
       "    </tr>\n",
       "    <tr>\n",
       "      <td>MAM01417e</td>\n",
       "      <td>MAR11965</td>\n",
       "      <td>0.003867</td>\n",
       "      <td>27</td>\n",
       "      <td>0.00%</td>\n",
       "    </tr>\n",
       "    <tr>\n",
       "      <td>MAM01841e</td>\n",
       "      <td>MAR11974</td>\n",
       "      <td>577.5</td>\n",
       "      <td>6</td>\n",
       "      <td>3.62%</td>\n",
       "    </tr>\n",
       "    <tr>\n",
       "      <td>MAM02750e</td>\n",
       "      <td>MAR12127</td>\n",
       "      <td>2.868</td>\n",
       "      <td>11</td>\n",
       "      <td>0.03%</td>\n",
       "    </tr>\n",
       "    <tr>\n",
       "      <td>MAM00003e</td>\n",
       "      <td>MAR13040</td>\n",
       "      <td>0.01104</td>\n",
       "      <td>17</td>\n",
       "      <td>0.00%</td>\n",
       "    </tr>\n",
       "    <tr>\n",
       "      <td>MAM00008e</td>\n",
       "      <td>MAR13041</td>\n",
       "      <td>0.01104</td>\n",
       "      <td>20</td>\n",
       "      <td>0.00%</td>\n",
       "    </tr>\n",
       "    <tr>\n",
       "      <td>MAM00010e</td>\n",
       "      <td>MAR13042</td>\n",
       "      <td>0.01104</td>\n",
       "      <td>20</td>\n",
       "      <td>0.00%</td>\n",
       "    </tr>\n",
       "    <tr>\n",
       "      <td>MAM00017e</td>\n",
       "      <td>MAR13043</td>\n",
       "      <td>0.01104</td>\n",
       "      <td>20</td>\n",
       "      <td>0.00%</td>\n",
       "    </tr>\n",
       "    <tr>\n",
       "      <td>MAM00021e</td>\n",
       "      <td>MAR13045</td>\n",
       "      <td>0.01104</td>\n",
       "      <td>22</td>\n",
       "      <td>0.00%</td>\n",
       "    </tr>\n",
       "    <tr>\n",
       "      <td>MAM00117e</td>\n",
       "      <td>MAR13047</td>\n",
       "      <td>0.01104</td>\n",
       "      <td>14</td>\n",
       "      <td>0.00%</td>\n",
       "    </tr>\n",
       "    <tr>\n",
       "      <td>MAM00260e</td>\n",
       "      <td>MAR13048</td>\n",
       "      <td>0.01104</td>\n",
       "      <td>22</td>\n",
       "      <td>0.00%</td>\n",
       "    </tr>\n",
       "    <tr>\n",
       "      <td>MAM00265e</td>\n",
       "      <td>MAR13049</td>\n",
       "      <td>0.01104</td>\n",
       "      <td>22</td>\n",
       "      <td>0.00%</td>\n",
       "    </tr>\n",
       "    <tr>\n",
       "      <td>MAM00315e</td>\n",
       "      <td>MAR13050</td>\n",
       "      <td>0.01104</td>\n",
       "      <td>24</td>\n",
       "      <td>0.00%</td>\n",
       "    </tr>\n",
       "    <tr>\n",
       "      <td>MAM00341e</td>\n",
       "      <td>MAR13051</td>\n",
       "      <td>0.01104</td>\n",
       "      <td>22</td>\n",
       "      <td>0.00%</td>\n",
       "    </tr>\n",
       "    <tr>\n",
       "      <td>MAM01207e</td>\n",
       "      <td>MAR13053</td>\n",
       "      <td>0.01104</td>\n",
       "      <td>20</td>\n",
       "      <td>0.00%</td>\n",
       "    </tr>\n",
       "    <tr>\n",
       "      <td>MAM01238e</td>\n",
       "      <td>MAR13055</td>\n",
       "      <td>0.01104</td>\n",
       "      <td>17</td>\n",
       "      <td>0.00%</td>\n",
       "    </tr>\n",
       "    <tr>\n",
       "      <td>MAM01582e</td>\n",
       "      <td>MAR13056</td>\n",
       "      <td>0.01104</td>\n",
       "      <td>22</td>\n",
       "      <td>0.00%</td>\n",
       "    </tr>\n",
       "    <tr>\n",
       "      <td>MAM02053e</td>\n",
       "      <td>MAR13057</td>\n",
       "      <td>0.01104</td>\n",
       "      <td>21</td>\n",
       "      <td>0.00%</td>\n",
       "    </tr>\n",
       "    <tr>\n",
       "      <td>MAM02457e</td>\n",
       "      <td>MAR13058</td>\n",
       "      <td>0.01104</td>\n",
       "      <td>20</td>\n",
       "      <td>0.00%</td>\n",
       "    </tr>\n",
       "    <tr>\n",
       "      <td>MAM02613e</td>\n",
       "      <td>MAR13059</td>\n",
       "      <td>0.01104</td>\n",
       "      <td>19</td>\n",
       "      <td>0.00%</td>\n",
       "    </tr>\n",
       "    <tr>\n",
       "      <td>MAM02745e</td>\n",
       "      <td>MAR13060</td>\n",
       "      <td>0.01104</td>\n",
       "      <td>14</td>\n",
       "      <td>0.00%</td>\n",
       "    </tr>\n",
       "    <tr>\n",
       "      <td>MAM03045e</td>\n",
       "      <td>MAR13061</td>\n",
       "      <td>0.01104</td>\n",
       "      <td>23</td>\n",
       "      <td>0.00%</td>\n",
       "    </tr>\n",
       "    <tr>\n",
       "      <td>MAM03051e</td>\n",
       "      <td>MAR13062</td>\n",
       "      <td>0.01104</td>\n",
       "      <td>13</td>\n",
       "      <td>0.00%</td>\n",
       "    </tr>\n",
       "    <tr>\n",
       "      <td>MAM03153e</td>\n",
       "      <td>MAR13063</td>\n",
       "      <td>0.01104</td>\n",
       "      <td>26</td>\n",
       "      <td>0.00%</td>\n",
       "    </tr>\n",
       "  </tbody>\n",
       "</table><h4>Secretion</h4><table border=\"1\" class=\"dataframe\">\n",
       "  <thead>\n",
       "    <tr style=\"text-align: right;\">\n",
       "      <th>Metabolite</th>\n",
       "      <th>Reaction</th>\n",
       "      <th>Flux</th>\n",
       "      <th>C-Number</th>\n",
       "      <th>C-Flux</th>\n",
       "    </tr>\n",
       "  </thead>\n",
       "  <tbody>\n",
       "    <tr>\n",
       "      <td>MAM01155e</td>\n",
       "      <td>MAR01871</td>\n",
       "      <td>-666.7</td>\n",
       "      <td>9</td>\n",
       "      <td>6.77%</td>\n",
       "    </tr>\n",
       "    <tr>\n",
       "      <td>MAM03127e</td>\n",
       "      <td>MAR01964</td>\n",
       "      <td>-18.29</td>\n",
       "      <td>40</td>\n",
       "      <td>0.83%</td>\n",
       "    </tr>\n",
       "    <tr>\n",
       "      <td>MAM02402e</td>\n",
       "      <td>MAR04164</td>\n",
       "      <td>-669</td>\n",
       "      <td>24</td>\n",
       "      <td>18.12%</td>\n",
       "    </tr>\n",
       "    <tr>\n",
       "      <td>MAM01965e</td>\n",
       "      <td>MAR09034</td>\n",
       "      <td>-136.7</td>\n",
       "      <td>6</td>\n",
       "      <td>0.93%</td>\n",
       "    </tr>\n",
       "    <tr>\n",
       "      <td>MAM02352e</td>\n",
       "      <td>MAR09055</td>\n",
       "      <td>-0.0003146</td>\n",
       "      <td>33247</td>\n",
       "      <td>0.01%</td>\n",
       "    </tr>\n",
       "    <tr>\n",
       "      <td>MAM02751e</td>\n",
       "      <td>MAR09072</td>\n",
       "      <td>-1000</td>\n",
       "      <td>0</td>\n",
       "      <td>0.00%</td>\n",
       "    </tr>\n",
       "    <tr>\n",
       "      <td>MAM02046e</td>\n",
       "      <td>MAR09078</td>\n",
       "      <td>-34.69</td>\n",
       "      <td>1</td>\n",
       "      <td>0.04%</td>\n",
       "    </tr>\n",
       "    <tr>\n",
       "      <td>MAM02819e</td>\n",
       "      <td>MAR09133</td>\n",
       "      <td>-585.1</td>\n",
       "      <td>3</td>\n",
       "      <td>1.98%</td>\n",
       "    </tr>\n",
       "    <tr>\n",
       "      <td>MAM02403e</td>\n",
       "      <td>MAR09135</td>\n",
       "      <td>-403.3</td>\n",
       "      <td>3</td>\n",
       "      <td>1.37%</td>\n",
       "    </tr>\n",
       "    <tr>\n",
       "      <td>MAM01249e</td>\n",
       "      <td>MAR09242</td>\n",
       "      <td>-1000</td>\n",
       "      <td>2</td>\n",
       "      <td>2.26%</td>\n",
       "    </tr>\n",
       "    <tr>\n",
       "      <td>MAM01279e</td>\n",
       "      <td>MAR09253</td>\n",
       "      <td>-945.8</td>\n",
       "      <td>5</td>\n",
       "      <td>5.34%</td>\n",
       "    </tr>\n",
       "    <tr>\n",
       "      <td>MAM01285e</td>\n",
       "      <td>MAR09255</td>\n",
       "      <td>-592.1</td>\n",
       "      <td>10</td>\n",
       "      <td>6.68%</td>\n",
       "    </tr>\n",
       "    <tr>\n",
       "      <td>MAM01396e</td>\n",
       "      <td>MAR09273</td>\n",
       "      <td>-0.05822</td>\n",
       "      <td>33</td>\n",
       "      <td>0.00%</td>\n",
       "    </tr>\n",
       "    <tr>\n",
       "      <td>MAM01619e</td>\n",
       "      <td>MAR09290</td>\n",
       "      <td>-262.3</td>\n",
       "      <td>4</td>\n",
       "      <td>1.18%</td>\n",
       "    </tr>\n",
       "    <tr>\n",
       "      <td>MAM02843e</td>\n",
       "      <td>MAR09406</td>\n",
       "      <td>-1000</td>\n",
       "      <td>5</td>\n",
       "      <td>5.64%</td>\n",
       "    </tr>\n",
       "    <tr>\n",
       "      <td>MAM02961e</td>\n",
       "      <td>MAR09418</td>\n",
       "      <td>-354.8</td>\n",
       "      <td>2</td>\n",
       "      <td>0.80%</td>\n",
       "    </tr>\n",
       "    <tr>\n",
       "      <td>MAM02997e</td>\n",
       "      <td>MAR09422</td>\n",
       "      <td>-54.57</td>\n",
       "      <td>5</td>\n",
       "      <td>0.31%</td>\n",
       "    </tr>\n",
       "    <tr>\n",
       "      <td>MAM03118e</td>\n",
       "      <td>MAR09437</td>\n",
       "      <td>-1000</td>\n",
       "      <td>4</td>\n",
       "      <td>4.51%</td>\n",
       "    </tr>\n",
       "    <tr>\n",
       "      <td>MAM01989e</td>\n",
       "      <td>MAR09463</td>\n",
       "      <td>-354.8</td>\n",
       "      <td>26</td>\n",
       "      <td>10.41%</td>\n",
       "    </tr>\n",
       "    <tr>\n",
       "      <td>MAM01410e</td>\n",
       "      <td>MAR09809</td>\n",
       "      <td>-12.53</td>\n",
       "      <td>4</td>\n",
       "      <td>0.06%</td>\n",
       "    </tr>\n",
       "    <tr>\n",
       "      <td>MAM02120e</td>\n",
       "      <td>MAR09811</td>\n",
       "      <td>-1000</td>\n",
       "      <td>6</td>\n",
       "      <td>6.77%</td>\n",
       "    </tr>\n",
       "    <tr>\n",
       "      <td>MAM02642e</td>\n",
       "      <td>MAR09813</td>\n",
       "      <td>-11.23</td>\n",
       "      <td>8</td>\n",
       "      <td>0.10%</td>\n",
       "    </tr>\n",
       "    <tr>\n",
       "      <td>MAM03150e</td>\n",
       "      <td>MAR09860</td>\n",
       "      <td>-390.6</td>\n",
       "      <td>10</td>\n",
       "      <td>4.41%</td>\n",
       "    </tr>\n",
       "    <tr>\n",
       "      <td>MAM00105e</td>\n",
       "      <td>MAR09922</td>\n",
       "      <td>-27.37</td>\n",
       "      <td>25</td>\n",
       "      <td>0.77%</td>\n",
       "    </tr>\n",
       "    <tr>\n",
       "      <td>MAM03971e</td>\n",
       "      <td>MAR10024</td>\n",
       "      <td>-187.4</td>\n",
       "      <td>0</td>\n",
       "      <td>0.00%</td>\n",
       "    </tr>\n",
       "    <tr>\n",
       "      <td>MAM00235e</td>\n",
       "      <td>MAR10047</td>\n",
       "      <td>-2.54</td>\n",
       "      <td>5</td>\n",
       "      <td>0.01%</td>\n",
       "    </tr>\n",
       "    <tr>\n",
       "      <td>MAM03445e</td>\n",
       "      <td>MAR10513</td>\n",
       "      <td>-285.6</td>\n",
       "      <td>10</td>\n",
       "      <td>3.22%</td>\n",
       "    </tr>\n",
       "    <tr>\n",
       "      <td>MAM03190e</td>\n",
       "      <td>MAR11491</td>\n",
       "      <td>-0.02327</td>\n",
       "      <td>6</td>\n",
       "      <td>0.00%</td>\n",
       "    </tr>\n",
       "    <tr>\n",
       "      <td>MAM01759e</td>\n",
       "      <td>MAR11942</td>\n",
       "      <td>-519.8</td>\n",
       "      <td>5</td>\n",
       "      <td>2.93%</td>\n",
       "    </tr>\n",
       "    <tr>\n",
       "      <td>MAM02929e</td>\n",
       "      <td>MAR11947</td>\n",
       "      <td>-275.2</td>\n",
       "      <td>18</td>\n",
       "      <td>5.59%</td>\n",
       "    </tr>\n",
       "    <tr>\n",
       "      <td>MAM03209e</td>\n",
       "      <td>MAR12202</td>\n",
       "      <td>-331</td>\n",
       "      <td>24</td>\n",
       "      <td>8.96%</td>\n",
       "    </tr>\n",
       "  </tbody>\n",
       "</table>"
      ],
      "text/plain": [
       "<cobra.summary.model_summary.ModelSummary at 0x1dd87305e50>"
      ]
     },
     "execution_count": 8,
     "metadata": {},
     "output_type": "execute_result"
    }
   ],
   "source": [
    "human.summary()"
   ]
  },
  {
   "cell_type": "code",
   "execution_count": null,
   "id": "6056485b",
   "metadata": {},
   "outputs": [],
   "source": []
  }
 ],
 "metadata": {
  "kernelspec": {
   "display_name": "py310",
   "language": "python",
   "name": "py310"
  },
  "language_info": {
   "codemirror_mode": {
    "name": "ipython",
    "version": 3
   },
   "file_extension": ".py",
   "mimetype": "text/x-python",
   "name": "python",
   "nbconvert_exporter": "python",
   "pygments_lexer": "ipython3",
   "version": "3.10.10"
  }
 },
 "nbformat": 4,
 "nbformat_minor": 5
}
