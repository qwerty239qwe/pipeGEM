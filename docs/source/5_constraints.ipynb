{
 "cells": [
  {
   "cell_type": "markdown",
   "id": "bc40d9af-61ac-44a5-924c-62eb1c271d7c",
   "metadata": {},
   "source": [
    "# 4. Modifying constraints"
   ]
  },
  {
   "cell_type": "code",
   "execution_count": 1,
   "id": "963961a3-9f01-45b3-a571-ed096a0b80c0",
   "metadata": {},
   "outputs": [],
   "source": [
    "import sys\n",
    "from pathlib import Path\n",
    "sys.path.append(str(Path(\"../../\").resolve()))\n",
    "\n",
    "%load_ext autoreload\n",
    "%autoreload 2"
   ]
  },
  {
   "cell_type": "code",
   "execution_count": 20,
   "id": "fcd65b65-5f81-481c-b086-e2660fbf2af0",
   "metadata": {},
   "outputs": [],
   "source": [
    "import numpy as np\n",
    "from pipeGEM.pipeline.algo.constraints import Eflux, GIMME\n",
    "from pipeGEM.data.fetching import load_model\n",
    "from pipeGEM.data.synthesis import get_syn_gene_data\n",
    "from pipeGEM.integration.mapping import Expression"
   ]
  },
  {
   "cell_type": "code",
   "execution_count": 4,
   "id": "25ac5d22-18fa-4f60-98d0-1d63ae1a7ced",
   "metadata": {},
   "outputs": [],
   "source": [
    "ecoli = load_model(\"e_coli_core\")"
   ]
  },
  {
   "cell_type": "code",
   "execution_count": 21,
   "id": "71f270b2-19d5-451b-b017-1b80d15ea8b9",
   "metadata": {},
   "outputs": [],
   "source": [
    "ecoli_data = np.log2(get_syn_gene_data(ecoli, n_sample=10) + 1)"
   ]
  },
  {
   "cell_type": "markdown",
   "id": "0327432f-fe68-45b7-8605-a3e459fa64ee",
   "metadata": {},
   "source": [
    "## Eflux algorithm"
   ]
  },
  {
   "cell_type": "markdown",
   "id": "47723e2d-1572-4cb5-92fc-f4204df1c694",
   "metadata": {},
   "source": [
    "reference: [Colijn, Caroline, et al. \"Interpreting expression data with metabolic flux models: predicting Mycobacterium tuberculosis mycolic acid production.\" PLoS computational biology 5.8 (2009): e1000489.](https://journals.plos.org/ploscompbiol/article?id=10.1371/journal.pcbi.1000489)"
   ]
  },
  {
   "cell_type": "code",
   "execution_count": 23,
   "id": "d8b0faa8-1d8b-4b55-a09c-714ddd53b53b",
   "metadata": {},
   "outputs": [],
   "source": [
    "eflux = Eflux(ecoli_data)"
   ]
  },
  {
   "cell_type": "code",
   "execution_count": 24,
   "id": "65294b4a-4d52-4239-98b4-c25c67754ffe",
   "metadata": {},
   "outputs": [
    {
     "name": "stdout",
     "output_type": "stream",
     "text": [
      "Max expression: 12.051888655905378 | Min expression: 11.94104760634058\n",
      "Max expression: 12.054943416573325 | Min expression: 11.94178124227853\n",
      "Max expression: 12.069785394983302 | Min expression: 11.946906274456397\n",
      "Max expression: 12.049848549450562 | Min expression: 11.92035285541508\n",
      "Max expression: 12.052228393347402 | Min expression: 11.94104760634058\n",
      "Max expression: 12.06305796362349 | Min expression: 11.959277505720502\n",
      "Max expression: 12.03823313473178 | Min expression: 11.95492329203032\n",
      "Max expression: 12.051888655905378 | Min expression: 11.936637939002571\n",
      "Max expression: 12.039261794341055 | Min expression: 11.943613701614042\n",
      "Max expression: 12.054943416573325 | Min expression: 11.948732239819615\n",
      "Max expression: 12.051888655905378 | Min expression: 11.94104760634058\n",
      "Max expression: 12.054943416573325 | Min expression: 11.94178124227853\n",
      "Max expression: 12.069785394983302 | Min expression: 11.946906274456397\n",
      "Max expression: 12.049848549450562 | Min expression: 11.92035285541508\n",
      "Max expression: 12.052228393347402 | Min expression: 11.94104760634058\n",
      "Max expression: 12.06305796362349 | Min expression: 11.959277505720502\n",
      "Max expression: 12.03823313473178 | Min expression: 11.95492329203032\n",
      "Max expression: 12.051888655905378 | Min expression: 11.936637939002571\n",
      "Max expression: 12.039261794341055 | Min expression: 11.943613701614042\n",
      "Max expression: 12.054943416573325 | Min expression: 11.948732239819615\n"
     ]
    }
   ],
   "source": [
    "output = eflux(ecoli)"
   ]
  },
  {
   "cell_type": "code",
   "execution_count": 34,
   "id": "62a2cd00-5a7d-4ef3-ae16-896d198531b3",
   "metadata": {},
   "outputs": [
    {
     "name": "stdout",
     "output_type": "stream",
     "text": [
      "sample_0\n",
      "(0.0, 449.8224114258125)\n",
      "sample_1\n",
      "(0.0, 274.2925616793226)\n",
      "sample_2\n",
      "(0.0, 664.9130629334751)\n",
      "sample_3\n",
      "(0.0, 658.0437839620216)\n",
      "sample_4\n",
      "(0.0, 426.1510004399561)\n",
      "sample_5\n",
      "(0.0, 126.25412528242157)\n",
      "sample_6\n",
      "(0.0, 324.68290367478824)\n",
      "sample_7\n",
      "(0.0, 602.140568013449)\n",
      "sample_8\n",
      "(0.0, 529.3669989981405)\n",
      "sample_9\n",
      "(0.0, 500.5226218405464)\n"
     ]
    }
   ],
   "source": [
    "for sample_name, mod in output.items():\n",
    "    print(sample_name)\n",
    "    print(mod.reactions[1].bounds)"
   ]
  },
  {
   "cell_type": "markdown",
   "id": "0f29d1b5-9160-4372-8917-02268f07b026",
   "metadata": {},
   "source": [
    "## GIMME algorithms"
   ]
  },
  {
   "cell_type": "markdown",
   "id": "71fe1d4f-b752-4373-9c3c-7b8540edad75",
   "metadata": {},
   "source": [
    "reference: [Becker, Scott A., and Bernhard O. Palsson. \"Context-specific metabolic networks are consistent with experiments.\" PLoS computational biology 4.5 (2008): e1000082.](https://journals.plos.org/ploscompbiol/article?id=10.1371/journal.pcbi.1000082)"
   ]
  },
  {
   "cell_type": "code",
   "execution_count": 35,
   "id": "c1cef68a-f3cf-4a9b-9153-df1cde03e23c",
   "metadata": {},
   "outputs": [],
   "source": [
    "gimme = GIMME(ecoli_data)"
   ]
  },
  {
   "cell_type": "code",
   "execution_count": 37,
   "id": "40b8ab84-ff59-4858-bf4c-8392fcfb56aa",
   "metadata": {},
   "outputs": [],
   "source": [
    "output = gimme(ecoli, low_exp=11.8, high_exp=12.1)"
   ]
  },
  {
   "cell_type": "code",
   "execution_count": 40,
   "id": "b5018052-cf05-458d-b295-a5a2885a2ab2",
   "metadata": {},
   "outputs": [
    {
     "name": "stdout",
     "output_type": "stream",
     "text": [
      "sample_0\n",
      "<Solution -112.688 at 0x7f86a4710da0>\n",
      "sample_1\n",
      "<Solution -114.423 at 0x7f86a4710be0>\n",
      "sample_2\n",
      "<Solution -103.321 at 0x7f86a4710da0>\n",
      "sample_3\n",
      "<Solution -122.009 at 0x7f86a4710be0>\n",
      "sample_4\n",
      "<Solution -115.430 at 0x7f86a4710da0>\n",
      "sample_5\n",
      "<Solution -109.808 at 0x7f86a4710d68>\n",
      "sample_6\n",
      "<Solution -106.222 at 0x7f86a4710c18>\n",
      "sample_7\n",
      "<Solution -113.826 at 0x7f86a4710da0>\n",
      "sample_8\n",
      "<Solution -111.042 at 0x7f86a4710d68>\n",
      "sample_9\n",
      "<Solution -107.650 at 0x7f86a4710c18>\n"
     ]
    }
   ],
   "source": [
    "for sample_name, mod in output.items():\n",
    "    print(sample_name)\n",
    "    print(mod.optimize())"
   ]
  }
 ],
 "metadata": {
  "kernelspec": {
   "display_name": "Python 3 (ipykernel)",
   "language": "python",
   "name": "python3"
  },
  "language_info": {
   "codemirror_mode": {
    "name": "ipython",
    "version": 3
   },
   "file_extension": ".py",
   "mimetype": "text/x-python",
   "name": "python",
   "nbconvert_exporter": "python",
   "pygments_lexer": "ipython3",
   "version": "3.7.2"
  }
 },
 "nbformat": 4,
 "nbformat_minor": 5
}
