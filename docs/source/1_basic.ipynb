{
 "cells": [
  {
   "cell_type": "markdown",
   "id": "81b23b96-7346-42dc-88c1-724fd5b79d2b",
   "metadata": {},
   "source": [
    "# 1. Basic operations"
   ]
  },
  {
   "cell_type": "code",
   "execution_count": 4,
   "id": "5300740e-dcb8-46f8-8d31-ee3a5264c751",
   "metadata": {},
   "outputs": [],
   "source": [
    "import sys\n",
    "from pathlib import Path\n",
    "sys.path.append(str(Path(\"../../\").resolve()))"
   ]
  },
  {
   "cell_type": "code",
   "execution_count": 7,
   "id": "39acc3e5-538e-432c-a524-eee1953f75e6",
   "metadata": {},
   "outputs": [],
   "source": [
    "import pipeGEM as pg\n",
    "from pipeGEM.data.fetching import list_bigg_model\n",
    "import cobra"
   ]
  },
  {
   "cell_type": "markdown",
   "id": "914e49fb-b8dd-4e28-ae16-43e66ff03351",
   "metadata": {},
   "source": [
    "## Get model from BiGG or [Metabolic atlas](https://metabolicatlas.org/)"
   ]
  },
  {
   "cell_type": "code",
   "execution_count": 15,
   "id": "7260c714-2d0a-40af-9b46-0ce59b132c44",
   "metadata": {},
   "outputs": [],
   "source": [
    "bigg_models = list_bigg_model()"
   ]
  },
  {
   "cell_type": "code",
   "execution_count": null,
   "id": "98d0f8d4-ecb0-4c99-acef-19f2eb3f5206",
   "metadata": {},
   "outputs": [],
   "source": [
    "https://github.com/SysBioChalmers/Human-GEM/blob/main/model/Human-GEM.mat?raw=true"
   ]
  },
  {
   "cell_type": "code",
   "execution_count": 22,
   "id": "1d7ce170-2940-43f9-8f3e-ef145182afc4",
   "metadata": {
    "tags": []
   },
   "outputs": [
    {
     "data": {
      "text/html": [
       "<div>\n",
       "<style scoped>\n",
       "    .dataframe tbody tr th:only-of-type {\n",
       "        vertical-align: middle;\n",
       "    }\n",
       "\n",
       "    .dataframe tbody tr th {\n",
       "        vertical-align: top;\n",
       "    }\n",
       "\n",
       "    .dataframe thead th {\n",
       "        text-align: right;\n",
       "    }\n",
       "</style>\n",
       "<table border=\"1\" class=\"dataframe\">\n",
       "  <thead>\n",
       "    <tr style=\"text-align: right;\">\n",
       "      <th></th>\n",
       "      <th>bigg_id</th>\n",
       "      <th>gene_count</th>\n",
       "      <th>reaction_count</th>\n",
       "      <th>organism</th>\n",
       "      <th>metabolite_count</th>\n",
       "    </tr>\n",
       "  </thead>\n",
       "  <tbody>\n",
       "    <tr>\n",
       "      <th>77</th>\n",
       "      <td>iMM1415</td>\n",
       "      <td>1375</td>\n",
       "      <td>3726</td>\n",
       "      <td>Mus musculus</td>\n",
       "      <td>2775</td>\n",
       "    </tr>\n",
       "  </tbody>\n",
       "</table>\n",
       "</div>"
      ],
      "text/plain": [
       "    bigg_id  gene_count  reaction_count      organism  metabolite_count\n",
       "77  iMM1415        1375            3726  Mus musculus              2775"
      ]
     },
     "execution_count": 22,
     "metadata": {},
     "output_type": "execute_result"
    }
   ],
   "source": [
    "bigg_models.loc[bigg_models[\"organism\"].str.contains(\"M* mus\"), :]"
   ]
  },
  {
   "cell_type": "code",
   "execution_count": null,
   "id": "225f933e-aff0-439e-9836-a9df458c911c",
   "metadata": {},
   "outputs": [],
   "source": [
    "ecoli = cobra.io.load_model()"
   ]
  }
 ],
 "metadata": {
  "kernelspec": {
   "display_name": "Python 3 (ipykernel)",
   "language": "python",
   "name": "python3"
  },
  "language_info": {
   "codemirror_mode": {
    "name": "ipython",
    "version": 3
   },
   "file_extension": ".py",
   "mimetype": "text/x-python",
   "name": "python",
   "nbconvert_exporter": "python",
   "pygments_lexer": "ipython3",
   "version": "3.8.11"
  }
 },
 "nbformat": 4,
 "nbformat_minor": 5
}
