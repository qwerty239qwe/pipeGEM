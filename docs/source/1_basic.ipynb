{
 "cells": [
  {
   "cell_type": "markdown",
   "id": "02eb6e3c",
   "metadata": {},
   "source": [
    "# 1. Basic operations"
   ]
  },
  {
   "cell_type": "code",
   "execution_count": 1,
   "id": "3d67cf73",
   "metadata": {},
   "outputs": [],
   "source": [
    "import sys\n",
    "from pathlib import Path\n",
    "sys.path.append(str(Path(\"../../\").resolve()))\n",
    "\n",
    "%load_ext autoreload\n",
    "%autoreload 2"
   ]
  },
  {
   "cell_type": "code",
   "execution_count": 2,
   "id": "74785821",
   "metadata": {},
   "outputs": [],
   "source": [
    "import pipeGEM as pg\n",
    "from pipeGEM.data.fetching import list_models, load_remote_model\n",
    "from pipeGEM.utils import get_subsystems\n",
    "import cobra"
   ]
  },
  {
   "cell_type": "markdown",
   "id": "9278ffba",
   "metadata": {},
   "source": [
    "## Get model from [BiGG](http://bigg.ucsd.edu/) or [Metabolic atlas](https://metabolicatlas.org/)"
   ]
  },
  {
   "cell_type": "code",
   "execution_count": 3,
   "id": "cf21cc40",
   "metadata": {},
   "outputs": [],
   "source": [
    "model_list = list_models(organism=\"E. coli\")"
   ]
  },
  {
   "cell_type": "code",
   "execution_count": 4,
   "id": "c2b876a1",
   "metadata": {
    "tags": []
   },
   "outputs": [
    {
     "data": {
      "text/html": [
       "<div>\n",
       "<style scoped>\n",
       "    .dataframe tbody tr th:only-of-type {\n",
       "        vertical-align: middle;\n",
       "    }\n",
       "\n",
       "    .dataframe tbody tr th {\n",
       "        vertical-align: top;\n",
       "    }\n",
       "\n",
       "    .dataframe thead th {\n",
       "        text-align: right;\n",
       "    }\n",
       "</style>\n",
       "<table border=\"1\" class=\"dataframe\">\n",
       "  <thead>\n",
       "    <tr style=\"text-align: right;\">\n",
       "      <th></th>\n",
       "      <th>id</th>\n",
       "      <th>organism</th>\n",
       "      <th>reaction_count</th>\n",
       "      <th>metabolite_count</th>\n",
       "      <th>gene_count</th>\n",
       "      <th>database</th>\n",
       "    </tr>\n",
       "  </thead>\n",
       "  <tbody>\n",
       "    <tr>\n",
       "      <th>0</th>\n",
       "      <td>e_coli_core</td>\n",
       "      <td>Escherichia coli str. K-12 substr. MG1655</td>\n",
       "      <td>95</td>\n",
       "      <td>72</td>\n",
       "      <td>137</td>\n",
       "      <td>BiGG</td>\n",
       "    </tr>\n",
       "    <tr>\n",
       "      <th>2</th>\n",
       "      <td>iAF1260</td>\n",
       "      <td>Escherichia coli str. K-12 substr. MG1655</td>\n",
       "      <td>2382</td>\n",
       "      <td>1668</td>\n",
       "      <td>1261</td>\n",
       "      <td>BiGG</td>\n",
       "    </tr>\n",
       "    <tr>\n",
       "      <th>3</th>\n",
       "      <td>iAF1260b</td>\n",
       "      <td>Escherichia coli str. K-12 substr. MG1655</td>\n",
       "      <td>2388</td>\n",
       "      <td>1668</td>\n",
       "      <td>1261</td>\n",
       "      <td>BiGG</td>\n",
       "    </tr>\n",
       "    <tr>\n",
       "      <th>11</th>\n",
       "      <td>iAPECO1_1312</td>\n",
       "      <td>Escherichia coli APEC O1</td>\n",
       "      <td>2735</td>\n",
       "      <td>1942</td>\n",
       "      <td>1313</td>\n",
       "      <td>BiGG</td>\n",
       "    </tr>\n",
       "    <tr>\n",
       "      <th>13</th>\n",
       "      <td>iB21_1397</td>\n",
       "      <td>Escherichia coli BL21(DE3)</td>\n",
       "      <td>2741</td>\n",
       "      <td>1943</td>\n",
       "      <td>1337</td>\n",
       "      <td>BiGG</td>\n",
       "    </tr>\n",
       "  </tbody>\n",
       "</table>\n",
       "</div>"
      ],
      "text/plain": [
       "              id                                   organism  reaction_count  \\\n",
       "0    e_coli_core  Escherichia coli str. K-12 substr. MG1655              95   \n",
       "2        iAF1260  Escherichia coli str. K-12 substr. MG1655            2382   \n",
       "3       iAF1260b  Escherichia coli str. K-12 substr. MG1655            2388   \n",
       "11  iAPECO1_1312                   Escherichia coli APEC O1            2735   \n",
       "13     iB21_1397                 Escherichia coli BL21(DE3)            2741   \n",
       "\n",
       "    metabolite_count  gene_count database  \n",
       "0                 72         137     BiGG  \n",
       "2               1668        1261     BiGG  \n",
       "3               1668        1261     BiGG  \n",
       "11              1942        1313     BiGG  \n",
       "13              1943        1337     BiGG  "
      ]
     },
     "execution_count": 4,
     "metadata": {},
     "output_type": "execute_result"
    }
   ],
   "source": [
    "model_list.head()"
   ]
  },
  {
   "cell_type": "code",
   "execution_count": 8,
   "id": "7db7eb6b",
   "metadata": {},
   "outputs": [
    {
     "name": "stdout",
     "output_type": "stream",
     "text": [
      "Set parameter Username\n",
      "Academic license - for non-commercial use only - expires 2023-06-14\n"
     ]
    }
   ],
   "source": [
    "ecoli = load_remote_model(\"e_coli_core\")"
   ]
  },
  {
   "cell_type": "code",
   "execution_count": 6,
   "id": "8e5f7547",
   "metadata": {},
   "outputs": [
    {
     "data": {
      "text/html": [
       "\n",
       "        <table>\n",
       "            <tr>\n",
       "                <td><strong>Name</strong></td>\n",
       "                <td>e_coli_core</td>\n",
       "            </tr><tr>\n",
       "                <td><strong>Memory address</strong></td>\n",
       "                <td>0x022ab568b1c0</td>\n",
       "            </tr><tr>\n",
       "                <td><strong>Number of metabolites</strong></td>\n",
       "                <td>72</td>\n",
       "            </tr><tr>\n",
       "                <td><strong>Number of reactions</strong></td>\n",
       "                <td>95</td>\n",
       "            </tr><tr>\n",
       "                <td><strong>Number of groups</strong></td>\n",
       "                <td>0</td>\n",
       "            </tr><tr>\n",
       "                <td><strong>Objective expression</strong></td>\n",
       "                <td>1.0*BIOMASS_Ecoli_core_w_GAM - 1.0*BIOMASS_Ecoli_core_w_GAM_reverse_712e5</td>\n",
       "            </tr><tr>\n",
       "                <td><strong>Compartments</strong></td>\n",
       "                <td>extracellular space, cytosol</td>\n",
       "            </tr>\n",
       "          </table>"
      ],
      "text/plain": [
       "<Model e_coli_core at 0x22ab568b1c0>"
      ]
     },
     "execution_count": 6,
     "metadata": {},
     "output_type": "execute_result"
    }
   ],
   "source": [
    "ecoli"
   ]
  },
  {
   "cell_type": "markdown",
   "id": "1600559b",
   "metadata": {},
   "source": [
    "## Create Model object"
   ]
  },
  {
   "cell_type": "code",
   "execution_count": 7,
   "id": "7619308f",
   "metadata": {},
   "outputs": [],
   "source": [
    "pg_mod = pg.Model(model=ecoli, name_tag=\"ecoli\")"
   ]
  },
  {
   "cell_type": "code",
   "execution_count": 8,
   "id": "5bc91d2c",
   "metadata": {},
   "outputs": [
    {
     "data": {
      "text/html": [
       "\n",
       "        <table>\n",
       "            <tr>\n",
       "                <td><strong>Name</strong></td>\n",
       "                <td>e_coli_core</td>\n",
       "            </tr><tr>\n",
       "                <td><strong>Memory address</strong></td>\n",
       "                <td>0x022ab568b1c0</td>\n",
       "            </tr><tr>\n",
       "                <td><strong>Number of metabolites</strong></td>\n",
       "                <td>72</td>\n",
       "            </tr><tr>\n",
       "                <td><strong>Number of reactions</strong></td>\n",
       "                <td>95</td>\n",
       "            </tr><tr>\n",
       "                <td><strong>Number of groups</strong></td>\n",
       "                <td>0</td>\n",
       "            </tr><tr>\n",
       "                <td><strong>Objective expression</strong></td>\n",
       "                <td>1.0*BIOMASS_Ecoli_core_w_GAM - 1.0*BIOMASS_Ecoli_core_w_GAM_reverse_712e5</td>\n",
       "            </tr><tr>\n",
       "                <td><strong>Compartments</strong></td>\n",
       "                <td>extracellular space, cytosol</td>\n",
       "            </tr>\n",
       "          </table>"
      ],
      "text/plain": [
       "pipeGEM Model ecoli"
      ]
     },
     "execution_count": 8,
     "metadata": {},
     "output_type": "execute_result"
    }
   ],
   "source": [
    "pg_mod"
   ]
  },
  {
   "cell_type": "code",
   "execution_count": 9,
   "id": "1cbf49ff",
   "metadata": {},
   "outputs": [
    {
     "data": {
      "text/plain": [
       "(95, 137, 72)"
      ]
     },
     "execution_count": 9,
     "metadata": {},
     "output_type": "execute_result"
    }
   ],
   "source": [
    "# basic information\n",
    "\n",
    "pg_mod.n_rxns, pg_mod.n_genes, pg_mod.n_mets"
   ]
  },
  {
   "cell_type": "code",
   "execution_count": 10,
   "id": "4f05108c",
   "metadata": {},
   "outputs": [],
   "source": [
    "# flux analysis using get_flux\n",
    "\n",
    "pFBA_result = pg_mod.do_flux_analysis(method=\"pFBA\")"
   ]
  },
  {
   "cell_type": "code",
   "execution_count": 12,
   "id": "2a614e2c",
   "metadata": {},
   "outputs": [
    {
     "data": {
      "text/plain": [
       "            fluxes  reduced_costs\n",
       "PFK       7.477382      -2.000000\n",
       "PFL       0.000000       5.733333\n",
       "PGI       4.860861      -2.000000\n",
       "PGK     -16.023526       2.000000\n",
       "PGL       4.959985      -2.000000\n",
       "...            ...            ...\n",
       "NADH16   38.534610      -2.000000\n",
       "NADTRHD   0.000000       1.422222\n",
       "NH4t      4.765319      -2.000000\n",
       "O2t      21.799493      -2.000000\n",
       "PDH       9.282533      -2.000000\n",
       "\n",
       "[95 rows x 2 columns]"
      ]
     },
     "execution_count": 12,
     "metadata": {},
     "output_type": "execute_result"
    }
   ],
   "source": [
    "pFBA_result"
   ]
  },
  {
   "cell_type": "code",
   "execution_count": 32,
   "id": "56089526",
   "metadata": {
    "collapsed": true,
    "jupyter": {
     "outputs_hidden": true
    },
    "tags": []
   },
   "outputs": [
    {
     "ename": "KeyError",
     "evalue": "'Reaction'",
     "output_type": "error",
     "traceback": [
      "\u001b[1;31m---------------------------------------------------------------------------\u001b[0m",
      "\u001b[1;31mKeyError\u001b[0m                                  Traceback (most recent call last)",
      "\u001b[1;32m~\\miniconda3\\envs\\py38\\lib\\site-packages\\pandas\\core\\indexes\\base.py\u001b[0m in \u001b[0;36mget_loc\u001b[1;34m(self, key, method, tolerance)\u001b[0m\n\u001b[0;32m   3080\u001b[0m             \u001b[1;32mtry\u001b[0m\u001b[1;33m:\u001b[0m\u001b[1;33m\u001b[0m\u001b[1;33m\u001b[0m\u001b[0m\n\u001b[1;32m-> 3081\u001b[1;33m                 \u001b[1;32mreturn\u001b[0m \u001b[0mself\u001b[0m\u001b[1;33m.\u001b[0m\u001b[0m_engine\u001b[0m\u001b[1;33m.\u001b[0m\u001b[0mget_loc\u001b[0m\u001b[1;33m(\u001b[0m\u001b[0mcasted_key\u001b[0m\u001b[1;33m)\u001b[0m\u001b[1;33m\u001b[0m\u001b[1;33m\u001b[0m\u001b[0m\n\u001b[0m\u001b[0;32m   3082\u001b[0m             \u001b[1;32mexcept\u001b[0m \u001b[0mKeyError\u001b[0m \u001b[1;32mas\u001b[0m \u001b[0merr\u001b[0m\u001b[1;33m:\u001b[0m\u001b[1;33m\u001b[0m\u001b[1;33m\u001b[0m\u001b[0m\n",
      "\u001b[1;32mpandas\\_libs\\index.pyx\u001b[0m in \u001b[0;36mpandas._libs.index.IndexEngine.get_loc\u001b[1;34m()\u001b[0m\n",
      "\u001b[1;32mpandas\\_libs\\index.pyx\u001b[0m in \u001b[0;36mpandas._libs.index.IndexEngine.get_loc\u001b[1;34m()\u001b[0m\n",
      "\u001b[1;32mpandas\\_libs\\hashtable_class_helper.pxi\u001b[0m in \u001b[0;36mpandas._libs.hashtable.PyObjectHashTable.get_item\u001b[1;34m()\u001b[0m\n",
      "\u001b[1;32mpandas\\_libs\\hashtable_class_helper.pxi\u001b[0m in \u001b[0;36mpandas._libs.hashtable.PyObjectHashTable.get_item\u001b[1;34m()\u001b[0m\n",
      "\u001b[1;31mKeyError\u001b[0m: 'Reaction'",
      "\nThe above exception was the direct cause of the following exception:\n",
      "\u001b[1;31mKeyError\u001b[0m                                  Traceback (most recent call last)",
      "\u001b[1;32m~\\AppData\\Local\\Temp/ipykernel_14724/2904816527.py\u001b[0m in \u001b[0;36m<module>\u001b[1;34m\u001b[0m\n\u001b[1;32m----> 1\u001b[1;33m \u001b[0mpFBA_result\u001b[0m\u001b[1;33m.\u001b[0m\u001b[0mplot\u001b[0m\u001b[1;33m(\u001b[0m\u001b[0mrxn_ids\u001b[0m\u001b[1;33m=\u001b[0m\u001b[1;33m[\u001b[0m\u001b[1;34m\"PFK\"\u001b[0m\u001b[1;33m,\u001b[0m \u001b[1;34m\"PGI\"\u001b[0m\u001b[1;33m,\u001b[0m \u001b[1;34m\"PGK\"\u001b[0m\u001b[1;33m]\u001b[0m\u001b[1;33m)\u001b[0m\u001b[1;33m\u001b[0m\u001b[1;33m\u001b[0m\u001b[0m\n\u001b[0m",
      "\u001b[1;32m~\\PycharmProjects\\pipeGEM\\pipeGEM\\analysis\\results\\flux_analysis.py\u001b[0m in \u001b[0;36mplot\u001b[1;34m(self, dpi, prefix, *args, **kwargs)\u001b[0m\n\u001b[0;32m     87\u001b[0m              **kwargs):\n\u001b[0;32m     88\u001b[0m         \u001b[0mpltr\u001b[0m \u001b[1;33m=\u001b[0m \u001b[0mFBAPlotter\u001b[0m\u001b[1;33m(\u001b[0m\u001b[0mdpi\u001b[0m\u001b[1;33m,\u001b[0m \u001b[0mprefix\u001b[0m\u001b[1;33m)\u001b[0m\u001b[1;33m\u001b[0m\u001b[1;33m\u001b[0m\u001b[0m\n\u001b[1;32m---> 89\u001b[1;33m         pltr.plot(flux_df=self._df,\n\u001b[0m\u001b[0;32m     90\u001b[0m                   \u001b[1;33m*\u001b[0m\u001b[0margs\u001b[0m\u001b[1;33m,\u001b[0m\u001b[1;33m\u001b[0m\u001b[1;33m\u001b[0m\u001b[0m\n\u001b[0;32m     91\u001b[0m                   **kwargs)\n",
      "\u001b[1;32m~\\PycharmProjects\\pipeGEM\\pipeGEM\\plotting\\_class.py\u001b[0m in \u001b[0;36mplot\u001b[1;34m(self, *args, **kwargs)\u001b[0m\n\u001b[0;32m     66\u001b[0m                                         default_kws={\"dpi\": self.dpi, \"prefix\": self.prefix})\n\u001b[0;32m     67\u001b[0m         \u001b[0mself\u001b[0m\u001b[1;33m.\u001b[0m\u001b[0madd_style\u001b[0m\u001b[1;33m(\u001b[0m\u001b[1;33m)\u001b[0m\u001b[1;33m\u001b[0m\u001b[1;33m\u001b[0m\u001b[0m\n\u001b[1;32m---> 68\u001b[1;33m         \u001b[0minfo_kws\u001b[0m \u001b[1;33m=\u001b[0m \u001b[0mself\u001b[0m\u001b[1;33m.\u001b[0m\u001b[0mplot_func\u001b[0m\u001b[1;33m(\u001b[0m\u001b[1;33m*\u001b[0m\u001b[0margs\u001b[0m\u001b[1;33m,\u001b[0m \u001b[1;33m**\u001b[0m\u001b[0mkwargs\u001b[0m\u001b[1;33m)\u001b[0m\u001b[1;33m\u001b[0m\u001b[1;33m\u001b[0m\u001b[0m\n\u001b[0m\u001b[0;32m     69\u001b[0m         \u001b[0mname_format\u001b[0m \u001b[1;33m=\u001b[0m \u001b[0minfo_kws\u001b[0m\u001b[1;33m.\u001b[0m\u001b[0mpop\u001b[0m\u001b[1;33m(\u001b[0m\u001b[1;34m\"name_format\"\u001b[0m\u001b[1;33m)\u001b[0m \u001b[1;32mif\u001b[0m \u001b[1;34m\"name_format\"\u001b[0m \u001b[1;32min\u001b[0m \u001b[0minfo_kws\u001b[0m \u001b[1;32melse\u001b[0m \u001b[1;34m\"{file_name}\"\u001b[0m\u001b[1;33m\u001b[0m\u001b[1;33m\u001b[0m\u001b[0m\n\u001b[0;32m     70\u001b[0m         \u001b[1;32mif\u001b[0m \u001b[0minfo_kws\u001b[0m \u001b[1;32mis\u001b[0m \u001b[1;32mnot\u001b[0m \u001b[1;32mNone\u001b[0m\u001b[1;33m:\u001b[0m\u001b[1;33m\u001b[0m\u001b[1;33m\u001b[0m\u001b[0m\n",
      "\u001b[1;32m~\\PycharmProjects\\pipeGEM\\pipeGEM\\plotting\\_class.py\u001b[0m in \u001b[0;36mplot_func\u001b[1;34m(self, flux_df, rxn_ids, **kwargs)\u001b[0m\n\u001b[0;32m     94\u001b[0m                   \u001b[1;33m**\u001b[0m\u001b[0mkwargs\u001b[0m\u001b[1;33m\u001b[0m\u001b[1;33m\u001b[0m\u001b[0m\n\u001b[0;32m     95\u001b[0m                   ):\n\u001b[1;32m---> 96\u001b[1;33m         return plot_fba(flux_df=flux_df,\n\u001b[0m\u001b[0;32m     97\u001b[0m                         \u001b[0mrxn_ids\u001b[0m\u001b[1;33m=\u001b[0m\u001b[0mrxn_ids\u001b[0m\u001b[1;33m,\u001b[0m\u001b[1;33m\u001b[0m\u001b[1;33m\u001b[0m\u001b[0m\n\u001b[0;32m     98\u001b[0m                         **kwargs)\n",
      "\u001b[1;32m~\\PycharmProjects\\pipeGEM\\pipeGEM\\plotting\\_flux.py\u001b[0m in \u001b[0;36mplot_fba\u001b[1;34m(flux_df, rxn_ids, kind, palette, model_hue, filter_all_zeros, fig_title, threshold, vertical, name_format, flux_unit, verbosity, **kwargs)\u001b[0m\n\u001b[0;32m     26\u001b[0m              \u001b[1;33m**\u001b[0m\u001b[0mkwargs\u001b[0m\u001b[1;33m\u001b[0m\u001b[1;33m\u001b[0m\u001b[0m\n\u001b[0;32m     27\u001b[0m              ):\n\u001b[1;32m---> 28\u001b[1;33m     \u001b[0mflux_df\u001b[0m \u001b[1;33m=\u001b[0m \u001b[0mflux_df\u001b[0m\u001b[1;33m.\u001b[0m\u001b[0mloc\u001b[0m\u001b[1;33m[\u001b[0m\u001b[0mflux_df\u001b[0m\u001b[1;33m[\u001b[0m\u001b[1;34m\"Reaction\"\u001b[0m\u001b[1;33m]\u001b[0m\u001b[1;33m.\u001b[0m\u001b[0misin\u001b[0m\u001b[1;33m(\u001b[0m\u001b[0mrxn_ids\u001b[0m\u001b[1;33m)\u001b[0m\u001b[1;33m,\u001b[0m \u001b[1;33m[\u001b[0m\u001b[0mc\u001b[0m \u001b[1;32mfor\u001b[0m \u001b[0mc\u001b[0m \u001b[1;32min\u001b[0m \u001b[0mflux_df\u001b[0m\u001b[1;33m.\u001b[0m\u001b[0mcolumns\u001b[0m \u001b[1;32mif\u001b[0m \u001b[0mc\u001b[0m \u001b[1;33m!=\u001b[0m \u001b[1;34m\"reduced_costs\"\u001b[0m\u001b[1;33m]\u001b[0m\u001b[1;33m]\u001b[0m\u001b[1;33m\u001b[0m\u001b[1;33m\u001b[0m\u001b[0m\n\u001b[0m\u001b[0;32m     29\u001b[0m     \u001b[1;32mif\u001b[0m \u001b[0mfilter_all_zeros\u001b[0m\u001b[1;33m:\u001b[0m\u001b[1;33m\u001b[0m\u001b[1;33m\u001b[0m\u001b[0m\n\u001b[0;32m     30\u001b[0m         \u001b[0mn_all_zeros_rxn\u001b[0m \u001b[1;33m=\u001b[0m \u001b[0mflux_df\u001b[0m\u001b[1;33m.\u001b[0m\u001b[0mquery\u001b[0m\u001b[1;33m(\u001b[0m\u001b[1;34mf\"fluxes < {threshold}\"\u001b[0m\u001b[1;33m)\u001b[0m\u001b[1;33m.\u001b[0m\u001b[0mshape\u001b[0m\u001b[1;33m[\u001b[0m\u001b[1;36m0\u001b[0m\u001b[1;33m]\u001b[0m\u001b[1;33m\u001b[0m\u001b[1;33m\u001b[0m\u001b[0m\n",
      "\u001b[1;32m~\\miniconda3\\envs\\py38\\lib\\site-packages\\pandas\\core\\frame.py\u001b[0m in \u001b[0;36m__getitem__\u001b[1;34m(self, key)\u001b[0m\n\u001b[0;32m   3022\u001b[0m             \u001b[1;32mif\u001b[0m \u001b[0mself\u001b[0m\u001b[1;33m.\u001b[0m\u001b[0mcolumns\u001b[0m\u001b[1;33m.\u001b[0m\u001b[0mnlevels\u001b[0m \u001b[1;33m>\u001b[0m \u001b[1;36m1\u001b[0m\u001b[1;33m:\u001b[0m\u001b[1;33m\u001b[0m\u001b[1;33m\u001b[0m\u001b[0m\n\u001b[0;32m   3023\u001b[0m                 \u001b[1;32mreturn\u001b[0m \u001b[0mself\u001b[0m\u001b[1;33m.\u001b[0m\u001b[0m_getitem_multilevel\u001b[0m\u001b[1;33m(\u001b[0m\u001b[0mkey\u001b[0m\u001b[1;33m)\u001b[0m\u001b[1;33m\u001b[0m\u001b[1;33m\u001b[0m\u001b[0m\n\u001b[1;32m-> 3024\u001b[1;33m             \u001b[0mindexer\u001b[0m \u001b[1;33m=\u001b[0m \u001b[0mself\u001b[0m\u001b[1;33m.\u001b[0m\u001b[0mcolumns\u001b[0m\u001b[1;33m.\u001b[0m\u001b[0mget_loc\u001b[0m\u001b[1;33m(\u001b[0m\u001b[0mkey\u001b[0m\u001b[1;33m)\u001b[0m\u001b[1;33m\u001b[0m\u001b[1;33m\u001b[0m\u001b[0m\n\u001b[0m\u001b[0;32m   3025\u001b[0m             \u001b[1;32mif\u001b[0m \u001b[0mis_integer\u001b[0m\u001b[1;33m(\u001b[0m\u001b[0mindexer\u001b[0m\u001b[1;33m)\u001b[0m\u001b[1;33m:\u001b[0m\u001b[1;33m\u001b[0m\u001b[1;33m\u001b[0m\u001b[0m\n\u001b[0;32m   3026\u001b[0m                 \u001b[0mindexer\u001b[0m \u001b[1;33m=\u001b[0m \u001b[1;33m[\u001b[0m\u001b[0mindexer\u001b[0m\u001b[1;33m]\u001b[0m\u001b[1;33m\u001b[0m\u001b[1;33m\u001b[0m\u001b[0m\n",
      "\u001b[1;32m~\\miniconda3\\envs\\py38\\lib\\site-packages\\pandas\\core\\indexes\\base.py\u001b[0m in \u001b[0;36mget_loc\u001b[1;34m(self, key, method, tolerance)\u001b[0m\n\u001b[0;32m   3081\u001b[0m                 \u001b[1;32mreturn\u001b[0m \u001b[0mself\u001b[0m\u001b[1;33m.\u001b[0m\u001b[0m_engine\u001b[0m\u001b[1;33m.\u001b[0m\u001b[0mget_loc\u001b[0m\u001b[1;33m(\u001b[0m\u001b[0mcasted_key\u001b[0m\u001b[1;33m)\u001b[0m\u001b[1;33m\u001b[0m\u001b[1;33m\u001b[0m\u001b[0m\n\u001b[0;32m   3082\u001b[0m             \u001b[1;32mexcept\u001b[0m \u001b[0mKeyError\u001b[0m \u001b[1;32mas\u001b[0m \u001b[0merr\u001b[0m\u001b[1;33m:\u001b[0m\u001b[1;33m\u001b[0m\u001b[1;33m\u001b[0m\u001b[0m\n\u001b[1;32m-> 3083\u001b[1;33m                 \u001b[1;32mraise\u001b[0m \u001b[0mKeyError\u001b[0m\u001b[1;33m(\u001b[0m\u001b[0mkey\u001b[0m\u001b[1;33m)\u001b[0m \u001b[1;32mfrom\u001b[0m \u001b[0merr\u001b[0m\u001b[1;33m\u001b[0m\u001b[1;33m\u001b[0m\u001b[0m\n\u001b[0m\u001b[0;32m   3084\u001b[0m \u001b[1;33m\u001b[0m\u001b[0m\n\u001b[0;32m   3085\u001b[0m         \u001b[1;32mif\u001b[0m \u001b[0mtolerance\u001b[0m \u001b[1;32mis\u001b[0m \u001b[1;32mnot\u001b[0m \u001b[1;32mNone\u001b[0m\u001b[1;33m:\u001b[0m\u001b[1;33m\u001b[0m\u001b[1;33m\u001b[0m\u001b[0m\n",
      "\u001b[1;31mKeyError\u001b[0m: 'Reaction'"
     ]
    }
   ],
   "source": [
    "pFBA_result.plot(rxn_ids=[\"PFK\", \"PGI\", \"PGK\"])"
   ]
  },
  {
   "cell_type": "code",
   "execution_count": 11,
   "id": "8c6a4024",
   "metadata": {},
   "outputs": [
    {
     "name": "stdout",
     "output_type": "stream",
     "text": [
      "Read LP format model from file C:\\Users\\qwert\\AppData\\Local\\Temp\\tmp9c4_u9xy.lp\n",
      "Reading time = 0.00 seconds\n",
      ": 73 rows, 190 columns, 722 nonzeros\n"
     ]
    }
   ],
   "source": [
    "# flux sampling using get_flux\n",
    "\n",
    "sampling_result = pg_mod.do_flux_analysis(method=\"sampling\", n=30)"
   ]
  },
  {
   "cell_type": "code",
   "execution_count": 16,
   "id": "84d789f3",
   "metadata": {},
   "outputs": [
    {
     "data": {
      "text/html": [
       "<div>\n",
       "<style scoped>\n",
       "    .dataframe tbody tr th:only-of-type {\n",
       "        vertical-align: middle;\n",
       "    }\n",
       "\n",
       "    .dataframe tbody tr th {\n",
       "        vertical-align: top;\n",
       "    }\n",
       "\n",
       "    .dataframe thead th {\n",
       "        text-align: right;\n",
       "    }\n",
       "</style>\n",
       "<table border=\"1\" class=\"dataframe\">\n",
       "  <thead>\n",
       "    <tr style=\"text-align: right;\">\n",
       "      <th></th>\n",
       "      <th>rxn_id</th>\n",
       "      <th>flux</th>\n",
       "    </tr>\n",
       "  </thead>\n",
       "  <tbody>\n",
       "    <tr>\n",
       "      <th>0</th>\n",
       "      <td>PFK</td>\n",
       "      <td>7.920329</td>\n",
       "    </tr>\n",
       "    <tr>\n",
       "      <th>1</th>\n",
       "      <td>PFL</td>\n",
       "      <td>5.396445</td>\n",
       "    </tr>\n",
       "    <tr>\n",
       "      <th>2</th>\n",
       "      <td>PGI</td>\n",
       "      <td>4.685600</td>\n",
       "    </tr>\n",
       "    <tr>\n",
       "      <th>3</th>\n",
       "      <td>PGK</td>\n",
       "      <td>-16.381815</td>\n",
       "    </tr>\n",
       "    <tr>\n",
       "      <th>4</th>\n",
       "      <td>PGL</td>\n",
       "      <td>5.132838</td>\n",
       "    </tr>\n",
       "    <tr>\n",
       "      <th>...</th>\n",
       "      <td>...</td>\n",
       "      <td>...</td>\n",
       "    </tr>\n",
       "    <tr>\n",
       "      <th>90</th>\n",
       "      <td>NADH16</td>\n",
       "      <td>37.693630</td>\n",
       "    </tr>\n",
       "    <tr>\n",
       "      <th>91</th>\n",
       "      <td>NADTRHD</td>\n",
       "      <td>5.777644</td>\n",
       "    </tr>\n",
       "    <tr>\n",
       "      <th>92</th>\n",
       "      <td>NH4t</td>\n",
       "      <td>3.745024</td>\n",
       "    </tr>\n",
       "    <tr>\n",
       "      <th>93</th>\n",
       "      <td>O2t</td>\n",
       "      <td>21.493428</td>\n",
       "    </tr>\n",
       "    <tr>\n",
       "      <th>94</th>\n",
       "      <td>PDH</td>\n",
       "      <td>5.232945</td>\n",
       "    </tr>\n",
       "  </tbody>\n",
       "</table>\n",
       "<p>95 rows × 2 columns</p>\n",
       "</div>"
      ],
      "text/plain": [
       "     rxn_id       flux\n",
       "0       PFK   7.920329\n",
       "1       PFL   5.396445\n",
       "2       PGI   4.685600\n",
       "3       PGK -16.381815\n",
       "4       PGL   5.132838\n",
       "..      ...        ...\n",
       "90   NADH16  37.693630\n",
       "91  NADTRHD   5.777644\n",
       "92     NH4t   3.745024\n",
       "93      O2t  21.493428\n",
       "94      PDH   5.232945\n",
       "\n",
       "[95 rows x 2 columns]"
      ]
     },
     "execution_count": 16,
     "metadata": {},
     "output_type": "execute_result"
    }
   ],
   "source": [
    "sampling_result.result[0]"
   ]
  },
  {
   "cell_type": "markdown",
   "id": "7be46a43",
   "metadata": {},
   "source": [
    "## Create Group object"
   ]
  },
  {
   "cell_type": "code",
   "execution_count": 6,
   "id": "c4d6ec0d",
   "metadata": {},
   "outputs": [],
   "source": [
    "from pipeGEM.utils import random_perturb"
   ]
  },
  {
   "cell_type": "code",
   "execution_count": 9,
   "id": "d455ac2f",
   "metadata": {},
   "outputs": [
    {
     "name": "stdout",
     "output_type": "stream",
     "text": [
      "Read LP format model from file C:\\Users\\qwert\\AppData\\Local\\Temp\\tmpu7iyyo0z.lp\n",
      "Reading time = 0.01 seconds\n",
      ": 72 rows, 190 columns, 720 nonzeros\n",
      "Read LP format model from file C:\\Users\\qwert\\AppData\\Local\\Temp\\tmpussg6iw5.lp\n",
      "Reading time = 0.01 seconds\n",
      ": 72 rows, 190 columns, 720 nonzeros\n",
      "Read LP format model from file C:\\Users\\qwert\\AppData\\Local\\Temp\\tmp19a5l8gf.lp\n",
      "Reading time = 0.00 seconds\n",
      ": 72 rows, 190 columns, 720 nonzeros\n",
      "Read LP format model from file C:\\Users\\qwert\\AppData\\Local\\Temp\\tmp51au7sf0.lp\n",
      "Reading time = 0.01 seconds\n",
      ": 72 rows, 190 columns, 720 nonzeros\n",
      "Read LP format model from file C:\\Users\\qwert\\AppData\\Local\\Temp\\tmpjul0vqvp.lp\n",
      "Reading time = 0.01 seconds\n",
      ": 72 rows, 190 columns, 720 nonzeros\n",
      "Read LP format model from file C:\\Users\\qwert\\AppData\\Local\\Temp\\tmprbzcf_p6.lp\n",
      "Reading time = 0.00 seconds\n",
      ": 72 rows, 190 columns, 720 nonzeros\n",
      "Read LP format model from file C:\\Users\\qwert\\AppData\\Local\\Temp\\tmp99hs_ujn.lp\n",
      "Reading time = 0.01 seconds\n",
      ": 72 rows, 190 columns, 720 nonzeros\n",
      "Read LP format model from file C:\\Users\\qwert\\AppData\\Local\\Temp\\tmp0v7szm4a.lp\n",
      "Reading time = 0.01 seconds\n",
      ": 72 rows, 190 columns, 720 nonzeros\n",
      "Read LP format model from file C:\\Users\\qwert\\AppData\\Local\\Temp\\tmp9qd7yye8.lp\n",
      "Reading time = 0.01 seconds\n",
      ": 72 rows, 190 columns, 720 nonzeros\n"
     ]
    }
   ],
   "source": [
    "# create different models\n",
    "models = [random_perturb(ecoli, \n",
    "                         in_place=False, \n",
    "                         structure_ratio=0.8,\n",
    "                         constr_ratio=0.8, \n",
    "                         random_state=i) for i in range(9)]"
   ]
  },
  {
   "cell_type": "code",
   "execution_count": 22,
   "id": "83f6a0f9",
   "metadata": {},
   "outputs": [],
   "source": [
    "# The first way to initialize Group is to use a dict of cobra.model dicts (str as keys)\n",
    "\n",
    "grp = pg.Group({\"G1\": {f\"m{i+1}\": models[i] for i in range(3)},\n",
    "               \"G2\": {f\"m{i+1}\": models[i] for i in range(3, 6)},\n",
    "               \"G3\": {f\"m{i+1}\": models[i] for i in range(6, 9)}}, name_tag=\"group\")"
   ]
  },
  {
   "cell_type": "code",
   "execution_count": 23,
   "id": "01b18eba",
   "metadata": {},
   "outputs": [
    {
     "data": {
      "text/plain": [
       "Group [group]\n",
       "├── [0] G1 (Group) ── 3\n",
       "├── [1] G2 (Group) ── 3\n",
       "└── [2] G3 (Group) ── 3"
      ]
     },
     "execution_count": 23,
     "metadata": {},
     "output_type": "execute_result"
    }
   ],
   "source": [
    "# browse the group structure\n",
    "\n",
    "grp"
   ]
  },
  {
   "cell_type": "code",
   "execution_count": 24,
   "id": "551cbeca",
   "metadata": {},
   "outputs": [
    {
     "data": {
      "text/html": [
       "<div>\n",
       "<style scoped>\n",
       "    .dataframe tbody tr th:only-of-type {\n",
       "        vertical-align: middle;\n",
       "    }\n",
       "\n",
       "    .dataframe tbody tr th {\n",
       "        vertical-align: top;\n",
       "    }\n",
       "\n",
       "    .dataframe thead th {\n",
       "        text-align: right;\n",
       "    }\n",
       "</style>\n",
       "<table border=\"1\" class=\"dataframe\">\n",
       "  <thead>\n",
       "    <tr style=\"text-align: right;\">\n",
       "      <th></th>\n",
       "      <th>group_0</th>\n",
       "      <th>group_1</th>\n",
       "      <th>group_2</th>\n",
       "    </tr>\n",
       "  </thead>\n",
       "  <tbody>\n",
       "    <tr>\n",
       "      <th>0</th>\n",
       "      <td>group</td>\n",
       "      <td>G1</td>\n",
       "      <td>m1</td>\n",
       "    </tr>\n",
       "    <tr>\n",
       "      <th>1</th>\n",
       "      <td>group</td>\n",
       "      <td>G1</td>\n",
       "      <td>m2</td>\n",
       "    </tr>\n",
       "    <tr>\n",
       "      <th>2</th>\n",
       "      <td>group</td>\n",
       "      <td>G1</td>\n",
       "      <td>m3</td>\n",
       "    </tr>\n",
       "    <tr>\n",
       "      <th>3</th>\n",
       "      <td>group</td>\n",
       "      <td>G2</td>\n",
       "      <td>m4</td>\n",
       "    </tr>\n",
       "    <tr>\n",
       "      <th>4</th>\n",
       "      <td>group</td>\n",
       "      <td>G2</td>\n",
       "      <td>m5</td>\n",
       "    </tr>\n",
       "    <tr>\n",
       "      <th>5</th>\n",
       "      <td>group</td>\n",
       "      <td>G2</td>\n",
       "      <td>m6</td>\n",
       "    </tr>\n",
       "    <tr>\n",
       "      <th>6</th>\n",
       "      <td>group</td>\n",
       "      <td>G3</td>\n",
       "      <td>m7</td>\n",
       "    </tr>\n",
       "    <tr>\n",
       "      <th>7</th>\n",
       "      <td>group</td>\n",
       "      <td>G3</td>\n",
       "      <td>m8</td>\n",
       "    </tr>\n",
       "    <tr>\n",
       "      <th>8</th>\n",
       "      <td>group</td>\n",
       "      <td>G3</td>\n",
       "      <td>m9</td>\n",
       "    </tr>\n",
       "  </tbody>\n",
       "</table>\n",
       "</div>"
      ],
      "text/plain": [
       "  group_0 group_1 group_2\n",
       "0   group      G1      m1\n",
       "1   group      G1      m2\n",
       "2   group      G1      m3\n",
       "3   group      G2      m4\n",
       "4   group      G2      m5\n",
       "5   group      G2      m6\n",
       "6   group      G3      m7\n",
       "7   group      G3      m8\n",
       "8   group      G3      m9"
      ]
     },
     "execution_count": 24,
     "metadata": {},
     "output_type": "execute_result"
    }
   ],
   "source": [
    "# browse the group table\n",
    "\n",
    "grp.get_info()"
   ]
  },
  {
   "cell_type": "code",
   "execution_count": 25,
   "id": "c0b9541c",
   "metadata": {},
   "outputs": [
    {
     "data": {
      "text/plain": [
       "Group [G1]\n",
       "├── [0] m1 (Model)\n",
       "├── [1] m2 (Model)\n",
       "└── [2] m3 (Model)"
      ]
     },
     "execution_count": 25,
     "metadata": {},
     "output_type": "execute_result"
    }
   ],
   "source": [
    "# select one group / model by name_tag\n",
    "\n",
    "grp[\"G1\"]"
   ]
  },
  {
   "cell_type": "code",
   "execution_count": 26,
   "id": "c42a0f80",
   "metadata": {},
   "outputs": [
    {
     "data": {
      "text/html": [
       "<div>\n",
       "<style scoped>\n",
       "    .dataframe tbody tr th:only-of-type {\n",
       "        vertical-align: middle;\n",
       "    }\n",
       "\n",
       "    .dataframe tbody tr th {\n",
       "        vertical-align: top;\n",
       "    }\n",
       "\n",
       "    .dataframe thead th {\n",
       "        text-align: right;\n",
       "    }\n",
       "</style>\n",
       "<table border=\"1\" class=\"dataframe\">\n",
       "  <thead>\n",
       "    <tr style=\"text-align: right;\">\n",
       "      <th></th>\n",
       "      <th>group_0</th>\n",
       "      <th>group_1</th>\n",
       "    </tr>\n",
       "  </thead>\n",
       "  <tbody>\n",
       "    <tr>\n",
       "      <th>0</th>\n",
       "      <td>G1</td>\n",
       "      <td>m1</td>\n",
       "    </tr>\n",
       "    <tr>\n",
       "      <th>1</th>\n",
       "      <td>G1</td>\n",
       "      <td>m2</td>\n",
       "    </tr>\n",
       "    <tr>\n",
       "      <th>2</th>\n",
       "      <td>G1</td>\n",
       "      <td>m3</td>\n",
       "    </tr>\n",
       "  </tbody>\n",
       "</table>\n",
       "</div>"
      ],
      "text/plain": [
       "  group_0 group_1\n",
       "0      G1      m1\n",
       "1      G1      m2\n",
       "2      G1      m3"
      ]
     },
     "execution_count": 26,
     "metadata": {},
     "output_type": "execute_result"
    }
   ],
   "source": [
    "grp[\"G1\"].get_info()"
   ]
  },
  {
   "cell_type": "code",
   "execution_count": 27,
   "id": "8ed51637",
   "metadata": {},
   "outputs": [
    {
     "data": {
      "text/plain": [
       "pipeGEM.core._model.Model"
      ]
     },
     "execution_count": 27,
     "metadata": {},
     "output_type": "execute_result"
    }
   ],
   "source": [
    "# The models will become pg.Model\n",
    "\n",
    "type(grp[\"G1\"][\"m1\"])"
   ]
  },
  {
   "cell_type": "code",
   "execution_count": 30,
   "id": "11baa1c1",
   "metadata": {
    "tags": []
   },
   "outputs": [],
   "source": [
    "# The second way to initialize Group is to use a dict of pipeGEM.Model lists\n",
    "\n",
    "grp = pg.Group({\"G1\": [pg.Model(f\"m{i+1}\", models[i]) for i in range(3)],\n",
    "               \"G2\": [pg.Model(f\"m{i+1}\", models[i]) for i in range(3, 6)],\n",
    "               \"G3\": [pg.Model(f\"m{i+1}\", models[i]) for i in range(6, 9)]}, name_tag=\"group\")"
   ]
  },
  {
   "cell_type": "markdown",
   "id": "ba36a4e5",
   "metadata": {
    "pycharm": {
     "name": "#%% md\n"
    }
   },
   "source": [
    "## Comparisons"
   ]
  },
  {
   "cell_type": "code",
   "execution_count": 98,
   "id": "fe3cf29c",
   "metadata": {
    "collapsed": false,
    "jupyter": {
     "outputs_hidden": false
    },
    "pycharm": {
     "name": "#%%\n"
    }
   },
   "outputs": [],
   "source": [
    "# compare model components\n",
    "\n",
    "comparison = grp.compare(use=\"jaccard\")"
   ]
  },
  {
   "cell_type": "code",
   "execution_count": 100,
   "id": "0d5cf764",
   "metadata": {
    "collapsed": false,
    "jupyter": {
     "outputs_hidden": false
    },
    "pycharm": {
     "name": "#%%\n"
    }
   },
   "outputs": [
    {
     "data": {
      "image/png": "[encoded data removed]",
      "text/plain": [
       "<Figure size 648x648 with 2 Axes>"
      ]
     },
     "metadata": {},
     "output_type": "display_data"
    }
   ],
   "source": [
    "# visualization\n",
    "\n",
    "comparison.plot()"
   ]
  },
  {
   "cell_type": "code",
   "execution_count": 101,
   "id": "bdf08487",
   "metadata": {},
   "outputs": [
    {
     "data": {
      "text/plain": [
       "          m1        m2        m3        m4        m5        m6        m7  \\\n",
       "m1  1.000000  0.648084  0.671587  0.552901  0.776224  0.722222  0.677083   \n",
       "m2  0.648084  1.000000  0.660517  0.637681  0.717687  0.717770  0.649485   \n",
       "m3  0.671587  0.660517  1.000000  0.548387  0.678201  0.625430  0.602787   \n",
       "m4  0.552901  0.637681  0.548387  1.000000  0.690972  0.714801  0.638298   \n",
       "m5  0.776224  0.717687  0.678201  0.690972  1.000000  0.765886  0.751701   \n",
       "m6  0.722222  0.717770  0.625430  0.714801  0.765886  1.000000  0.790036   \n",
       "m7  0.677083  0.649485  0.602787  0.638298  0.751701  0.790036  1.000000   \n",
       "m8  0.665493  0.604096  0.607143  0.614286  0.706081  0.717770  0.714286   \n",
       "m9  0.670251  0.591065  0.628676  0.642066  0.688136  0.693380  0.671378   \n",
       "\n",
       "          m8        m9  \n",
       "m1  0.665493  0.670251  \n",
       "m2  0.604096  0.591065  \n",
       "m3  0.607143  0.628676  \n",
       "m4  0.614286  0.642066  \n",
       "m5  0.706081  0.688136  \n",
       "m6  0.717770  0.693380  \n",
       "m7  0.714286  0.671378  \n",
       "m8  1.000000  0.767176  \n",
       "m9  0.767176  1.000000  "
      ]
     },
     "execution_count": 101,
     "metadata": {},
     "output_type": "execute_result"
    }
   ],
   "source": [
    "# data frame showing the jaccard values\n",
    "comparison"
   ]
  },
  {
   "cell_type": "code",
   "execution_count": 112,
   "id": "055a58ed",
   "metadata": {},
   "outputs": [],
   "source": [
    "comparison = grp.compare(use=\"PCA\", compare_models=False, n_components=5)"
   ]
  },
  {
   "cell_type": "code",
   "execution_count": 114,
   "id": "c2609efd",
   "metadata": {
    "tags": []
   },
   "outputs": [
    {
     "name": "stdout",
     "output_type": "stream",
     "text": [
      "saving  PCA.png\n"
     ]
    },
    {
     "data": {
      "image/png": "[encoded data removed]",
      "text/plain": [
       "<Figure size 792x576 with 1 Axes>"
      ]
     },
     "metadata": {},
     "output_type": "display_data"
    },
    {
     "data": {
      "image/png": "[encoded data removed]",
      "text/plain": [
       "<Figure size 504x504 with 1 Axes>"
      ]
     },
     "metadata": {},
     "output_type": "display_data"
    }
   ],
   "source": [
    "comparison.plot(file_name=\"PCA.png\", prefix=\"\")"
   ]
  },
  {
   "cell_type": "code",
   "execution_count": 70,
   "id": "e97ecec1",
   "metadata": {},
   "outputs": [],
   "source": [
    "comparison = grp.compare(compare_models=False, use=\"num\", present_lvl=2)"
   ]
  },
  {
   "cell_type": "code",
   "execution_count": 72,
   "id": "b96b29b0",
   "metadata": {},
   "outputs": [
    {
     "data": {
      "image/png": "[encoded data removed]",
      "text/plain": [
       "<Figure size 864x504 with 3 Axes>"
      ]
     },
     "metadata": {},
     "output_type": "display_data"
    }
   ],
   "source": [
    "comparison.plot(group=\"group\", name_order=\"default\")"
   ]
  },
  {
   "cell_type": "code",
   "execution_count": null,
   "id": "15079f1b",
   "metadata": {},
   "outputs": [],
   "source": []
  }
 ],
 "metadata": {
  "kernelspec": {
   "display_name": "Python 3 (ipykernel)",
   "language": "python",
   "name": "python3"
  },
  "language_info": {
   "codemirror_mode": {
    "name": "ipython",
    "version": 3
   },
   "file_extension": ".py",
   "mimetype": "text/x-python",
   "name": "python",
   "nbconvert_exporter": "python",
   "pygments_lexer": "ipython3",
   "version": "3.10.10"
  }
 },
 "nbformat": 4,
 "nbformat_minor": 5
}
