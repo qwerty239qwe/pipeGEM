{
 "cells": [
  {
   "cell_type": "markdown",
   "id": "a1954c12",
   "metadata": {},
   "source": [
    "# 3. Model testing"
   ]
  },
  {
   "cell_type": "code",
   "execution_count": 5,
   "id": "cbb212e4",
   "metadata": {
    "tags": []
   },
   "outputs": [
    {
     "name": "stdout",
     "output_type": "stream",
     "text": [
      "The autoreload extension is already loaded. To reload it, use:\n",
      "  %reload_ext autoreload\n"
     ]
    }
   ],
   "source": [
    "import sys\n",
    "from pathlib import Path\n",
    "sys.path.append(str(Path(\"../../../\").resolve()))\n",
    "\n",
    "%load_ext autoreload\n",
    "%autoreload 2"
   ]
  },
  {
   "cell_type": "code",
   "execution_count": 8,
   "id": "56623091",
   "metadata": {
    "tags": []
   },
   "outputs": [],
   "source": [
    "import copy\n",
    "import numpy as np\n",
    "import seaborn as sns\n",
    "import pipeGEM as pg\n",
    "\n",
    "from pipeGEM.analysis.tasks import TaskContainer, TASKS_FILE_PATH\n",
    "from pipeGEM.data import get_syn_gene_data\n",
    "from pipeGEM import load_remote_model"
   ]
  },
  {
   "cell_type": "markdown",
   "id": "244db574-af63-4c07-b214-20bf64976e20",
   "metadata": {
    "tags": []
   },
   "source": [
    "## Scaling test and rescaling a model"
   ]
  },
  {
   "cell_type": "markdown",
   "id": "76417089-dcf9-4c0b-8120-c4656bfe1140",
   "metadata": {},
   "source": [
    "Scaling a metabolic model might not always be necessary. \n",
    "However, for some complex models with a wide range of coefficients, it is possible for some solvers to produce unstable LP solution. \n",
    "Here, we implemented some scaling methods, including arithmetic, de Buchet, geometric mean, and L1 and L2 norm scaling methods.\n",
    "These approaches could help us to reduce computation time, avoid numerical error, and finding compact variables when solving LP roblems. [1]\n",
    "\n",
    "reference: \n",
    "1. Tomlin, J. A. (1975). On scaling linear programming problems. Computational Practice in Mathematical Programming, 146–166. doi:10.1007/bfb0120718"
   ]
  },
  {
   "cell_type": "code",
   "execution_count": 21,
   "id": "850cdd98-eebb-4f54-9391-66f48e6c9a75",
   "metadata": {
    "tags": []
   },
   "outputs": [],
   "source": [
    "ecoli = pg.Model(\"ecoli\", load_remote_model(\"e_coli_core\"))"
   ]
  },
  {
   "cell_type": "code",
   "execution_count": 22,
   "id": "f30a94ed-50d1-4498-8738-cb5ceb7d0fc3",
   "metadata": {
    "tags": []
   },
   "outputs": [
    {
     "name": "stdout",
     "output_type": "stream",
     "text": [
      "Read LP format model from file C:\\Users\\user\\AppData\\Local\\Temp\\tmp8e1i_n6o.lp\n",
      "Reading time = 0.00 seconds\n",
      ": 72 rows, 190 columns, 720 nonzeros\n",
      "Problematic rows (metabolite coefficients): 0\n",
      "Problematic cols (metabolite coefficients): 0\n",
      "Problematic rows (metabolite coefficients): 0\n",
      "Problematic cols (reaction coefficients): 0\n"
     ]
    }
   ],
   "source": [
    "scaling_result = ecoli.check_model_scale(method=\"geometric_mean\")"
   ]
  },
  {
   "cell_type": "code",
   "execution_count": 23,
   "id": "e280ec9e-38bf-4a40-a083-5051b31aa9a0",
   "metadata": {
    "tags": []
   },
   "outputs": [
    {
     "data": {
      "text/plain": [
       "ModelScalingResult at 0x22b2e215ba0\n",
       "\n",
       "-----------\n",
       "Parameters:\n",
       "{'n_iter': 10, 'method': 'GeoMeanScaler'}\n",
       "-----------\n",
       "Result keys:\n",
       "rescaled_model, diff_A, rescaled_A, met_scaling_factor, rxn_scaling_factor"
      ]
     },
     "execution_count": 23,
     "metadata": {},
     "output_type": "execute_result"
    }
   ],
   "source": [
    "scaling_result"
   ]
  },
  {
   "cell_type": "code",
   "execution_count": 32,
   "id": "623a6bc8-91b4-4860-abb1-e83d83106c76",
   "metadata": {
    "tags": []
   },
   "outputs": [
    {
     "data": {
      "text/plain": [
       "{<Metabolite 3pg_c at 0x22b2e4291b0>: -1.496,\n",
       " <Metabolite accoa_c at 0x22b2e42a890>: -3.7478,\n",
       " <Metabolite atp_c at 0x22b2e42aa70>: -59.81,\n",
       " <Metabolite e4p_c at 0x22b2e42aa40>: -0.361,\n",
       " <Metabolite f6p_c at 0x22b2e428700>: -0.0709,\n",
       " <Metabolite g3p_c at 0x22b2e429e40>: -0.129,\n",
       " <Metabolite g6p_c at 0x22b2e42b9a0>: -0.205,\n",
       " <Metabolite gln__L_c at 0x22b2e429e10>: -0.2557,\n",
       " <Metabolite glu__L_c at 0x22b2e42a140>: -4.9414,\n",
       " <Metabolite h2o_c at 0x22b2e42b2e0>: -59.81,\n",
       " <Metabolite nad_c at 0x22b2e428a00>: -3.547,\n",
       " <Metabolite nadph_c at 0x22b2e428460>: -13.0279,\n",
       " <Metabolite oaa_c at 0x22b2e42a830>: -1.7867,\n",
       " <Metabolite pep_c at 0x22b2e42a1d0>: -0.5191,\n",
       " <Metabolite pyr_c at 0x22b2e428b50>: -2.8328,\n",
       " <Metabolite r5p_c at 0x22b2e42a080>: -0.8977,\n",
       " <Metabolite adp_c at 0x22b2e42bee0>: 59.81,\n",
       " <Metabolite akg_c at 0x22b2e42a5f0>: 4.1182,\n",
       " <Metabolite coa_c at 0x22b2e429630>: 3.7478,\n",
       " <Metabolite h_c at 0x22b2e42ba30>: 59.81,\n",
       " <Metabolite nadh_c at 0x22b2e42ae60>: 3.547,\n",
       " <Metabolite nadp_c at 0x22b2e429c60>: 13.0279,\n",
       " <Metabolite pi_c at 0x22b2e42a8c0>: 59.81}"
      ]
     },
     "execution_count": 32,
     "metadata": {},
     "output_type": "execute_result"
    }
   ],
   "source": [
    "ecoli.reactions.get_by_id(\"BIOMASS_Ecoli_core_w_GAM\").metabolites"
   ]
  },
  {
   "cell_type": "code",
   "execution_count": 39,
   "id": "86097e86-7459-479e-9db6-3a052687c121",
   "metadata": {
    "tags": []
   },
   "outputs": [],
   "source": [
    "def ratio_of_max_min_coef(model, rxn_id):\n",
    "    max_coef = max([abs(c) for _, c in model.reactions.get_by_id(rxn_id).metabolites.items()])\n",
    "    min_coef = min([abs(c) for _, c in model.reactions.get_by_id(rxn_id).metabolites.items()])\n",
    "    return max_coef / min_coef"
   ]
  },
  {
   "cell_type": "code",
   "execution_count": 42,
   "id": "b21f9c87-8bcf-42f3-a6ef-382accabafe2",
   "metadata": {
    "tags": []
   },
   "outputs": [],
   "source": [
    "worst_ratio = max([ratio_of_max_min_coef(ecoli, r.id) for r in ecoli.reactions])"
   ]
  },
  {
   "cell_type": "code",
   "execution_count": 44,
   "id": "68a6be8d-03e1-4a7b-bbcb-fb20a2b7fd34",
   "metadata": {
    "tags": []
   },
   "outputs": [
    {
     "name": "stdout",
     "output_type": "stream",
     "text": [
      "843.5825105782792 843.5825105782792\n"
     ]
    }
   ],
   "source": [
    "print(ratio_of_max_min_coef(ecoli, \"BIOMASS_Ecoli_core_w_GAM\"), worst_ratio)"
   ]
  },
  {
   "cell_type": "markdown",
   "id": "1bb6ee17-fb06-4e72-ab6d-b9bc193dbfbd",
   "metadata": {},
   "source": [
    "The ratio of the maximum coef to the minimum coef is 843.6 in the biomass reaction in the original model. <br>\n",
    "It is a acceptable value, but it is not a guarantee property for the other metabolic models. Let's see if the scaling method mitigate this issue."
   ]
  },
  {
   "cell_type": "code",
   "execution_count": 33,
   "id": "e81eae4f-ce56-45d0-acf6-612e750e7aaf",
   "metadata": {
    "tags": []
   },
   "outputs": [
    {
     "data": {
      "text/plain": [
       "{<Metabolite 3pg_c at 0x22b2e42a500>: -0.51274063463161,\n",
       " <Metabolite accoa_c at 0x22b2e42a290>: -0.7862060767162431,\n",
       " <Metabolite atp_c at 0x22b31ed8970>: -5.389294194476442,\n",
       " <Metabolite e4p_c at 0x22b31ed8640>: -0.7731076441077104,\n",
       " <Metabolite f6p_c at 0x22b31ed8ac0>: -0.18555305461425978,\n",
       " <Metabolite g3p_c at 0x22b31ed8c10>: -0.22652497883489797,\n",
       " <Metabolite g6p_c at 0x22b31ed8c40>: -0.2643449044591689,\n",
       " <Metabolite gln__L_c at 0x22b2e65c670>: -0.2845530816746419,\n",
       " <Metabolite glu__L_c at 0x22b2e65c850>: -1.029224181089317,\n",
       " <Metabolite h2o_c at 0x22b2e40e500>: -5.389294194476442,\n",
       " <Metabolite nad_c at 0x22b2e428d60>: -0.8601152176103342,\n",
       " <Metabolite nadph_c at 0x22b2e42b9d0>: -2.1073235519126516,\n",
       " <Metabolite oaa_c at 0x22b2e429240>: -0.5440071578264254,\n",
       " <Metabolite pep_c at 0x22b2e428b80>: -0.3603049725110054,\n",
       " <Metabolite pyr_c at 0x22b2e42aec0>: -1.3759144885142385,\n",
       " <Metabolite r5p_c at 0x22b2e4293c0>: -0.7683604325856122,\n",
       " <Metabolite adp_c at 0x22b31ed88e0>: 5.389294194476442,\n",
       " <Metabolite akg_c at 0x22b31ed87c0>: 0.857765685025071,\n",
       " <Metabolite coa_c at 0x22b31ed89a0>: 0.7862060767162431,\n",
       " <Metabolite h_c at 0x22b2e633e20>: 5.389294194476442,\n",
       " <Metabolite nadh_c at 0x22b2e428e50>: 0.8601152176103342,\n",
       " <Metabolite nadp_c at 0x22b2e428fa0>: 2.1073235519126516,\n",
       " <Metabolite pi_c at 0x22b2e429060>: 5.389294194476442}"
      ]
     },
     "execution_count": 33,
     "metadata": {},
     "output_type": "execute_result"
    }
   ],
   "source": [
    "scaling_result.rescaled_model.reactions.get_by_id(\"BIOMASS_Ecoli_core_w_GAM\").metabolites"
   ]
  },
  {
   "cell_type": "code",
   "execution_count": 45,
   "id": "20b84138-79fe-4f7d-9034-4e1141bd8161",
   "metadata": {
    "tags": []
   },
   "outputs": [
    {
     "name": "stdout",
     "output_type": "stream",
     "text": [
      "29.044491914617467 29.044491914617467\n"
     ]
    }
   ],
   "source": [
    "worst_ratio = max([ratio_of_max_min_coef(scaling_result.rescaled_model, r.id) for r in ecoli.reactions])\n",
    "print(ratio_of_max_min_coef(scaling_result.rescaled_model, \"BIOMASS_Ecoli_core_w_GAM\"), worst_ratio)"
   ]
  },
  {
   "cell_type": "markdown",
   "id": "eb19f913-7737-4623-9501-c9eb77f55cc5",
   "metadata": {},
   "source": [
    "Now the coefficient scales are in a better range of values. <br>The only disavantage of this method is that the rescaled models could have chaotic coefficients and different scales of metabolites and constraints.<br> Most of the algorithms in PipeGEM could take the rescaling factors into account. <br> It is also possible to reverse the scaling effect using model.undo_scaling(rxn_scaling_factor, met_scaling_factor, n_digits)."
   ]
  },
  {
   "cell_type": "markdown",
   "id": "3bdabb1a-983e-433f-8aa4-0362304267f7",
   "metadata": {
    "tags": []
   },
   "source": [
    "## Consistency test"
   ]
  },
  {
   "cell_type": "code",
   "execution_count": 10,
   "id": "90521804-4e91-4c89-977f-1dbb45672436",
   "metadata": {
    "tags": []
   },
   "outputs": [
    {
     "name": "stdout",
     "output_type": "stream",
     "text": [
      "Set parameter Username\n",
      "Academic license - for non-commercial use only - expires 2024-02-28\n"
     ]
    }
   ],
   "source": [
    "ecoli = pg.Model(\"ecoli\", load_remote_model(\"e_coli_core\"))"
   ]
  },
  {
   "cell_type": "code",
   "execution_count": 13,
   "id": "3d4a6eca-f368-49fa-8194-30ffba4e6707",
   "metadata": {
    "tags": []
   },
   "outputs": [
    {
     "name": "stdout",
     "output_type": "stream",
     "text": [
      "Flux tolerance used: 1e-06\n",
      "Read LP format model from file C:\\Users\\user\\AppData\\Local\\Temp\\tmp3db6j_l9.lp\n",
      "Reading time = 0.00 seconds\n",
      ": 72 rows, 190 columns, 720 nonzeros\n",
      "Found and flipped 1 reactions\n",
      "Inconsistent irreversible rxns: 9\n",
      "Inconsistent irreversible rxns (2nd run): 8\n"
     ]
    },
    {
     "name": "stderr",
     "output_type": "stream",
     "text": [
      "100%|███████████████████████████████████████████████████████████████████████████████████| 6/6 [00:00<00:00, 859.37it/s]\n"
     ]
    }
   ],
   "source": [
    "fastcc_result = ecoli.check_consistency(method = \"FASTCC\", tol=1e-6)"
   ]
  },
  {
   "cell_type": "code",
   "execution_count": 17,
   "id": "892f619e-6abd-47e1-87af-a9e3df5a5f2c",
   "metadata": {
    "tags": []
   },
   "outputs": [
    {
     "data": {
      "text/plain": [
       "FastCCAnalysis at 0x22b318ee800\n",
       "\n",
       "-----------\n",
       "Parameters:\n",
       "{'is_convex': True, 'tol': 1e-06}\n",
       "-----------\n",
       "Result keys:\n",
       "consistent_model, removed_rxn_ids, kept_rxn_ids, flux_record\n",
       "-----------\n",
       "Running time: \n",
       " 0.27443766593933105"
      ]
     },
     "execution_count": 17,
     "metadata": {},
     "output_type": "execute_result"
    }
   ],
   "source": [
    "fastcc_result"
   ]
  },
  {
   "cell_type": "code",
   "execution_count": 14,
   "id": "5606636b-757a-4765-871b-b1da111da3d8",
   "metadata": {
    "tags": []
   },
   "outputs": [
    {
     "data": {
      "text/plain": [
       "array(['EX_fru_e', 'EX_fum_e', 'EX_gln__L_e', 'EX_mal__L_e', 'FRUpts2',\n",
       "       'FUMt2_2', 'GLNabc', 'MALt2_2'], dtype='<U24')"
      ]
     },
     "execution_count": 14,
     "metadata": {},
     "output_type": "execute_result"
    }
   ],
   "source": [
    "# check ids of the removed rxns\n",
    "\n",
    "fastcc_result.removed_rxn_ids"
   ]
  },
  {
   "cell_type": "code",
   "execution_count": 18,
   "id": "34af26ef-d652-4ed1-9a8b-7509a53b0b43",
   "metadata": {
    "tags": []
   },
   "outputs": [
    {
     "name": "stdout",
     "output_type": "stream",
     "text": [
      "<Solution infeasible at 0x22b2e445a50>\n",
      "<Solution infeasible at 0x22b2e446980>\n",
      "<Solution infeasible at 0x22b2e445660>\n",
      "<Solution infeasible at 0x22b2e444790>\n",
      "<Solution infeasible at 0x22b2e447cd0>\n",
      "<Solution infeasible at 0x22b2e447fd0>\n",
      "<Solution infeasible at 0x22b2e4474f0>\n",
      "<Solution infeasible at 0x22b2e444c10>\n"
     ]
    },
    {
     "name": "stderr",
     "output_type": "stream",
     "text": [
      "C:\\Users\\user\\mambaforge\\envs\\cobra310\\lib\\site-packages\\cobra\\util\\solver.py:554: UserWarning: Solver status is 'infeasible'.\n",
      "  warn(f\"Solver status is '{status}'.\", UserWarning)\n",
      "C:\\Users\\user\\mambaforge\\envs\\cobra310\\lib\\site-packages\\cobra\\util\\solver.py:554: UserWarning: Solver status is 'infeasible'.\n",
      "  warn(f\"Solver status is '{status}'.\", UserWarning)\n",
      "C:\\Users\\user\\mambaforge\\envs\\cobra310\\lib\\site-packages\\cobra\\util\\solver.py:554: UserWarning: Solver status is 'infeasible'.\n",
      "  warn(f\"Solver status is '{status}'.\", UserWarning)\n",
      "C:\\Users\\user\\mambaforge\\envs\\cobra310\\lib\\site-packages\\cobra\\util\\solver.py:554: UserWarning: Solver status is 'infeasible'.\n",
      "  warn(f\"Solver status is '{status}'.\", UserWarning)\n",
      "C:\\Users\\user\\mambaforge\\envs\\cobra310\\lib\\site-packages\\cobra\\util\\solver.py:554: UserWarning: Solver status is 'infeasible'.\n",
      "  warn(f\"Solver status is '{status}'.\", UserWarning)\n",
      "C:\\Users\\user\\mambaforge\\envs\\cobra310\\lib\\site-packages\\cobra\\util\\solver.py:554: UserWarning: Solver status is 'infeasible'.\n",
      "  warn(f\"Solver status is '{status}'.\", UserWarning)\n",
      "C:\\Users\\user\\mambaforge\\envs\\cobra310\\lib\\site-packages\\cobra\\util\\solver.py:554: UserWarning: Solver status is 'infeasible'.\n",
      "  warn(f\"Solver status is '{status}'.\", UserWarning)\n",
      "C:\\Users\\user\\mambaforge\\envs\\cobra310\\lib\\site-packages\\cobra\\util\\solver.py:554: UserWarning: Solver status is 'infeasible'.\n",
      "  warn(f\"Solver status is '{status}'.\", UserWarning)\n"
     ]
    }
   ],
   "source": [
    "# to confirm they are inconsistent\n",
    "\n",
    "for r in fastcc_result.removed_rxn_ids:\n",
    "    with ecoli as model:\n",
    "        model.reactions.get_by_id(r).lower_bound = 1e-6\n",
    "        print(model.optimize())"
   ]
  },
  {
   "cell_type": "markdown",
   "id": "d80914bd-6850-429d-90f8-939cac463c79",
   "metadata": {
    "tags": []
   },
   "source": [
    "## Functionality testing with metabolic tasks"
   ]
  },
  {
   "cell_type": "markdown",
   "id": "2f519af0",
   "metadata": {},
   "source": [
    "A Metabolc task were first defined in Thiele and coworkers (2013):\n",
    "\n",
    "*“metabolic task as a nonzero flux through a reaction or through a pathway leading to the production of a metabolite B from a metabolite A. The metabolic capacity of the network was demonstrated by testing nonzero flux values for these metabolic tasks. For each of the simulations, a steady-state flux distribution was calculated. Each metabolic task was optimized individually by choosing the corresponding reaction in the model, if present, as objective function and maximized the flux through the reaction”.*\n",
    "\n",
    "A task-protection method was then proposed in ([Anne Richelle et al. 2019](https://journals.plos.org/ploscompbiol/article?id=10.1371/journal.pcbi.1006867)). Based on this study, we implemented its method in PipeGEM and tried to make it more flexible.\n",
    "\n"
   ]
  },
  {
   "cell_type": "markdown",
   "id": "05353009",
   "metadata": {},
   "source": [
    "## Load existing task file"
   ]
  },
  {
   "cell_type": "code",
   "execution_count": 3,
   "id": "a34591ed",
   "metadata": {
    "tags": []
   },
   "outputs": [],
   "source": [
    "tasks = TaskContainer.load(TASKS_FILE_PATH)"
   ]
  },
  {
   "cell_type": "code",
   "execution_count": 4,
   "id": "bc258178",
   "metadata": {
    "collapsed": true,
    "jupyter": {
     "outputs_hidden": true
    },
    "tags": []
   },
   "outputs": [
    {
     "name": "stdout",
     "output_type": "stream",
     "text": [
      "Task ID: 1.0 \n",
      " system : ENERGY METABOLISM\n",
      "subsystem : OXYDATIVE PHOSPHORYLATION\n",
      "description : Oxidative phosphorylation via NADH-coenzyme Q oxidoreductase (COMPLEX I)\n",
      "should fail : False\n",
      "----- input metabolites -----\n",
      "\n",
      "---------------------------------------\n",
      "|     Met ID|      LB|      UB|   comp|\n",
      "---------------------------------------\n",
      "|   MAM03103|   1.000|   1.000|      m|\n",
      "|   MAM02553|   1.000|   1.000|      m|\n",
      "|   MAM02039|   5.000|   5.000|      m|\n",
      "---------------------------------------\n",
      "\n",
      "----- output metabolites -----\n",
      "\n",
      "---------------------------------------\n",
      "|     Met ID|      LB|      UB|   comp|\n",
      "---------------------------------------\n",
      "|   MAM03102|   1.000|   1.000|      m|\n",
      "|   MAM02552|   1.000|   1.000|      m|\n",
      "|   MAM02039|   4.000|   4.000|      i|\n",
      "---------------------------------------\n",
      "\n",
      "Task ID: 2.0 \n",
      " system : ENERGY METABOLISM\n",
      "subsystem : OXYDATIVE PHOSPHORYLATION\n",
      "description : Oxidative phosphorylation via succinate-coenzyme Q oxidoreductase (COMPLEX II)\n",
      "should fail : False\n",
      "----- input metabolites -----\n",
      "\n",
      "---------------------------------------\n",
      "|     Met ID|      LB|      UB|   comp|\n",
      "---------------------------------------\n",
      "|   MAM02943|   1.000|   1.000|      m|\n",
      "|   MAM01802|   1.000|   1.000|      m|\n",
      "---------------------------------------\n",
      "\n",
      "----- output metabolites -----\n",
      "\n",
      "---------------------------------------\n",
      "|     Met ID|      LB|      UB|   comp|\n",
      "---------------------------------------\n",
      "|   MAM01862|   1.000|   1.000|      m|\n",
      "|   MAM01803|   1.000|   1.000|      m|\n",
      "---------------------------------------\n",
      "\n",
      "Task ID: 3.0 \n",
      " system : ENERGY METABOLISM\n",
      "subsystem : KREBS CYCLE\n",
      "description : Krebs cycle - oxidative decarboxylation of pyruvate\n",
      "should fail : False\n",
      "----- input metabolites -----\n",
      "\n",
      "---------------------------------------\n",
      "|     Met ID|      LB|      UB|   comp|\n",
      "---------------------------------------\n",
      "|   MAM02819|   1.000|   1.000|      m|\n",
      "|   MAM02552|   1.000|   1.000|      m|\n",
      "|   MAM01597|   1.000|   1.000|      m|\n",
      "---------------------------------------\n",
      "\n",
      "----- output metabolites -----\n",
      "\n",
      "---------------------------------------\n",
      "|     Met ID|      LB|      UB|   comp|\n",
      "---------------------------------------\n",
      "|   MAM01261|   1.000|   1.000|      m|\n",
      "|   MAM02553|   1.000|   1.000|      m|\n",
      "|   MAM01596|   1.000|   1.000|      m|\n",
      "---------------------------------------\n",
      "\n"
     ]
    }
   ],
   "source": [
    "for i, (task_id, task) in enumerate(tasks.items()):\n",
    "    if i == 3:\n",
    "        break\n",
    "    print(f\"Task ID: {task_id}\", '\\n', task)"
   ]
  },
  {
   "cell_type": "markdown",
   "id": "53795296",
   "metadata": {},
   "source": [
    "## Manipulating a task"
   ]
  },
  {
   "cell_type": "code",
   "execution_count": 5,
   "id": "d491a73f",
   "metadata": {
    "tags": []
   },
   "outputs": [
    {
     "name": "stdout",
     "output_type": "stream",
     "text": [
      "system : ENERGY METABOLISM\n",
      "subsystem : OXYDATIVE PHOSPHORYLATION\n",
      "description : Oxidative phosphorylation via NADH-coenzyme Q oxidoreductase (COMPLEX I)\n",
      "should fail : False\n",
      "----- input metabolites -----\n",
      "\n",
      "---------------------------------------\n",
      "|     Met ID|      LB|      UB|   comp|\n",
      "---------------------------------------\n",
      "|   MAM03103|   1.000|   1.000|      m|\n",
      "|   MAM02553|   1.000|   1.000|      m|\n",
      "|   MAM02039|   5.000|   5.000|      m|\n",
      "---------------------------------------\n",
      "\n",
      "----- output metabolites -----\n",
      "\n",
      "---------------------------------------\n",
      "|     Met ID|      LB|      UB|   comp|\n",
      "---------------------------------------\n",
      "|   MAM03102|   1.000|   1.000|      m|\n",
      "|   MAM02552|   1.000|   1.000|      m|\n",
      "|   MAM02039|   4.000|   4.000|      i|\n",
      "---------------------------------------\n",
      "\n"
     ]
    }
   ],
   "source": [
    "print(tasks[\"1.0\"])"
   ]
  },
  {
   "cell_type": "code",
   "execution_count": 7,
   "id": "809905ab",
   "metadata": {
    "tags": []
   },
   "outputs": [],
   "source": [
    "new_task = copy.deepcopy(tasks[\"1.0\"])"
   ]
  },
  {
   "cell_type": "code",
   "execution_count": 8,
   "id": "dc51f0da",
   "metadata": {
    "tags": []
   },
   "outputs": [
    {
     "data": {
      "text/plain": [
       "([{'met_id': 'MAM03103', 'lb': 1.0, 'ub': 1.0, 'compartment': 'm'},\n",
       "  {'met_id': 'MAM02553', 'lb': 1.0, 'ub': 1.0, 'compartment': 'm'},\n",
       "  {'met_id': 'MAM02039', 'lb': 5.0, 'ub': 5.0, 'compartment': 'm'}],\n",
       " [{'met_id': 'MAM03102', 'lb': 1.0, 'ub': 1.0, 'compartment': 'm'},\n",
       "  {'met_id': 'MAM02552', 'lb': 1.0, 'ub': 1.0, 'compartment': 'm'},\n",
       "  {'met_id': 'MAM02039', 'lb': 4.0, 'ub': 4.0, 'compartment': 'i'}])"
      ]
     },
     "execution_count": 8,
     "metadata": {},
     "output_type": "execute_result"
    }
   ],
   "source": [
    "new_task.in_mets, new_task.out_mets"
   ]
  },
  {
   "cell_type": "code",
   "execution_count": 9,
   "id": "e042dd42",
   "metadata": {
    "collapsed": true,
    "jupyter": {
     "outputs_hidden": true
    },
    "tags": []
   },
   "outputs": [
    {
     "name": "stdout",
     "output_type": "stream",
     "text": [
      "system : ENERGY METABOLISM\n",
      "subsystem : OXYDATIVE PHOSPHORYLATION\n",
      "description : Oxidative phosphorylation via NADH-coenzyme Q oxidoreductase (COMPLEX I)\n",
      "should fail : False\n",
      "----- input metabolites -----\n",
      "\n",
      "----------------------------------------\n",
      "|     Met ID|      LB|       UB|   comp|\n",
      "----------------------------------------\n",
      "|   MAM03103|   1.000|    1.000|      m|\n",
      "|   MAM02553|   1.000|    1.000|      m|\n",
      "|   MAM02039|   5.000|    5.000|      m|\n",
      "|      glc_D|   0.000|   10.000|      c|\n",
      "----------------------------------------\n",
      "\n",
      "----- output metabolites -----\n",
      "\n",
      "----------------------------------------\n",
      "|     Met ID|      LB|       UB|   comp|\n",
      "----------------------------------------\n",
      "|   MAM03102|   1.000|    1.000|      m|\n",
      "|   MAM02552|   1.000|    1.000|      m|\n",
      "|   MAM02039|   4.000|    4.000|      i|\n",
      "|        co2|   0.000|   10.000|      c|\n",
      "----------------------------------------\n",
      "\n"
     ]
    }
   ],
   "source": [
    "new_task.in_mets.append({\"met_id\": 'glc_D', 'lb': 0, 'ub': 10, 'compartment': 'c'})\n",
    "new_task.out_mets.append({\"met_id\": 'co2', 'lb': 0, 'ub': 10, 'compartment': 'c'})\n",
    "print(new_task)"
   ]
  },
  {
   "cell_type": "code",
   "execution_count": 11,
   "id": "4b6701f5",
   "metadata": {
    "tags": []
   },
   "outputs": [],
   "source": [
    "# add to a task container\n",
    "new_tasks = TaskContainer()\n",
    "new_tasks[\"1\"] = new_task\n",
    "\n",
    "# you can use it to do the following task testing"
   ]
  },
  {
   "cell_type": "markdown",
   "id": "639f9338",
   "metadata": {},
   "source": [
    "## Test the loaded tasks"
   ]
  },
  {
   "cell_type": "code",
   "execution_count": 12,
   "id": "e8e05550",
   "metadata": {
    "tags": []
   },
   "outputs": [],
   "source": [
    "from pipeGEM import load_remote_model\n",
    "from pipeGEM.data import GeneData"
   ]
  },
  {
   "cell_type": "code",
   "execution_count": 13,
   "id": "ed666106",
   "metadata": {
    "tags": []
   },
   "outputs": [
    {
     "data": {
      "application/vnd.jupyter.widget-view+json": {
       "model_id": "91ae5c1f1e5c47dea6f22b3914943629",
       "version_major": 2,
       "version_minor": 0
      },
      "text/plain": [
       "  0%|          | 0/792653 [00:00<?, ?it/s]"
      ]
     },
     "metadata": {},
     "output_type": "display_data"
    },
    {
     "name": "stdout",
     "output_type": "stream",
     "text": [
      "Set parameter Username\n",
      "Academic license - for non-commercial use only - expires 2024-02-28\n"
     ]
    }
   ],
   "source": [
    "human1 = pg.Model(\"human\", \n",
    "                  load_remote_model(\"Human-GEM\"))"
   ]
  },
  {
   "cell_type": "code",
   "execution_count": 14,
   "id": "6559d2f7",
   "metadata": {
    "tags": []
   },
   "outputs": [],
   "source": [
    "human1.add_tasks(\"general\",  # the name of your task\n",
    "                 tasks)  # TaskContainer containing the tasks"
   ]
  },
  {
   "cell_type": "code",
   "execution_count": 15,
   "id": "a240f081",
   "metadata": {
    "tags": []
   },
   "outputs": [],
   "source": [
    "data = np.log2(get_syn_gene_data(human1, n_sample=3) + 1)"
   ]
  },
  {
   "cell_type": "code",
   "execution_count": 16,
   "id": "7b66c06c",
   "metadata": {
    "tags": []
   },
   "outputs": [
    {
     "data": {
      "text/plain": [
       "<seaborn.axisgrid.FacetGrid at 0x1bfd113a560>"
      ]
     },
     "execution_count": 16,
     "metadata": {},
     "output_type": "execute_result"
    },
    {
     "data": {
      "image/png": "[encoded data removed]",
      "text/plain": [
       "<Figure size 500x500 with 1 Axes>"
      ]
     },
     "metadata": {},
     "output_type": "display_data"
    }
   ],
   "source": [
    "sns.displot(data[\"sample_0\"])"
   ]
  },
  {
   "cell_type": "code",
   "execution_count": 17,
   "id": "83473eda",
   "metadata": {
    "tags": []
   },
   "outputs": [
    {
     "data": {
      "text/html": [
       "<div>\n",
       "<style scoped>\n",
       "    .dataframe tbody tr th:only-of-type {\n",
       "        vertical-align: middle;\n",
       "    }\n",
       "\n",
       "    .dataframe tbody tr th {\n",
       "        vertical-align: top;\n",
       "    }\n",
       "\n",
       "    .dataframe thead th {\n",
       "        text-align: right;\n",
       "    }\n",
       "</style>\n",
       "<table border=\"1\" class=\"dataframe\">\n",
       "  <thead>\n",
       "    <tr style=\"text-align: right;\">\n",
       "      <th></th>\n",
       "      <th>sample_0</th>\n",
       "      <th>sample_1</th>\n",
       "      <th>sample_2</th>\n",
       "    </tr>\n",
       "  </thead>\n",
       "  <tbody>\n",
       "    <tr>\n",
       "      <th>ENSG00000000419</th>\n",
       "      <td>17.216367</td>\n",
       "      <td>0.000000</td>\n",
       "      <td>17.690939</td>\n",
       "    </tr>\n",
       "    <tr>\n",
       "      <th>ENSG00000001036</th>\n",
       "      <td>17.261186</td>\n",
       "      <td>18.372886</td>\n",
       "      <td>17.084974</td>\n",
       "    </tr>\n",
       "    <tr>\n",
       "      <th>ENSG00000001084</th>\n",
       "      <td>17.312174</td>\n",
       "      <td>19.877621</td>\n",
       "      <td>20.669270</td>\n",
       "    </tr>\n",
       "    <tr>\n",
       "      <th>ENSG00000001630</th>\n",
       "      <td>19.128405</td>\n",
       "      <td>20.176900</td>\n",
       "      <td>17.418964</td>\n",
       "    </tr>\n",
       "    <tr>\n",
       "      <th>ENSG00000002549</th>\n",
       "      <td>0.000000</td>\n",
       "      <td>0.000000</td>\n",
       "      <td>0.000000</td>\n",
       "    </tr>\n",
       "  </tbody>\n",
       "</table>\n",
       "</div>"
      ],
      "text/plain": [
       "                  sample_0   sample_1   sample_2\n",
       "ENSG00000000419  17.216367   0.000000  17.690939\n",
       "ENSG00000001036  17.261186  18.372886  17.084974\n",
       "ENSG00000001084  17.312174  19.877621  20.669270\n",
       "ENSG00000001630  19.128405  20.176900  17.418964\n",
       "ENSG00000002549   0.000000   0.000000   0.000000"
      ]
     },
     "execution_count": 17,
     "metadata": {},
     "output_type": "execute_result"
    }
   ],
   "source": [
    "data.head()"
   ]
  },
  {
   "cell_type": "code",
   "execution_count": 18,
   "id": "2a1260d3",
   "metadata": {
    "tags": []
   },
   "outputs": [
    {
     "name": "stderr",
     "output_type": "stream",
     "text": [
      "C:\\Users\\user\\AppData\\Local\\Temp\\ipykernel_80808\\2703284718.py:2: RuntimeWarning: divide by zero encountered in log2\n",
      "  data_transform=lambda x: np.log2(x),\n",
      "100%|██████████████████████████████████████████████████████████████████████████| 13073/13073 [00:01<00:00, 8703.83it/s]"
     ]
    },
    {
     "name": "stdout",
     "output_type": "stream",
     "text": [
      "Finished mapping in 1.5551297664642334 seconds.\n"
     ]
    },
    {
     "name": "stderr",
     "output_type": "stream",
     "text": [
      "\n"
     ]
    }
   ],
   "source": [
    "gene_data = GeneData(data=data[\"sample_0\"], \n",
    "                     data_transform=lambda x: np.log2(x), \n",
    "                     absent_expression=0)\n",
    "p90_threshold = gene_data.get_threshold(\"percentile\", p=90)\n",
    "\n",
    "human1.add_tasks(\"general\", tasks)\n",
    "human1.add_gene_data(\"sample_0\", gene_data)"
   ]
  },
  {
   "cell_type": "code",
   "execution_count": 37,
   "id": "43a125ed-3e6b-43d2-a82d-73f5ab1bd57f",
   "metadata": {
    "tags": []
   },
   "outputs": [],
   "source": [
    "trunc_tasks = tasks.subset([\"3.0\", \"5.0\", \"9.0\"])"
   ]
  },
  {
   "cell_type": "code",
   "execution_count": 38,
   "id": "3fcda90c-4b3f-4d00-b9d5-b54d8ca39ce6",
   "metadata": {
    "tags": []
   },
   "outputs": [],
   "source": [
    "human1.add_tasks(\"reduc\", trunc_tasks)"
   ]
  },
  {
   "cell_type": "code",
   "execution_count": 40,
   "id": "e83c9491",
   "metadata": {
    "tags": []
   },
   "outputs": [
    {
     "name": "stdout",
     "output_type": "stream",
     "text": [
      "score of the model: 3 / 3\n"
     ]
    }
   ],
   "source": [
    "task_analysis_result = human1.test_tasks(\"reduc\", \n",
    "                                         model_compartment_parenthesis=\"{}\",\n",
    "                                         n_additional_path=3)"
   ]
  },
  {
   "cell_type": "code",
   "execution_count": 47,
   "id": "78a6fd11-7d11-4072-891e-2f1eabf2ba3b",
   "metadata": {
    "collapsed": true,
    "jupyter": {
     "outputs_hidden": true
    },
    "tags": []
   },
   "outputs": [
    {
     "data": {
      "text/plain": [
       "['MAR04388',\n",
       " 'MAR04358',\n",
       " 'MAR04363',\n",
       " 'MAR04365',\n",
       " 'MAR04368',\n",
       " 'MAR04373',\n",
       " 'MAR04375',\n",
       " 'MAR04391',\n",
       " 'MAR04394',\n",
       " 'MAR08583',\n",
       " 'MAR04052',\n",
       " 'MAR04350',\n",
       " 'MAR04352',\n",
       " 'MAR04354',\n",
       " 'MAR04474',\n",
       " 'MAR04841',\n",
       " 'MAR04038',\n",
       " 'MAR04406',\n",
       " 'MAR04799',\n",
       " 'MAR04802',\n",
       " 'MAR04804',\n",
       " 'MAR04808',\n",
       " 'MAR04810',\n",
       " 'MAR04812',\n",
       " 'MAR04814',\n",
       " 'MAR04006',\n",
       " 'MAR03970',\n",
       " 'MAR04008',\n",
       " 'MAR04345',\n",
       " 'MAR04579',\n",
       " 'MAR04806',\n",
       " 'MAR03802',\n",
       " 'MAR03829',\n",
       " 'MAR03862',\n",
       " 'MAR03806',\n",
       " 'MAR03807',\n",
       " 'MAR04658',\n",
       " 'MAR06707',\n",
       " 'MAR00710',\n",
       " 'MAR04139',\n",
       " 'MAR04408',\n",
       " 'MAR06914',\n",
       " 'MAR06916',\n",
       " 'MAR06918',\n",
       " 'MAR06921',\n",
       " 'MAR03960',\n",
       " 'MAR03980',\n",
       " 'MAR01838',\n",
       " 'MAR01844',\n",
       " 'MAR03929',\n",
       " 'MAR03972',\n",
       " 'MAR04338',\n",
       " 'MAR04440',\n",
       " 'MAR04503',\n",
       " 'MAR04505',\n",
       " 'MAR05127',\n",
       " 'MAR03959',\n",
       " 'MAR04896',\n",
       " 'MAR04947',\n",
       " 'MAR04990',\n",
       " 'MAR05002',\n",
       " 'MAR05023',\n",
       " 'MAR05029',\n",
       " 'MAR05035',\n",
       " 'MAR05310',\n",
       " 'MAR05436',\n",
       " 'MAR05839',\n",
       " 'MAR05998',\n",
       " 'MAR06023',\n",
       " 'MAR06380',\n",
       " 'MAR09188',\n",
       " 'MAR03825',\n",
       " 'MAR03950',\n",
       " 'MAR04888',\n",
       " 'MAR04898',\n",
       " 'MAR05043',\n",
       " 'MAR05096',\n",
       " 'MAR05105',\n",
       " 'MAR06328',\n",
       " 'MAR07638',\n",
       " 'MAR09048',\n",
       " 'MAR09063',\n",
       " 'MAR09072',\n",
       " 'MAR09079',\n",
       " 'MAR09087',\n",
       " 'MAR09103',\n",
       " 'MAR09108',\n",
       " 'MAR09135',\n",
       " 'MAR09259',\n",
       " 'MAR09318',\n",
       " 'MAR09360',\n",
       " 'MAR09383',\n",
       " 'MAR09401',\n",
       " 'MAR09413',\n",
       " 'MAR09414',\n",
       " 'MAR09439',\n",
       " 'MAR09440',\n",
       " 'MAR09462',\n",
       " 'MAR00038',\n",
       " 'MAR01871',\n",
       " 'MAR01946',\n",
       " 'MAR02027',\n",
       " 'MAR02186',\n",
       " 'MAR02346',\n",
       " 'MAR02351',\n",
       " 'MAR04148',\n",
       " 'MAR04164',\n",
       " 'MAR04411',\n",
       " 'MAR08971',\n",
       " 'MAR08985',\n",
       " 'MAR09828',\n",
       " 'MAR09831',\n",
       " 'MAR09838',\n",
       " 'MAR09854',\n",
       " 'MAR09983',\n",
       " 'MAR10011',\n",
       " 'MAR10193',\n",
       " 'MAR10242',\n",
       " 'MAR10355',\n",
       " 'MAR10549',\n",
       " 'MAR10553',\n",
       " 'MAR10563',\n",
       " 'MAR10687',\n",
       " 'MAR10688',\n",
       " 'MAR10791',\n",
       " 'MAR10795',\n",
       " 'MAR10805',\n",
       " 'MAR10929',\n",
       " 'MAR10930',\n",
       " 'MAR11033',\n",
       " 'MAR11037',\n",
       " 'MAR11047',\n",
       " 'MAR11171',\n",
       " 'MAR11172',\n",
       " 'MAR11400',\n",
       " 'MAR11420',\n",
       " 'MAR11789',\n",
       " 'MAR11923',\n",
       " 'MAR11973',\n",
       " 'MAR11974']"
      ]
     },
     "execution_count": 47,
     "metadata": {},
     "output_type": "execute_result"
    }
   ],
   "source": [
    "task_analysis_result.result_df[\"rxn_supps\"][\"9.0\"]"
   ]
  },
  {
   "cell_type": "code",
   "execution_count": 54,
   "id": "cbcf43b5-11ad-4890-ab4c-3276c77e6c64",
   "metadata": {
    "tags": []
   },
   "outputs": [],
   "source": [
    "from functools import reduce"
   ]
  },
  {
   "cell_type": "code",
   "execution_count": 60,
   "id": "c2b29228-99b9-4d1f-8b91-1c3ed2c83de3",
   "metadata": {
    "collapsed": true,
    "jupyter": {
     "outputs_hidden": true
    },
    "tags": []
   },
   "outputs": [
    {
     "data": {
      "text/plain": [
       "{'MAR00045',\n",
       " 'MAR00061',\n",
       " 'MAR00097',\n",
       " 'MAR00156',\n",
       " 'MAR00157',\n",
       " 'MAR00158',\n",
       " 'MAR00159',\n",
       " 'MAR00161',\n",
       " 'MAR00162',\n",
       " 'MAR00163',\n",
       " 'MAR00175',\n",
       " 'MAR00229',\n",
       " 'MAR00710',\n",
       " 'MAR00742',\n",
       " 'MAR01095',\n",
       " 'MAR01231',\n",
       " 'MAR01232',\n",
       " 'MAR01263',\n",
       " 'MAR01264',\n",
       " 'MAR01267',\n",
       " 'MAR01268',\n",
       " 'MAR01280',\n",
       " 'MAR01281',\n",
       " 'MAR01283',\n",
       " 'MAR01284',\n",
       " 'MAR01285',\n",
       " 'MAR01315',\n",
       " 'MAR01316',\n",
       " 'MAR01461',\n",
       " 'MAR01485',\n",
       " 'MAR01578',\n",
       " 'MAR01581',\n",
       " 'MAR01584',\n",
       " 'MAR01608',\n",
       " 'MAR01611',\n",
       " 'MAR01621',\n",
       " 'MAR01623',\n",
       " 'MAR01672',\n",
       " 'MAR01673',\n",
       " 'MAR01676',\n",
       " 'MAR01679',\n",
       " 'MAR01772',\n",
       " 'MAR01779',\n",
       " 'MAR01785',\n",
       " 'MAR01824',\n",
       " 'MAR01996',\n",
       " 'MAR01998',\n",
       " 'MAR02225',\n",
       " 'MAR02352',\n",
       " 'MAR02358',\n",
       " 'MAR02416',\n",
       " 'MAR02730',\n",
       " 'MAR02759',\n",
       " 'MAR02869',\n",
       " 'MAR02870',\n",
       " 'MAR02881',\n",
       " 'MAR02895',\n",
       " 'MAR02896',\n",
       " 'MAR02897',\n",
       " 'MAR03032',\n",
       " 'MAR03209',\n",
       " 'MAR03214',\n",
       " 'MAR03259',\n",
       " 'MAR03437',\n",
       " 'MAR03438',\n",
       " 'MAR03478',\n",
       " 'MAR03480',\n",
       " 'MAR03481',\n",
       " 'MAR03482',\n",
       " 'MAR03746',\n",
       " 'MAR03804',\n",
       " 'MAR03839',\n",
       " 'MAR03841',\n",
       " 'MAR03843',\n",
       " 'MAR03845',\n",
       " 'MAR03846',\n",
       " 'MAR03874',\n",
       " 'MAR03931',\n",
       " 'MAR03935',\n",
       " 'MAR03949',\n",
       " 'MAR03950',\n",
       " 'MAR03952',\n",
       " 'MAR03953',\n",
       " 'MAR03956',\n",
       " 'MAR03957',\n",
       " 'MAR03958',\n",
       " 'MAR03967',\n",
       " 'MAR04002',\n",
       " 'MAR04004',\n",
       " 'MAR04006',\n",
       " 'MAR04008',\n",
       " 'MAR04012',\n",
       " 'MAR04016',\n",
       " 'MAR04024',\n",
       " 'MAR04028',\n",
       " 'MAR04038',\n",
       " 'MAR04044',\n",
       " 'MAR04052',\n",
       " 'MAR04085',\n",
       " 'MAR04139',\n",
       " 'MAR04141',\n",
       " 'MAR04147',\n",
       " 'MAR04152',\n",
       " 'MAR04210',\n",
       " 'MAR04237',\n",
       " 'MAR04291',\n",
       " 'MAR04304',\n",
       " 'MAR04332',\n",
       " 'MAR04335',\n",
       " 'MAR04336',\n",
       " 'MAR04351',\n",
       " 'MAR04352',\n",
       " 'MAR04354',\n",
       " 'MAR04368',\n",
       " 'MAR04373',\n",
       " 'MAR04375',\n",
       " 'MAR04379',\n",
       " 'MAR04381',\n",
       " 'MAR04391',\n",
       " 'MAR04394',\n",
       " 'MAR04404',\n",
       " 'MAR04406',\n",
       " 'MAR04440',\n",
       " 'MAR04444',\n",
       " 'MAR04473',\n",
       " 'MAR04474',\n",
       " 'MAR04480',\n",
       " 'MAR04501',\n",
       " 'MAR04503',\n",
       " 'MAR04512',\n",
       " 'MAR04531',\n",
       " 'MAR04532',\n",
       " 'MAR04534',\n",
       " 'MAR04535',\n",
       " 'MAR04536',\n",
       " 'MAR04565',\n",
       " 'MAR04570',\n",
       " 'MAR04584',\n",
       " 'MAR04596',\n",
       " 'MAR04597',\n",
       " 'MAR04611',\n",
       " 'MAR04623',\n",
       " 'MAR04625',\n",
       " 'MAR04635',\n",
       " 'MAR04654',\n",
       " 'MAR04655',\n",
       " 'MAR04656',\n",
       " 'MAR04670',\n",
       " 'MAR04677',\n",
       " 'MAR04685',\n",
       " 'MAR04687',\n",
       " 'MAR04799',\n",
       " 'MAR04802',\n",
       " 'MAR04804',\n",
       " 'MAR04806',\n",
       " 'MAR04808',\n",
       " 'MAR04810',\n",
       " 'MAR04812',\n",
       " 'MAR04814',\n",
       " 'MAR04843',\n",
       " 'MAR04856',\n",
       " 'MAR04876',\n",
       " 'MAR04877',\n",
       " 'MAR04883',\n",
       " 'MAR04888',\n",
       " 'MAR04894',\n",
       " 'MAR04898',\n",
       " 'MAR04914',\n",
       " 'MAR04917',\n",
       " 'MAR04922',\n",
       " 'MAR05006',\n",
       " 'MAR05045',\n",
       " 'MAR05046',\n",
       " 'MAR05124',\n",
       " 'MAR05292',\n",
       " 'MAR05342',\n",
       " 'MAR05347',\n",
       " 'MAR05406',\n",
       " 'MAR05411',\n",
       " 'MAR05422',\n",
       " 'MAR05424',\n",
       " 'MAR06277',\n",
       " 'MAR06328',\n",
       " 'MAR06386',\n",
       " 'MAR06388',\n",
       " 'MAR06409',\n",
       " 'MAR06537',\n",
       " 'MAR06614',\n",
       " 'MAR06627',\n",
       " 'MAR06817',\n",
       " 'MAR07161',\n",
       " 'MAR07162',\n",
       " 'MAR07638',\n",
       " 'MAR07702',\n",
       " 'MAR07708',\n",
       " 'MAR07747',\n",
       " 'MAR07772',\n",
       " 'MAR07776',\n",
       " 'MAR07786',\n",
       " 'MAR07792',\n",
       " 'MAR07795',\n",
       " 'MAR07796',\n",
       " 'MAR07800',\n",
       " 'MAR07801',\n",
       " 'MAR07802',\n",
       " 'MAR07820',\n",
       " 'MAR07822',\n",
       " 'MAR07846',\n",
       " 'MAR07855',\n",
       " 'MAR07856',\n",
       " 'MAR07857',\n",
       " 'MAR07860',\n",
       " 'MAR07863',\n",
       " 'MAR07865',\n",
       " 'MAR07867',\n",
       " 'MAR07869',\n",
       " 'MAR07871',\n",
       " 'MAR07873',\n",
       " 'MAR07877',\n",
       " 'MAR07878',\n",
       " 'MAR07881',\n",
       " 'MAR07887',\n",
       " 'MAR07890',\n",
       " 'MAR07892',\n",
       " 'MAR07893',\n",
       " 'MAR07942',\n",
       " 'MAR07943',\n",
       " 'MAR08022',\n",
       " 'MAR08144',\n",
       " 'MAR08344',\n",
       " 'MAR08345',\n",
       " 'MAR08346',\n",
       " 'MAR08347',\n",
       " 'MAR08348',\n",
       " 'MAR08350',\n",
       " 'MAR08351',\n",
       " 'MAR08427',\n",
       " 'MAR08428',\n",
       " 'MAR08430',\n",
       " 'MAR08433',\n",
       " 'MAR08434',\n",
       " 'MAR08448',\n",
       " 'MAR08450',\n",
       " 'MAR08452',\n",
       " 'MAR08454',\n",
       " 'MAR08456',\n",
       " 'MAR08459',\n",
       " 'MAR08461',\n",
       " 'MAR08463',\n",
       " 'MAR08465',\n",
       " 'MAR08467',\n",
       " 'MAR08469',\n",
       " 'MAR08470',\n",
       " 'MAR08471',\n",
       " 'MAR08472',\n",
       " 'MAR08475',\n",
       " 'MAR08476',\n",
       " 'MAR08477',\n",
       " 'MAR08478',\n",
       " 'MAR08486',\n",
       " 'MAR08530',\n",
       " 'MAR08667',\n",
       " 'MAR08668',\n",
       " 'MAR08749',\n",
       " 'MAR08779',\n",
       " 'MAR08855',\n",
       " 'MAR08886',\n",
       " 'MAR08909',\n",
       " 'MAR08971',\n",
       " 'MAR08985',\n",
       " 'MAR08987',\n",
       " 'MAR08992',\n",
       " 'MAR09675',\n",
       " 'MAR10175',\n",
       " 'MAR10406',\n",
       " 'MAR12020',\n",
       " 'MAR12021',\n",
       " 'MAR12022',\n",
       " 'MAR13075',\n",
       " 'MAR13086',\n",
       " 'MAR20044'}"
      ]
     },
     "execution_count": 60,
     "metadata": {},
     "output_type": "execute_result"
    }
   ],
   "source": [
    "reduce(set.union, [set(i) for i in task_analysis_result.result_df[\"task_support_rxns\"][\"9.0\"]])"
   ]
  },
  {
   "cell_type": "code",
   "execution_count": 61,
   "id": "fae0db99-5606-44a9-9c13-a3ced85e408c",
   "metadata": {
    "tags": []
   },
   "outputs": [
    {
     "data": {
      "text/plain": [
       "False"
      ]
     },
     "execution_count": 61,
     "metadata": {},
     "output_type": "execute_result"
    }
   ],
   "source": [
    "task_analysis_result.is_essential(task_id=\"9.0\", rxn_id='MAR00045')"
   ]
  },
  {
   "cell_type": "code",
   "execution_count": 53,
   "id": "24d5dffd",
   "metadata": {
    "tags": []
   },
   "outputs": [
    {
     "data": {
      "text/html": [
       "<div>\n",
       "<style scoped>\n",
       "    .dataframe tbody tr th:only-of-type {\n",
       "        vertical-align: middle;\n",
       "    }\n",
       "\n",
       "    .dataframe tbody tr th {\n",
       "        vertical-align: top;\n",
       "    }\n",
       "\n",
       "    .dataframe thead th {\n",
       "        text-align: right;\n",
       "    }\n",
       "</style>\n",
       "<table border=\"1\" class=\"dataframe\">\n",
       "  <thead>\n",
       "    <tr style=\"text-align: right;\">\n",
       "      <th></th>\n",
       "      <th>Passed</th>\n",
       "      <th>Should fail</th>\n",
       "      <th>Missing mets</th>\n",
       "      <th>Status</th>\n",
       "      <th>Obj_value</th>\n",
       "      <th>Obj_rxns</th>\n",
       "      <th>task_support_rxns</th>\n",
       "      <th>task_support_rxn_fluxes</th>\n",
       "      <th>Sink Status</th>\n",
       "      <th>rxn_supps</th>\n",
       "    </tr>\n",
       "  </thead>\n",
       "  <tbody>\n",
       "    <tr>\n",
       "      <th>3.0</th>\n",
       "      <td>True</td>\n",
       "      <td>False</td>\n",
       "      <td>False</td>\n",
       "      <td>optimal</td>\n",
       "      <td>10.0</td>\n",
       "      <td>[output_MAM01261m: MAM01261m --&gt; , output_MAM0...</td>\n",
       "      <td>[[MAR06412, MAR06409, MAR08746, MAR20069]]</td>\n",
       "      <td>[{'MAR06412': 1.0, 'MAR06409': -1.0, 'MAR08746...</td>\n",
       "      <td>optimal</td>\n",
       "      <td>[MAR06412, MAR08514, MAR04280, MAR04461, MAR03...</td>\n",
       "    </tr>\n",
       "    <tr>\n",
       "      <th>5.0</th>\n",
       "      <td>True</td>\n",
       "      <td>False</td>\n",
       "      <td>False</td>\n",
       "      <td>optimal</td>\n",
       "      <td>421.0</td>\n",
       "      <td>[output_MAM01371c: MAM01371c --&gt; , output_MAM0...</td>\n",
       "      <td>[[MAR04388, MAR04301, MAR04358, MAR04363, MAR0...</td>\n",
       "      <td>[{'MAR04388': 2.0, 'MAR04301': 1.0, 'MAR04358'...</td>\n",
       "      <td>optimal</td>\n",
       "      <td>[MAR04388, MAR04301, MAR04358, MAR04363, MAR04...</td>\n",
       "    </tr>\n",
       "    <tr>\n",
       "      <th>9.0</th>\n",
       "      <td>True</td>\n",
       "      <td>False</td>\n",
       "      <td>False</td>\n",
       "      <td>optimal</td>\n",
       "      <td>62.333333</td>\n",
       "      <td>[output_MAM02167c: MAM02167c --&gt; , output_MAM0...</td>\n",
       "      <td>[[MAR04394, MAR04052, MAR04352, MAR04474, MAR0...</td>\n",
       "      <td>[{'MAR04394': 1.0, 'MAR04052': 1.0, 'MAR04352'...</td>\n",
       "      <td>optimal</td>\n",
       "      <td>[MAR04388, MAR04358, MAR04363, MAR04365, MAR04...</td>\n",
       "    </tr>\n",
       "  </tbody>\n",
       "</table>\n",
       "</div>"
      ],
      "text/plain": [
       "    Passed Should fail Missing mets   Status  Obj_value  \\\n",
       "3.0   True       False        False  optimal       10.0   \n",
       "5.0   True       False        False  optimal      421.0   \n",
       "9.0   True       False        False  optimal  62.333333   \n",
       "\n",
       "                                              Obj_rxns  \\\n",
       "3.0  [output_MAM01261m: MAM01261m --> , output_MAM0...   \n",
       "5.0  [output_MAM01371c: MAM01371c --> , output_MAM0...   \n",
       "9.0  [output_MAM02167c: MAM02167c --> , output_MAM0...   \n",
       "\n",
       "                                     task_support_rxns  \\\n",
       "3.0         [[MAR06412, MAR06409, MAR08746, MAR20069]]   \n",
       "5.0  [[MAR04388, MAR04301, MAR04358, MAR04363, MAR0...   \n",
       "9.0  [[MAR04394, MAR04052, MAR04352, MAR04474, MAR0...   \n",
       "\n",
       "                               task_support_rxn_fluxes Sink Status  \\\n",
       "3.0  [{'MAR06412': 1.0, 'MAR06409': -1.0, 'MAR08746...     optimal   \n",
       "5.0  [{'MAR04388': 2.0, 'MAR04301': 1.0, 'MAR04358'...     optimal   \n",
       "9.0  [{'MAR04394': 1.0, 'MAR04052': 1.0, 'MAR04352'...     optimal   \n",
       "\n",
       "                                             rxn_supps  \n",
       "3.0  [MAR06412, MAR08514, MAR04280, MAR04461, MAR03...  \n",
       "5.0  [MAR04388, MAR04301, MAR04358, MAR04363, MAR04...  \n",
       "9.0  [MAR04388, MAR04358, MAR04363, MAR04365, MAR04...  "
      ]
     },
     "execution_count": 53,
     "metadata": {},
     "output_type": "execute_result"
    }
   ],
   "source": [
    "task_analysis_result.result_df"
   ]
  },
  {
   "cell_type": "code",
   "execution_count": 27,
   "id": "6fdc659c",
   "metadata": {},
   "outputs": [],
   "source": [
    "# saving the result as a json file\n",
    "task_analysis_result.save(\"./task_result.json\")"
   ]
  },
  {
   "cell_type": "markdown",
   "id": "5090f2ad",
   "metadata": {},
   "source": [
    "## Get activated tasks and supported reactions"
   ]
  },
  {
   "cell_type": "code",
   "execution_count": 22,
   "id": "3164e7a4",
   "metadata": {
    "tags": []
   },
   "outputs": [
    {
     "name": "stderr",
     "output_type": "stream",
     "text": [
      "C:\\Users\\user\\AppData\\Local\\Temp\\ipykernel_80808\\2703284718.py:2: RuntimeWarning: divide by zero encountered in log2\n",
      "  data_transform=lambda x: np.log2(x),\n"
     ]
    }
   ],
   "source": [
    "activated_tasks = human1.get_activated_tasks(\"sample_0\", task_analysis_result, score_threshold=p90_threshold.exp_th)\n",
    "activated_task_sup_rxns = human1.get_activated_task_sup_rxns(\"sample_0\", task_analysis_result, score_threshold=p90_threshold.exp_th)"
   ]
  },
  {
   "cell_type": "code",
   "execution_count": 36,
   "id": "97e2ea1d-7980-4716-90ac-1d81200ce9c7",
   "metadata": {
    "tags": []
   },
   "outputs": [
    {
     "name": "stderr",
     "output_type": "stream",
     "text": [
      "C:\\Users\\user\\AppData\\Local\\Temp\\ipykernel_80808\\2703284718.py:2: RuntimeWarning: divide by zero encountered in log2\n",
      "  data_transform=lambda x: np.log2(x),\n"
     ]
    },
    {
     "data": {
      "text/plain": [
       "4.581270167620947"
      ]
     },
     "execution_count": 36,
     "metadata": {},
     "output_type": "execute_result"
    }
   ],
   "source": [
    "human1.gene_data[\"sample_0\"].rxn_scores[\"MAR01353\"]"
   ]
  },
  {
   "cell_type": "code",
   "execution_count": 30,
   "id": "63c42699-6eb2-4b64-b067-ec5cc7e6a872",
   "metadata": {
    "collapsed": true,
    "jupyter": {
     "outputs_hidden": true
    },
    "tags": []
   },
   "outputs": [
    {
     "name": "stderr",
     "output_type": "stream",
     "text": [
      "C:\\Users\\user\\AppData\\Local\\Temp\\ipykernel_80808\\2703284718.py:2: RuntimeWarning: divide by zero encountered in log2\n",
      "  data_transform=lambda x: np.log2(x),\n"
     ]
    },
    {
     "data": {
      "text/plain": [
       "{'1.0': -1,\n",
       " '2.0': -1,\n",
       " '3.0': -1,\n",
       " '4.0': -1,\n",
       " '5.0': -1,\n",
       " '6.0': -1,\n",
       " '7.0': -1,\n",
       " '8.0': -1,\n",
       " '9.0': -1,\n",
       " '10.0': -1,\n",
       " '11.0': -1,\n",
       " '12.0': -1,\n",
       " '13.0': -1,\n",
       " '14.0': -1,\n",
       " '15.0': -1,\n",
       " '16.0': -1,\n",
       " '17.0': -1,\n",
       " '18.0': -1,\n",
       " '19.0': -1,\n",
       " '20.0': -1,\n",
       " '21.0': -1,\n",
       " '22.0': -1,\n",
       " '23.0': -1,\n",
       " '24.0': -1,\n",
       " '25.0': -1,\n",
       " '26.0': -1,\n",
       " '27.0': -1,\n",
       " '28.0': -1,\n",
       " '29.0': -1,\n",
       " '30.0': -1,\n",
       " '31.0': -1,\n",
       " '32.0': -1,\n",
       " '33.0': -1,\n",
       " '34.0': -1,\n",
       " '35.0': -1,\n",
       " '36.0': -1,\n",
       " '37.0': -1,\n",
       " '38.0': -1,\n",
       " '39.0': -1,\n",
       " '40.0': -1,\n",
       " '41.0': -1,\n",
       " '42.0': -1,\n",
       " '43.0': -1,\n",
       " '44.0': -1,\n",
       " '45.0': -1,\n",
       " '46.0': -1,\n",
       " '47.0': -1,\n",
       " '48.0': -1,\n",
       " '49.0': -1,\n",
       " '50.0': -1,\n",
       " '51.0': -1,\n",
       " '52.0': -1,\n",
       " '53.0': -1,\n",
       " '54.0': -1,\n",
       " '55.0': -1,\n",
       " '56.0': -1,\n",
       " '57.0': -1,\n",
       " '58.0': -1,\n",
       " '59.0': -1,\n",
       " '60.0': -1,\n",
       " '61.0': -1,\n",
       " '62.0': -1,\n",
       " '63.0': -1,\n",
       " '64.0': -1,\n",
       " '65.0': -1,\n",
       " '66.0': -1,\n",
       " '67.0': -1,\n",
       " '68.0': -1,\n",
       " '69.0': -1,\n",
       " '70.0': -1,\n",
       " '71.0': -1,\n",
       " '72.0': -1,\n",
       " '73.0': -1,\n",
       " '74.0': -1,\n",
       " '75.0': -1,\n",
       " '76.0': -1,\n",
       " '77.0': -1,\n",
       " '78.0': -1,\n",
       " '79.0': -1,\n",
       " '80.0': -1,\n",
       " '81.0': -1,\n",
       " '82.0': -1,\n",
       " '83.0': -1,\n",
       " '84.0': -1,\n",
       " '85.0': -1,\n",
       " '86.0': -1,\n",
       " '87.0': -1,\n",
       " '88.0': -1,\n",
       " '89.0': -1,\n",
       " '90.0': -1,\n",
       " '91.0': -1,\n",
       " '92.0': -1,\n",
       " '93.0': -1,\n",
       " '94.0': -1,\n",
       " '95.0': -1,\n",
       " '96.0': -1,\n",
       " '97.0': -1,\n",
       " '98.0': -1,\n",
       " '99.0': -1,\n",
       " '100.0': -1,\n",
       " '101.0': -1,\n",
       " '102.0': -1,\n",
       " '103.0': -1,\n",
       " '104.0': -1,\n",
       " '105.0': -1,\n",
       " '106.0': -1,\n",
       " '107.0': -1,\n",
       " '108.0': -1,\n",
       " '109.0': -1,\n",
       " '110.0': -1,\n",
       " '111.0': -1,\n",
       " '112.0': -1,\n",
       " '113.0': -1,\n",
       " '114.0': -1,\n",
       " '115.0': -1,\n",
       " '116.0': -1,\n",
       " '117.0': -1,\n",
       " '118.0': -1,\n",
       " '119.0': -1,\n",
       " '120.0': -1,\n",
       " '121.0': -1,\n",
       " '122.0': -1,\n",
       " '123.0': -1,\n",
       " '124.0': -1,\n",
       " '125.0': -1,\n",
       " '126.0': -1,\n",
       " '127.0': -1,\n",
       " '128.0': -1,\n",
       " '129.0': -1,\n",
       " '130.0': -1,\n",
       " '131.0': -1,\n",
       " '132.0': -1,\n",
       " '133.0': -1,\n",
       " '134.0': -1,\n",
       " '135.0': -1,\n",
       " '136.0': -1,\n",
       " '137.0': -1,\n",
       " '138.0': -1,\n",
       " '139.0': -1,\n",
       " '140.0': -1,\n",
       " '141.0': -1,\n",
       " '142.0': -1,\n",
       " '143.0': -1,\n",
       " '144.0': -1,\n",
       " '145.0': -1,\n",
       " '146.0': -1,\n",
       " '147.0': -1,\n",
       " '148.0': -1,\n",
       " '149.0': -1,\n",
       " '150.0': -1,\n",
       " '151.0': -1,\n",
       " '152.0': -1,\n",
       " '153.0': -1,\n",
       " '154.0': -1,\n",
       " '155.0': -1,\n",
       " '156.0': -1,\n",
       " '157.0': -1,\n",
       " '158.0': -1,\n",
       " '159.0': -1,\n",
       " '160.0': -1,\n",
       " '161.0': -1,\n",
       " '162.0': -1,\n",
       " '163.0': -1,\n",
       " '164.0': -1,\n",
       " '165.0': -1,\n",
       " '166.0': -1,\n",
       " '167.0': -1,\n",
       " '168.0': -1,\n",
       " '169.0': -1,\n",
       " '170.0': -1,\n",
       " '171.0': -1,\n",
       " '172.0': -1,\n",
       " '173.0': -1,\n",
       " '174.0': -1,\n",
       " '175.0': -1,\n",
       " '176.0': -1,\n",
       " '177.0': -1,\n",
       " '178.0': -1,\n",
       " '179.0': -1,\n",
       " '180.0': -1,\n",
       " '181.0': -1,\n",
       " '182.0': -1,\n",
       " '183.0': -1,\n",
       " '184.0': -1,\n",
       " '185.0': -1,\n",
       " '186.0': -1,\n",
       " '187.0': -1,\n",
       " '188.0': -1,\n",
       " '189.0': -1,\n",
       " '190.0': -1,\n",
       " '191.0': -1,\n",
       " '192.0': -1,\n",
       " '193.0': -1,\n",
       " '194.0': -1,\n",
       " '195.0': -1}"
      ]
     },
     "execution_count": 30,
     "metadata": {},
     "output_type": "execute_result"
    }
   ],
   "source": [
    "human1.calc_ind_task_score(data_name=\"sample_0\", task_analysis=task_analysis_result)"
   ]
  },
  {
   "cell_type": "code",
   "execution_count": 28,
   "id": "9d074abe-e3c2-472d-ac3e-3d983aed24cb",
   "metadata": {
    "tags": []
   },
   "outputs": [
    {
     "data": {
      "image/png": "[encoded data removed]",
      "text/plain": [
       "<Figure size 800x600 with 1 Axes>"
      ]
     },
     "metadata": {},
     "output_type": "display_data"
    }
   ],
   "source": [
    "p90_threshold.plot()"
   ]
  },
  {
   "cell_type": "code",
   "execution_count": 26,
   "id": "f8cdee82",
   "metadata": {
    "collapsed": true,
    "jupyter": {
     "outputs_hidden": true
    },
    "tags": []
   },
   "outputs": [
    {
     "data": {
      "text/plain": [
       "['1.0',\n",
       " '2.0',\n",
       " '3.0',\n",
       " '4.0',\n",
       " '5.0',\n",
       " '6.0',\n",
       " '7.0',\n",
       " '8.0',\n",
       " '9.0',\n",
       " '10.0',\n",
       " '11.0',\n",
       " '12.0',\n",
       " '13.0',\n",
       " '14.0',\n",
       " '15.0',\n",
       " '16.0',\n",
       " '17.0',\n",
       " '18.0',\n",
       " '19.0',\n",
       " '20.0',\n",
       " '21.0',\n",
       " '22.0',\n",
       " '23.0',\n",
       " '24.0',\n",
       " '25.0',\n",
       " '26.0',\n",
       " '27.0',\n",
       " '28.0',\n",
       " '29.0',\n",
       " '30.0',\n",
       " '31.0',\n",
       " '32.0',\n",
       " '33.0',\n",
       " '34.0',\n",
       " '35.0',\n",
       " '36.0',\n",
       " '37.0',\n",
       " '38.0',\n",
       " '39.0',\n",
       " '40.0',\n",
       " '41.0',\n",
       " '42.0',\n",
       " '43.0',\n",
       " '44.0',\n",
       " '45.0',\n",
       " '46.0',\n",
       " '47.0',\n",
       " '48.0',\n",
       " '49.0',\n",
       " '50.0',\n",
       " '51.0',\n",
       " '52.0',\n",
       " '53.0',\n",
       " '54.0',\n",
       " '55.0',\n",
       " '56.0',\n",
       " '57.0',\n",
       " '58.0',\n",
       " '59.0',\n",
       " '60.0',\n",
       " '61.0',\n",
       " '62.0',\n",
       " '63.0',\n",
       " '64.0',\n",
       " '65.0',\n",
       " '66.0',\n",
       " '67.0',\n",
       " '68.0',\n",
       " '69.0',\n",
       " '70.0',\n",
       " '71.0',\n",
       " '72.0',\n",
       " '73.0',\n",
       " '74.0',\n",
       " '75.0',\n",
       " '76.0',\n",
       " '77.0',\n",
       " '78.0',\n",
       " '79.0',\n",
       " '80.0',\n",
       " '81.0',\n",
       " '82.0',\n",
       " '83.0',\n",
       " '84.0',\n",
       " '85.0',\n",
       " '86.0',\n",
       " '87.0',\n",
       " '88.0',\n",
       " '89.0',\n",
       " '90.0',\n",
       " '91.0',\n",
       " '92.0',\n",
       " '93.0',\n",
       " '94.0',\n",
       " '95.0',\n",
       " '96.0',\n",
       " '97.0',\n",
       " '98.0',\n",
       " '99.0',\n",
       " '100.0',\n",
       " '101.0',\n",
       " '102.0',\n",
       " '103.0',\n",
       " '104.0',\n",
       " '105.0',\n",
       " '106.0',\n",
       " '107.0',\n",
       " '108.0',\n",
       " '109.0',\n",
       " '110.0',\n",
       " '111.0',\n",
       " '112.0',\n",
       " '113.0',\n",
       " '114.0',\n",
       " '115.0',\n",
       " '116.0',\n",
       " '117.0',\n",
       " '118.0',\n",
       " '119.0',\n",
       " '120.0',\n",
       " '121.0',\n",
       " '122.0',\n",
       " '123.0',\n",
       " '124.0',\n",
       " '125.0',\n",
       " '126.0',\n",
       " '127.0',\n",
       " '128.0',\n",
       " '129.0',\n",
       " '130.0',\n",
       " '131.0',\n",
       " '132.0',\n",
       " '133.0',\n",
       " '134.0',\n",
       " '135.0',\n",
       " '136.0',\n",
       " '137.0',\n",
       " '138.0',\n",
       " '139.0',\n",
       " '140.0',\n",
       " '141.0',\n",
       " '142.0',\n",
       " '143.0',\n",
       " '144.0',\n",
       " '145.0',\n",
       " '146.0',\n",
       " '147.0',\n",
       " '148.0',\n",
       " '149.0',\n",
       " '150.0',\n",
       " '151.0',\n",
       " '152.0',\n",
       " '153.0',\n",
       " '154.0',\n",
       " '155.0',\n",
       " '156.0',\n",
       " '157.0',\n",
       " '158.0',\n",
       " '159.0',\n",
       " '160.0',\n",
       " '161.0',\n",
       " '162.0',\n",
       " '163.0',\n",
       " '164.0',\n",
       " '165.0',\n",
       " '166.0',\n",
       " '167.0',\n",
       " '168.0',\n",
       " '169.0',\n",
       " '170.0',\n",
       " '171.0',\n",
       " '172.0',\n",
       " '173.0',\n",
       " '174.0',\n",
       " '175.0',\n",
       " '176.0',\n",
       " '177.0',\n",
       " '178.0',\n",
       " '179.0',\n",
       " '180.0',\n",
       " '181.0',\n",
       " '182.0',\n",
       " '183.0',\n",
       " '184.0',\n",
       " '185.0',\n",
       " '186.0',\n",
       " '187.0',\n",
       " '188.0',\n",
       " '189.0',\n",
       " '190.0',\n",
       " '191.0',\n",
       " '192.0',\n",
       " '193.0',\n",
       " '194.0',\n",
       " '195.0']"
      ]
     },
     "execution_count": 26,
     "metadata": {},
     "output_type": "execute_result"
    }
   ],
   "source": [
    "activated_tasks"
   ]
  },
  {
   "cell_type": "code",
   "execution_count": 24,
   "id": "61365440",
   "metadata": {
    "tags": []
   },
   "outputs": [
    {
     "data": {
      "text/plain": [
       "['MAR11246',\n",
       " 'MAR02286',\n",
       " 'MAR06245',\n",
       " 'MAR05954',\n",
       " 'MAR02358',\n",
       " 'MAR10367',\n",
       " 'MAR04862',\n",
       " 'MAR02520',\n",
       " 'MAR07685',\n",
       " 'MAR10500']"
      ]
     },
     "execution_count": 24,
     "metadata": {},
     "output_type": "execute_result"
    }
   ],
   "source": [
    "activated_task_sup_rxns[:10]"
   ]
  },
  {
   "cell_type": "code",
   "execution_count": null,
   "id": "82610a53-87af-4963-b176-9001130221b7",
   "metadata": {},
   "outputs": [],
   "source": []
  }
 ],
 "metadata": {
  "kernelspec": {
   "display_name": "Python 3 (ipykernel)",
   "language": "python",
   "name": "python3"
  },
  "language_info": {
   "codemirror_mode": {
    "name": "ipython",
    "version": 3
   },
   "file_extension": ".py",
   "mimetype": "text/x-python",
   "name": "python",
   "nbconvert_exporter": "python",
   "pygments_lexer": "ipython3",
   "version": "3.10.12"
  }
 },
 "nbformat": 4,
 "nbformat_minor": 5
}
