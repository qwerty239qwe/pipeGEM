{
 "cells": [
  {
   "cell_type": "markdown",
   "id": "bc40d9af-61ac-44a5-924c-62eb1c271d7c",
   "metadata": {},
   "source": [
    "# 5. Flux simulation, visualization, and further analyses"
   ]
  },
  {
   "cell_type": "code",
   "execution_count": 1,
   "id": "963961a3-9f01-45b3-a571-ed096a0b80c0",
   "metadata": {},
   "outputs": [],
   "source": [
    "import sys\n",
    "from pathlib import Path\n",
    "sys.path.append(str(Path(\"../../\").resolve()))\n",
    "\n",
    "%load_ext autoreload\n",
    "%autoreload 2"
   ]
  },
  {
   "cell_type": "code",
   "execution_count": 20,
   "id": "fcd65b65-5f81-481c-b086-e2660fbf2af0",
   "metadata": {},
   "outputs": [],
   "source": [
    "import numpy as np\n",
    "\n",
    "from pipeGEM import load_remote_model\n",
    "from pipeGEM.data import get_syn_gene_data\n",
    "from pipeGEM.utils import random_perturb"
   ]
  },
  {
   "cell_type": "code",
   "execution_count": 4,
   "id": "25ac5d22-18fa-4f60-98d0-1d63ae1a7ced",
   "metadata": {},
   "outputs": [],
   "source": [
    "ecoli = load_remote_model(\"e_coli_core\")"
   ]
  },
  {
   "cell_type": "code",
   "execution_count": 21,
   "id": "71f270b2-19d5-451b-b017-1b80d15ea8b9",
   "metadata": {},
   "outputs": [],
   "source": [
    "group = Group({\"ecoli_g1\": {\"e11\": ecoli, \"e12\": random_perturb(ecoli.copy())},\n",
    "                \"ecoli_g2\": {\"e21\": random_perturb(ecoli.copy()), \"e22\": ecoli}}, name_tag=\"G2\",\n",
    "                treatments={\"e11\": \"A\", \"e12\": \"B\", \"e21\": \"B\", \"e22\": \"A\"})"
   ]
  },
  {
   "cell_type": "markdown",
   "id": "65ef32b5-55e4-4127-b28c-236629cd9b4a",
   "metadata": {},
   "source": [
    "## pFBA / FBA"
   ]
  },
  {
   "cell_type": "markdown",
   "id": "14c454b3-04f8-43dd-b7fa-39f331577aae",
   "metadata": {},
   "source": [
    "#### do_flux_analysis"
   ]
  },
  {
   "cell_type": "code",
   "execution_count": null,
   "id": "e14ee5cd-9274-4c03-8f51-8af3d9584e7b",
   "metadata": {
    "tags": []
   },
   "outputs": [],
   "source": [
    "pFBA_result = group.do_flux_analysis(method=\"pFBA\")"
   ]
  },
  {
   "cell_type": "markdown",
   "id": "ccea366e-5391-4e40-81e0-f7ce1cd60885",
   "metadata": {
    "tags": []
   },
   "source": [
    "#### plot a bar plot for the analysis"
   ]
  },
  {
   "cell_type": "code",
   "execution_count": null,
   "id": "b6a17308-57bd-4103-9304-686746702156",
   "metadata": {},
   "outputs": [],
   "source": [
    "pFBA_result.plot(rxn_ids=[\"PFK\", \"PGI\", \"PGK\"], aspect=1)"
   ]
  },
  {
   "cell_type": "markdown",
   "id": "b581d383-9682-456a-872e-6eb9cad01d68",
   "metadata": {
    "tags": []
   },
   "source": [
    "#### correlation, dimensionality reduction"
   ]
  },
  {
   "cell_type": "code",
   "execution_count": null,
   "id": "78a213b8-c1c5-40b3-9fab-89aec2b061f9",
   "metadata": {},
   "outputs": [],
   "source": [
    "corr_result = pFBA_result.corr(\"reaction\")\n",
    "corr_result.plot()"
   ]
  },
  {
   "cell_type": "code",
   "execution_count": null,
   "id": "7d9ae3af-7fce-41c2-9815-e17f7991d55f",
   "metadata": {},
   "outputs": [],
   "source": [
    "pca_result = pFBA_result.dim_reduction(method=\"PCA\", \n",
    "                                       n_components=3, \n",
    "                                       standardize=True, \n",
    "                                       transform_func=lambda x: np.log2(x+1))\n",
    "\n",
    "pca_result.plot()"
   ]
  },
  {
   "cell_type": "code",
   "execution_count": null,
   "id": "f04d6333-ec02-471f-bda0-8f1fa125362f",
   "metadata": {},
   "outputs": [],
   "source": []
  },
  {
   "cell_type": "code",
   "execution_count": 4,
   "id": "fc2d2772-5eba-484b-b10b-cc101e400acf",
   "metadata": {
    "tags": []
   },
   "outputs": [],
   "source": [
    "#### statistical tests"
   ]
  },
  {
   "cell_type": "markdown",
   "id": "3e3b698f-7a9f-4638-924b-4de9f52a4c4d",
   "metadata": {},
   "source": [
    "## FVA"
   ]
  },
  {
   "cell_type": "code",
   "execution_count": null,
   "id": "46da7d7f-2e87-4285-a062-ad936fbcdb77",
   "metadata": {},
   "outputs": [],
   "source": []
  },
  {
   "cell_type": "markdown",
   "id": "2245d251-02d7-4fcc-a524-7f9847422bfb",
   "metadata": {
    "tags": []
   },
   "source": [
    "## Randomized sampling"
   ]
  },
  {
   "cell_type": "code",
   "execution_count": null,
   "id": "11868d8e-2fef-405f-8fea-76870f612a76",
   "metadata": {},
   "outputs": [],
   "source": []
  },
  {
   "cell_type": "markdown",
   "id": "0327432f-fe68-45b7-8605-a3e459fa64ee",
   "metadata": {},
   "source": [
    "## Obtain data-consistent flux distribution"
   ]
  },
  {
   "cell_type": "code",
   "execution_count": null,
   "id": "6e70ebcf-4b04-41f4-92c9-5474aeda9751",
   "metadata": {},
   "outputs": [],
   "source": []
  }
 ],
 "metadata": {
  "kernelspec": {
   "display_name": "Python 3 (ipykernel)",
   "language": "python",
   "name": "python3"
  },
  "language_info": {
   "codemirror_mode": {
    "name": "ipython",
    "version": 3
   },
   "file_extension": ".py",
   "mimetype": "text/x-python",
   "name": "python",
   "nbconvert_exporter": "python",
   "pygments_lexer": "ipython3",
   "version": "3.10.10"
  }
 },
 "nbformat": 4,
 "nbformat_minor": 5
}
