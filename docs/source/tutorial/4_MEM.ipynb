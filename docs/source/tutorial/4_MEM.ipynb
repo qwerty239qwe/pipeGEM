{
 "cells": [
  {
   "cell_type": "markdown",
   "id": "4b64f4c9-9700-4936-8c12-93444d726b02",
   "metadata": {
    "tags": []
   },
   "source": [
    "# 4. Model extraction methods"
   ]
  },
  {
   "cell_type": "markdown",
   "id": "2a7a0de6-2237-4768-8e7b-18e0901b3158",
   "metadata": {},
   "source": [
    "PipeGEM inplements several model extraction methods for genomics/transcriptomics data integration, including:\n",
    "\n",
    "**MBA-like algorithms**\n",
    "- rFASTCORMICS\n",
    "- CORDA\n",
    "- FASTCORE\n",
    "- mCADRE\n",
    "- MBA\n",
    "\n",
    "**iMAT-like algorithms**\n",
    "- INIT\n",
    "- iMAT\n",
    "\n",
    "**GIMME-like algorithms**\n",
    "- RIPTiDe\n",
    "- GIMME ([Becker, Scott A., and Bernhard O. Palsson. 2008](https://journals.plos.org/ploscompbiol/article?id=10.1371/journal.pcbi.1000082))\n",
    "\n",
    "**EFlux-like algorithms**\n",
    "- E-Flux ([Colijn, Caroline, et al. 2009](https://journals.plos.org/ploscompbiol/article?id=10.1371/journal.pcbi.1000489))\n",
    "- SPOT (in the next version)\n",
    "\n",
    "In this session, we will showcase two of them, namely rFASTCORMICS and GIMME. Other methods and more details can be found in tutorial/data_integration."
   ]
  },
  {
   "cell_type": "code",
   "execution_count": 1,
   "id": "ee391ecb-44a6-44b3-b193-9a6a3dbcb6ae",
   "metadata": {
    "tags": []
   },
   "outputs": [],
   "source": [
    "import sys\n",
    "from pathlib import Path\n",
    "sys.path.append(str(Path(\"../../../\").resolve()))\n",
    "\n",
    "%load_ext autoreload\n",
    "%autoreload 2"
   ]
  },
  {
   "cell_type": "code",
   "execution_count": 2,
   "id": "2a4d9bf6-1089-4b26-9050-c3fd934ccf7a",
   "metadata": {
    "tags": []
   },
   "outputs": [],
   "source": [
    "import numpy as np\n",
    "import seaborn as sns\n",
    "import pipeGEM as pg\n",
    "\n",
    "from pipeGEM.data import GeneData, get_syn_gene_data\n",
    "from pipeGEM import load_remote_model"
   ]
  },
  {
   "cell_type": "code",
   "execution_count": 6,
   "id": "40d81c60-ef69-4f15-8682-b070b981740d",
   "metadata": {
    "tags": []
   },
   "outputs": [
    {
     "name": "stdout",
     "output_type": "stream",
     "text": [
      "Model Human-GEM is already downloaded\n",
      "Set parameter Username\n",
      "Academic license - for non-commercial use only - expires 2024-02-28\n"
     ]
    }
   ],
   "source": [
    "# load the consistent template model saved in the previous session\n",
    "human1 = pg.Model(\"human\", \n",
    "                  load_remote_model(\"Human-GEM\", format=\"mat\"))"
   ]
  },
  {
   "cell_type": "code",
   "execution_count": null,
   "id": "a392815a-7b75-432d-b633-e0324438e05d",
   "metadata": {
    "tags": []
   },
   "outputs": [],
   "source": [
    "# load gene data\n",
    "data = np.log2(get_syn_gene_data(human1, n_sample=3) + 1)\n",
    "\n",
    "data_name = \"sample_0\"\n",
    "gene_data = GeneData(data=data[data_name], \n",
    "                     data_transform=lambda x: np.log2(x), \n",
    "                     absent_expression=0)\n",
    "human1.add_gene_data(data_name, gene_data)"
   ]
  },
  {
   "cell_type": "code",
   "execution_count": null,
   "id": "f9c323a3-423f-42a9-8d78-b81fdd776916",
   "metadata": {
    "tags": []
   },
   "outputs": [],
   "source": [
    "# get thresholds using the data\n",
    "rFASTCORMICS_th = gene_data.get_threshold(\"rFASTCORMICS\")\n",
    "\n",
    "exp_th, nexp_th = rFASTCORMICS_th.exp_th, rFASTCORMICS_th.non_exp_th"
   ]
  },
  {
   "cell_type": "code",
   "execution_count": null,
   "id": "e22c0751-05cf-45ce-9563-ba0631d4b3a9",
   "metadata": {
    "tags": []
   },
   "outputs": [],
   "source": [
    "rFASTCORMICS_th.plot()"
   ]
  },
  {
   "cell_type": "code",
   "execution_count": null,
   "id": "f4ff668e-36ea-45a5-ba05-cada1192c6a2",
   "metadata": {},
   "outputs": [],
   "source": [
    "# load task analysis result (optional)\n",
    "from pipeGEM.analysis import TaskAnalysis\n",
    "\n",
    "# task_analysis_result = TaskAnalysis.load(\"\")\n",
    "\n",
    "# get supporting reactions\n",
    "# task_supps = human1.get_activated_task_sup_rxns(data_name=data_name, \n",
    "#                                                task_analysis=task_analysis_result, \n",
    "#                                                score_threshold=exp_th)\n",
    "\n",
    "task_supps = []\n",
    "\n",
    "spon_rxns = ['MAR04740', 'MAR04250', 'MAR06875', 'MAR06876', 'MAR04840', 'MAR04771', \n",
    "             'MAR06997', 'MAR07008', 'MAR07011', 'MAR07015', 'MAR07016', 'MAR05127', 'MAR08749', 'MAR08750']"
   ]
  },
  {
   "cell_type": "markdown",
   "id": "1dfb0e10-1a53-4062-9c7a-a124ba675270",
   "metadata": {},
   "source": [
    "## rFASTCORMICS"
   ]
  },
  {
   "cell_type": "code",
   "execution_count": null,
   "id": "cd43b54a-d567-4e8b-8df9-9794fccc13e1",
   "metadata": {},
   "outputs": [],
   "source": [
    "result = human1.integrate_gene_data(data_name, \n",
    "                                    integrator=\"rFASTCORMICS\", \n",
    "                                    protected_rxns=list(set(task_supps+spon_rxns)), \n",
    "                                    consistent_checking_method=None,\n",
    "                                    predefined_threshold={\"exp_th\": exp_th, \"non_exp_th\": nexp_th})\n",
    "\n",
    "# result model\n",
    "print(result.result_model)"
   ]
  },
  {
   "cell_type": "markdown",
   "id": "ee0f0d81-eac7-4058-bdd4-3dc303b71bd1",
   "metadata": {},
   "source": [
    "And... that's it. You can also save the result with `result.save(\"saved_folder\")`. \n",
    "\n",
    "Some of the parameters are reusable for other integration methods."
   ]
  },
  {
   "cell_type": "markdown",
   "id": "70a9777d-4f41-4013-a430-9dc089591ab7",
   "metadata": {},
   "source": [
    "## GIMME"
   ]
  },
  {
   "cell_type": "code",
   "execution_count": null,
   "id": "14afc9b9-30a0-4776-869d-1c32ad98c570",
   "metadata": {},
   "outputs": [],
   "source": [
    "result = human1.integrate_gene_data(data_name, \n",
    "                                    integrator=\"GIMME\", \n",
    "                                    protected_rxns=list(set(task_supps+spon_rxns)), \n",
    "                                    high_exp=exp_th)\n",
    "\n",
    "# result model\n",
    "print(result.result_model)"
   ]
  }
 ],
 "metadata": {
  "kernelspec": {
   "display_name": "Python 3 (ipykernel)",
   "language": "python",
   "name": "python3"
  },
  "language_info": {
   "codemirror_mode": {
    "name": "ipython",
    "version": 3
   },
   "file_extension": ".py",
   "mimetype": "text/x-python",
   "name": "python",
   "nbconvert_exporter": "python",
   "pygments_lexer": "ipython3",
   "version": "3.10.12"
  }
 },
 "nbformat": 4,
 "nbformat_minor": 5
}
