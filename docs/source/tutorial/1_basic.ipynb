{
 "cells": [
  {
   "cell_type": "markdown",
   "id": "02eb6e3c",
   "metadata": {},
   "source": [
    "# 1. Basic operations"
   ]
  },
  {
   "cell_type": "code",
   "execution_count": 1,
   "id": "3d67cf73",
   "metadata": {},
   "outputs": [],
   "source": [
    "import sys\n",
    "from pathlib import Path\n",
    "sys.path.append(str(Path(\"../../\").resolve()))\n",
    "\n",
    "%load_ext autoreload\n",
    "%autoreload 2"
   ]
  },
  {
   "cell_type": "code",
   "execution_count": 2,
   "id": "74785821",
   "metadata": {},
   "outputs": [],
   "source": [
    "import pipeGEM as pg\n",
    "from pipeGEM.data.fetching import list_models, load_remote_model\n",
    "from pipeGEM.utils import get_subsystems\n",
    "import cobra"
   ]
  },
  {
   "cell_type": "markdown",
   "id": "9278ffba",
   "metadata": {},
   "source": [
    "## Get model from [BiGG](http://bigg.ucsd.edu/) or [Metabolic atlas](https://metabolicatlas.org/)"
   ]
  },
  {
   "cell_type": "code",
   "execution_count": 3,
   "id": "cf21cc40",
   "metadata": {},
   "outputs": [],
   "source": [
    "model_list = list_models(organism=\"E. coli\")"
   ]
  },
  {
   "cell_type": "code",
   "execution_count": 4,
   "id": "c2b876a1",
   "metadata": {
    "tags": []
   },
   "outputs": [
    {
     "data": {
      "text/html": [
       "<div>\n",
       "<style scoped>\n",
       "    .dataframe tbody tr th:only-of-type {\n",
       "        vertical-align: middle;\n",
       "    }\n",
       "\n",
       "    .dataframe tbody tr th {\n",
       "        vertical-align: top;\n",
       "    }\n",
       "\n",
       "    .dataframe thead th {\n",
       "        text-align: right;\n",
       "    }\n",
       "</style>\n",
       "<table border=\"1\" class=\"dataframe\">\n",
       "  <thead>\n",
       "    <tr style=\"text-align: right;\">\n",
       "      <th></th>\n",
       "      <th>id</th>\n",
       "      <th>organism</th>\n",
       "      <th>reaction_count</th>\n",
       "      <th>metabolite_count</th>\n",
       "      <th>gene_count</th>\n",
       "      <th>database</th>\n",
       "    </tr>\n",
       "  </thead>\n",
       "  <tbody>\n",
       "    <tr>\n",
       "      <th>0</th>\n",
       "      <td>e_coli_core</td>\n",
       "      <td>Escherichia coli str. K-12 substr. MG1655</td>\n",
       "      <td>95</td>\n",
       "      <td>72</td>\n",
       "      <td>137</td>\n",
       "      <td>BiGG</td>\n",
       "    </tr>\n",
       "    <tr>\n",
       "      <th>2</th>\n",
       "      <td>iAF1260</td>\n",
       "      <td>Escherichia coli str. K-12 substr. MG1655</td>\n",
       "      <td>2382</td>\n",
       "      <td>1668</td>\n",
       "      <td>1261</td>\n",
       "      <td>BiGG</td>\n",
       "    </tr>\n",
       "    <tr>\n",
       "      <th>3</th>\n",
       "      <td>iAF1260b</td>\n",
       "      <td>Escherichia coli str. K-12 substr. MG1655</td>\n",
       "      <td>2388</td>\n",
       "      <td>1668</td>\n",
       "      <td>1261</td>\n",
       "      <td>BiGG</td>\n",
       "    </tr>\n",
       "    <tr>\n",
       "      <th>11</th>\n",
       "      <td>iAPECO1_1312</td>\n",
       "      <td>Escherichia coli APEC O1</td>\n",
       "      <td>2735</td>\n",
       "      <td>1942</td>\n",
       "      <td>1313</td>\n",
       "      <td>BiGG</td>\n",
       "    </tr>\n",
       "    <tr>\n",
       "      <th>13</th>\n",
       "      <td>iB21_1397</td>\n",
       "      <td>Escherichia coli BL21(DE3)</td>\n",
       "      <td>2741</td>\n",
       "      <td>1943</td>\n",
       "      <td>1337</td>\n",
       "      <td>BiGG</td>\n",
       "    </tr>\n",
       "  </tbody>\n",
       "</table>\n",
       "</div>"
      ],
      "text/plain": [
       "              id                                   organism  reaction_count   \n",
       "0    e_coli_core  Escherichia coli str. K-12 substr. MG1655              95  \\\n",
       "2        iAF1260  Escherichia coli str. K-12 substr. MG1655            2382   \n",
       "3       iAF1260b  Escherichia coli str. K-12 substr. MG1655            2388   \n",
       "11  iAPECO1_1312                   Escherichia coli APEC O1            2735   \n",
       "13     iB21_1397                 Escherichia coli BL21(DE3)            2741   \n",
       "\n",
       "    metabolite_count  gene_count database  \n",
       "0                 72         137     BiGG  \n",
       "2               1668        1261     BiGG  \n",
       "3               1668        1261     BiGG  \n",
       "11              1942        1313     BiGG  \n",
       "13              1943        1337     BiGG  "
      ]
     },
     "execution_count": 4,
     "metadata": {},
     "output_type": "execute_result"
    }
   ],
   "source": [
    "model_list.head()"
   ]
  },
  {
   "cell_type": "code",
   "execution_count": 5,
   "id": "7db7eb6b",
   "metadata": {},
   "outputs": [
    {
     "name": "stdout",
     "output_type": "stream",
     "text": [
      "Set parameter Username\n",
      "Academic license - for non-commercial use only - expires 2023-06-14\n"
     ]
    }
   ],
   "source": [
    "ecoli = load_remote_model(\"e_coli_core\")"
   ]
  },
  {
   "cell_type": "code",
   "execution_count": 6,
   "id": "8e5f7547",
   "metadata": {},
   "outputs": [
    {
     "data": {
      "text/html": [
       "\n",
       "        <table>\n",
       "            <tr>\n",
       "                <td><strong>Name</strong></td>\n",
       "                <td>e_coli_core</td>\n",
       "            </tr><tr>\n",
       "                <td><strong>Memory address</strong></td>\n",
       "                <td>0x026820df9d00</td>\n",
       "            </tr><tr>\n",
       "                <td><strong>Number of metabolites</strong></td>\n",
       "                <td>72</td>\n",
       "            </tr><tr>\n",
       "                <td><strong>Number of reactions</strong></td>\n",
       "                <td>95</td>\n",
       "            </tr><tr>\n",
       "                <td><strong>Number of groups</strong></td>\n",
       "                <td>0</td>\n",
       "            </tr><tr>\n",
       "                <td><strong>Objective expression</strong></td>\n",
       "                <td>1.0*BIOMASS_Ecoli_core_w_GAM - 1.0*BIOMASS_Ecoli_core_w_GAM_reverse_712e5</td>\n",
       "            </tr><tr>\n",
       "                <td><strong>Compartments</strong></td>\n",
       "                <td>extracellular space, cytosol</td>\n",
       "            </tr>\n",
       "          </table>"
      ],
      "text/plain": [
       "<Model e_coli_core at 0x26820df9d00>"
      ]
     },
     "execution_count": 6,
     "metadata": {},
     "output_type": "execute_result"
    }
   ],
   "source": [
    "ecoli"
   ]
  },
  {
   "cell_type": "markdown",
   "id": "1600559b",
   "metadata": {},
   "source": [
    "## Create Model object"
   ]
  },
  {
   "cell_type": "code",
   "execution_count": 7,
   "id": "7619308f",
   "metadata": {},
   "outputs": [],
   "source": [
    "pg_mod = pg.Model(model=ecoli, name_tag=\"ecoli\")"
   ]
  },
  {
   "cell_type": "code",
   "execution_count": 8,
   "id": "5bc91d2c",
   "metadata": {},
   "outputs": [
    {
     "data": {
      "text/html": [
       "\n",
       "        <table>\n",
       "            <tr>\n",
       "                <td><strong>Name</strong></td>\n",
       "                <td>e_coli_core</td>\n",
       "            </tr><tr>\n",
       "                <td><strong>Memory address</strong></td>\n",
       "                <td>0x026820df9d00</td>\n",
       "            </tr><tr>\n",
       "                <td><strong>Number of metabolites</strong></td>\n",
       "                <td>72</td>\n",
       "            </tr><tr>\n",
       "                <td><strong>Number of reactions</strong></td>\n",
       "                <td>95</td>\n",
       "            </tr><tr>\n",
       "                <td><strong>Number of groups</strong></td>\n",
       "                <td>0</td>\n",
       "            </tr><tr>\n",
       "                <td><strong>Objective expression</strong></td>\n",
       "                <td>1.0*BIOMASS_Ecoli_core_w_GAM - 1.0*BIOMASS_Ecoli_core_w_GAM_reverse_712e5</td>\n",
       "            </tr><tr>\n",
       "                <td><strong>Compartments</strong></td>\n",
       "                <td>extracellular space, cytosol</td>\n",
       "            </tr>\n",
       "          </table>"
      ],
      "text/plain": [
       "pipeGEM.Model [ecoli] (g,m,r)=(137, 72, 95)"
      ]
     },
     "execution_count": 8,
     "metadata": {},
     "output_type": "execute_result"
    }
   ],
   "source": [
    "pg_mod"
   ]
  },
  {
   "cell_type": "code",
   "execution_count": 9,
   "id": "1cbf49ff",
   "metadata": {},
   "outputs": [
    {
     "data": {
      "text/plain": [
       "(95, 137, 72)"
      ]
     },
     "execution_count": 9,
     "metadata": {},
     "output_type": "execute_result"
    }
   ],
   "source": [
    "# basic information\n",
    "\n",
    "pg_mod.n_rxns, pg_mod.n_genes, pg_mod.n_mets"
   ]
  },
  {
   "cell_type": "code",
   "execution_count": 10,
   "id": "4f05108c",
   "metadata": {},
   "outputs": [],
   "source": [
    "# flux analysis using get_flux\n",
    "\n",
    "pFBA_result = pg_mod.do_flux_analysis(method=\"pFBA\")"
   ]
  },
  {
   "cell_type": "code",
   "execution_count": 11,
   "id": "2a614e2c",
   "metadata": {},
   "outputs": [
    {
     "data": {
      "text/plain": [
       "            fluxes  reduced_costs\n",
       "PFK       7.477382      -2.000000\n",
       "PFL       0.000000       5.733333\n",
       "PGI       4.860861      -2.000000\n",
       "PGK     -16.023526       2.000000\n",
       "PGL       4.959985      -2.000000\n",
       "...            ...            ...\n",
       "NADH16   38.534610      -2.000000\n",
       "NADTRHD   0.000000       1.422222\n",
       "NH4t      4.765319      -2.000000\n",
       "O2t      21.799493      -2.000000\n",
       "PDH       9.282533      -2.000000\n",
       "\n",
       "[95 rows x 2 columns]"
      ]
     },
     "execution_count": 11,
     "metadata": {},
     "output_type": "execute_result"
    }
   ],
   "source": [
    "pFBA_result"
   ]
  },
  {
   "cell_type": "code",
   "execution_count": 12,
   "id": "56089526",
   "metadata": {
    "tags": []
   },
   "outputs": [
    {
     "name": "stdout",
     "output_type": "stream",
     "text": [
      "Use index as the reaction IDs\n"
     ]
    },
    {
     "data": {
      "image/png": "[encoded data removed]",
      "text/plain": [
       "<Figure size 432x432 with 1 Axes>"
      ]
     },
     "metadata": {},
     "output_type": "display_data"
    }
   ],
   "source": [
    "pFBA_result.plot(rxn_ids=[\"PFK\", \"PGI\", \"PGK\"], aspect=1)"
   ]
  },
  {
   "cell_type": "code",
   "execution_count": 13,
   "id": "8c6a4024",
   "metadata": {},
   "outputs": [
    {
     "name": "stdout",
     "output_type": "stream",
     "text": [
      "Read LP format model from file C:\\Users\\qwert\\AppData\\Local\\Temp\\tmp0u7xhswx.lp\n",
      "Reading time = 0.01 seconds\n",
      ": 73 rows, 190 columns, 722 nonzeros\n"
     ]
    }
   ],
   "source": [
    "# perform flux sampling\n",
    "\n",
    "sampling_result = pg_mod.do_flux_analysis(method=\"sampling\", n=30)"
   ]
  },
  {
   "cell_type": "code",
   "execution_count": 14,
   "id": "84d789f3",
   "metadata": {},
   "outputs": [
    {
     "data": {
      "text/html": [
       "<div>\n",
       "<style scoped>\n",
       "    .dataframe tbody tr th:only-of-type {\n",
       "        vertical-align: middle;\n",
       "    }\n",
       "\n",
       "    .dataframe tbody tr th {\n",
       "        vertical-align: top;\n",
       "    }\n",
       "\n",
       "    .dataframe thead th {\n",
       "        text-align: right;\n",
       "    }\n",
       "</style>\n",
       "<table border=\"1\" class=\"dataframe\">\n",
       "  <thead>\n",
       "    <tr style=\"text-align: right;\">\n",
       "      <th></th>\n",
       "      <th>rxn_id</th>\n",
       "      <th>flux</th>\n",
       "    </tr>\n",
       "  </thead>\n",
       "  <tbody>\n",
       "    <tr>\n",
       "      <th>0</th>\n",
       "      <td>PFK</td>\n",
       "      <td>9.237147</td>\n",
       "    </tr>\n",
       "    <tr>\n",
       "      <th>1</th>\n",
       "      <td>PFL</td>\n",
       "      <td>0.004525</td>\n",
       "    </tr>\n",
       "    <tr>\n",
       "      <th>2</th>\n",
       "      <td>PGI</td>\n",
       "      <td>9.161558</td>\n",
       "    </tr>\n",
       "    <tr>\n",
       "      <th>3</th>\n",
       "      <td>PGK</td>\n",
       "      <td>-18.003960</td>\n",
       "    </tr>\n",
       "    <tr>\n",
       "      <th>4</th>\n",
       "      <td>PGL</td>\n",
       "      <td>0.695492</td>\n",
       "    </tr>\n",
       "    <tr>\n",
       "      <th>...</th>\n",
       "      <td>...</td>\n",
       "      <td>...</td>\n",
       "    </tr>\n",
       "    <tr>\n",
       "      <th>90</th>\n",
       "      <td>NADH16</td>\n",
       "      <td>33.370356</td>\n",
       "    </tr>\n",
       "    <tr>\n",
       "      <th>91</th>\n",
       "      <td>NADTRHD</td>\n",
       "      <td>0.119330</td>\n",
       "    </tr>\n",
       "    <tr>\n",
       "      <th>92</th>\n",
       "      <td>NH4t</td>\n",
       "      <td>3.589349</td>\n",
       "    </tr>\n",
       "    <tr>\n",
       "      <th>93</th>\n",
       "      <td>O2t</td>\n",
       "      <td>17.967234</td>\n",
       "    </tr>\n",
       "    <tr>\n",
       "      <th>94</th>\n",
       "      <td>PDH</td>\n",
       "      <td>9.385245</td>\n",
       "    </tr>\n",
       "  </tbody>\n",
       "</table>\n",
       "<p>95 rows × 2 columns</p>\n",
       "</div>"
      ],
      "text/plain": [
       "     rxn_id       flux\n",
       "0       PFK   9.237147\n",
       "1       PFL   0.004525\n",
       "2       PGI   9.161558\n",
       "3       PGK -18.003960\n",
       "4       PGL   0.695492\n",
       "..      ...        ...\n",
       "90   NADH16  33.370356\n",
       "91  NADTRHD   0.119330\n",
       "92     NH4t   3.589349\n",
       "93      O2t  17.967234\n",
       "94      PDH   9.385245\n",
       "\n",
       "[95 rows x 2 columns]"
      ]
     },
     "execution_count": 14,
     "metadata": {},
     "output_type": "execute_result"
    }
   ],
   "source": [
    "sampling_result.result[0]"
   ]
  },
  {
   "cell_type": "markdown",
   "id": "7be46a43",
   "metadata": {},
   "source": [
    "## Create Group object"
   ]
  },
  {
   "cell_type": "code",
   "execution_count": 15,
   "id": "c4d6ec0d",
   "metadata": {},
   "outputs": [],
   "source": [
    "from pipeGEM.utils import random_perturb"
   ]
  },
  {
   "cell_type": "code",
   "execution_count": 16,
   "id": "d455ac2f",
   "metadata": {},
   "outputs": [
    {
     "name": "stdout",
     "output_type": "stream",
     "text": [
      "Read LP format model from file C:\\Users\\qwert\\AppData\\Local\\Temp\\tmpl36r0snk.lp\n",
      "Reading time = 0.01 seconds\n",
      ": 72 rows, 190 columns, 720 nonzeros\n",
      "Read LP format model from file C:\\Users\\qwert\\AppData\\Local\\Temp\\tmpk1s067kx.lp\n",
      "Reading time = 0.00 seconds\n",
      ": 72 rows, 190 columns, 720 nonzeros\n",
      "Read LP format model from file C:\\Users\\qwert\\AppData\\Local\\Temp\\tmpjqsjeu_t.lp\n",
      "Reading time = 0.01 seconds\n",
      ": 72 rows, 190 columns, 720 nonzeros\n",
      "Read LP format model from file C:\\Users\\qwert\\AppData\\Local\\Temp\\tmpyo6wh5zn.lp\n",
      "Reading time = 0.01 seconds\n",
      ": 72 rows, 190 columns, 720 nonzeros\n",
      "Read LP format model from file C:\\Users\\qwert\\AppData\\Local\\Temp\\tmp6vpxjnnq.lp\n",
      "Reading time = 0.01 seconds\n",
      ": 72 rows, 190 columns, 720 nonzeros\n",
      "Read LP format model from file C:\\Users\\qwert\\AppData\\Local\\Temp\\tmpabbbwe4m.lp\n",
      "Reading time = 0.01 seconds\n",
      ": 72 rows, 190 columns, 720 nonzeros\n",
      "Read LP format model from file C:\\Users\\qwert\\AppData\\Local\\Temp\\tmp9i2mw1u0.lp\n",
      "Reading time = 0.01 seconds\n",
      ": 72 rows, 190 columns, 720 nonzeros\n",
      "Read LP format model from file C:\\Users\\qwert\\AppData\\Local\\Temp\\tmpg5e3u3hc.lp\n",
      "Reading time = 0.00 seconds\n",
      ": 72 rows, 190 columns, 720 nonzeros\n",
      "Read LP format model from file C:\\Users\\qwert\\AppData\\Local\\Temp\\tmpke9kzbb9.lp\n",
      "Reading time = 0.01 seconds\n",
      ": 72 rows, 190 columns, 720 nonzeros\n"
     ]
    }
   ],
   "source": [
    "# create different models\n",
    "models = [random_perturb(ecoli, \n",
    "                         in_place=False, \n",
    "                         structure_ratio=0.8,\n",
    "                         constr_ratio=0.8, \n",
    "                         random_state=i) for i in range(9)]"
   ]
  },
  {
   "cell_type": "code",
   "execution_count": 17,
   "id": "83f6a0f9",
   "metadata": {},
   "outputs": [],
   "source": [
    "# The first way to initialize Group is to use a dict of cobra.model dicts (str as keys)\n",
    "\n",
    "grp = pg.Group({\"G1\": {f\"m{i+1}\": models[i] for i in range(3)},\n",
    "               \"G2\": {f\"m{i+1}\": models[i] for i in range(3, 6)},\n",
    "               \"G3\": {f\"m{i+1}\": models[i] for i in range(6, 9)}}, name_tag=\"group\")"
   ]
  },
  {
   "cell_type": "code",
   "execution_count": 18,
   "id": "551cbeca",
   "metadata": {},
   "outputs": [
    {
     "data": {
      "text/html": [
       "<div>\n",
       "<style scoped>\n",
       "    .dataframe tbody tr th:only-of-type {\n",
       "        vertical-align: middle;\n",
       "    }\n",
       "\n",
       "    .dataframe tbody tr th {\n",
       "        vertical-align: top;\n",
       "    }\n",
       "\n",
       "    .dataframe thead th {\n",
       "        text-align: right;\n",
       "    }\n",
       "</style>\n",
       "<table border=\"1\" class=\"dataframe\">\n",
       "  <thead>\n",
       "    <tr style=\"text-align: right;\">\n",
       "      <th></th>\n",
       "      <th>group_name</th>\n",
       "      <th>n_rxns</th>\n",
       "      <th>n_mets</th>\n",
       "      <th>n_genes</th>\n",
       "    </tr>\n",
       "  </thead>\n",
       "  <tbody>\n",
       "    <tr>\n",
       "      <th>m1</th>\n",
       "      <td>G1</td>\n",
       "      <td>71</td>\n",
       "      <td>72</td>\n",
       "      <td>95</td>\n",
       "    </tr>\n",
       "    <tr>\n",
       "      <th>m2</th>\n",
       "      <td>G1</td>\n",
       "      <td>69</td>\n",
       "      <td>72</td>\n",
       "      <td>94</td>\n",
       "    </tr>\n",
       "    <tr>\n",
       "      <th>m3</th>\n",
       "      <td>G1</td>\n",
       "      <td>65</td>\n",
       "      <td>67</td>\n",
       "      <td>83</td>\n",
       "    </tr>\n",
       "    <tr>\n",
       "      <th>m4</th>\n",
       "      <td>G2</td>\n",
       "      <td>63</td>\n",
       "      <td>69</td>\n",
       "      <td>85</td>\n",
       "    </tr>\n",
       "    <tr>\n",
       "      <th>m5</th>\n",
       "      <td>G2</td>\n",
       "      <td>76</td>\n",
       "      <td>72</td>\n",
       "      <td>122</td>\n",
       "    </tr>\n",
       "    <tr>\n",
       "      <th>m6</th>\n",
       "      <td>G2</td>\n",
       "      <td>74</td>\n",
       "      <td>72</td>\n",
       "      <td>112</td>\n",
       "    </tr>\n",
       "    <tr>\n",
       "      <th>m7</th>\n",
       "      <td>G3</td>\n",
       "      <td>69</td>\n",
       "      <td>69</td>\n",
       "      <td>107</td>\n",
       "    </tr>\n",
       "    <tr>\n",
       "      <th>m8</th>\n",
       "      <td>G3</td>\n",
       "      <td>71</td>\n",
       "      <td>70</td>\n",
       "      <td>94</td>\n",
       "    </tr>\n",
       "    <tr>\n",
       "      <th>m9</th>\n",
       "      <td>G3</td>\n",
       "      <td>66</td>\n",
       "      <td>70</td>\n",
       "      <td>92</td>\n",
       "    </tr>\n",
       "  </tbody>\n",
       "</table>\n",
       "</div>"
      ],
      "text/plain": [
       "   group_name n_rxns n_mets n_genes\n",
       "m1         G1     71     72      95\n",
       "m2         G1     69     72      94\n",
       "m3         G1     65     67      83\n",
       "m4         G2     63     69      85\n",
       "m5         G2     76     72     122\n",
       "m6         G2     74     72     112\n",
       "m7         G3     69     69     107\n",
       "m8         G3     71     70      94\n",
       "m9         G3     66     70      92"
      ]
     },
     "execution_count": 18,
     "metadata": {},
     "output_type": "execute_result"
    }
   ],
   "source": [
    "# browse the group table\n",
    "\n",
    "grp.get_info(features=[\"group_name\", \"n_rxns\", \"n_mets\", \"n_genes\"])"
   ]
  },
  {
   "cell_type": "code",
   "execution_count": 19,
   "id": "4c894f27-a5b4-4631-86b9-37c57882241b",
   "metadata": {},
   "outputs": [],
   "source": [
    "# The second way to initialize Group is to use a dict of pipeGEM.Model lists\n",
    "\n",
    "grp = pg.Group({\"G1\": [pg.Model(f\"m{i+1}\", models[i]) for i in range(3)],\n",
    "               \"G2\": [pg.Model(f\"m{i+1}\", models[i]) for i in range(3, 6)],\n",
    "               \"G3\": [pg.Model(f\"m{i+1}\", models[i]) for i in range(6, 9)]}, name_tag=\"group\")"
   ]
  },
  {
   "cell_type": "code",
   "execution_count": 20,
   "id": "47fdcc88-003d-40f6-a164-65343edf29a6",
   "metadata": {},
   "outputs": [
    {
     "data": {
      "text/html": [
       "<div>\n",
       "<style scoped>\n",
       "    .dataframe tbody tr th:only-of-type {\n",
       "        vertical-align: middle;\n",
       "    }\n",
       "\n",
       "    .dataframe tbody tr th {\n",
       "        vertical-align: top;\n",
       "    }\n",
       "\n",
       "    .dataframe thead th {\n",
       "        text-align: right;\n",
       "    }\n",
       "</style>\n",
       "<table border=\"1\" class=\"dataframe\">\n",
       "  <thead>\n",
       "    <tr style=\"text-align: right;\">\n",
       "      <th></th>\n",
       "      <th>group_name</th>\n",
       "      <th>n_rxns</th>\n",
       "      <th>n_mets</th>\n",
       "      <th>n_genes</th>\n",
       "    </tr>\n",
       "  </thead>\n",
       "  <tbody>\n",
       "    <tr>\n",
       "      <th>m1</th>\n",
       "      <td>G1</td>\n",
       "      <td>71</td>\n",
       "      <td>72</td>\n",
       "      <td>95</td>\n",
       "    </tr>\n",
       "    <tr>\n",
       "      <th>m2</th>\n",
       "      <td>G1</td>\n",
       "      <td>69</td>\n",
       "      <td>72</td>\n",
       "      <td>94</td>\n",
       "    </tr>\n",
       "    <tr>\n",
       "      <th>m3</th>\n",
       "      <td>G1</td>\n",
       "      <td>65</td>\n",
       "      <td>67</td>\n",
       "      <td>83</td>\n",
       "    </tr>\n",
       "    <tr>\n",
       "      <th>m4</th>\n",
       "      <td>G2</td>\n",
       "      <td>63</td>\n",
       "      <td>69</td>\n",
       "      <td>85</td>\n",
       "    </tr>\n",
       "    <tr>\n",
       "      <th>m5</th>\n",
       "      <td>G2</td>\n",
       "      <td>76</td>\n",
       "      <td>72</td>\n",
       "      <td>122</td>\n",
       "    </tr>\n",
       "    <tr>\n",
       "      <th>m6</th>\n",
       "      <td>G2</td>\n",
       "      <td>74</td>\n",
       "      <td>72</td>\n",
       "      <td>112</td>\n",
       "    </tr>\n",
       "    <tr>\n",
       "      <th>m7</th>\n",
       "      <td>G3</td>\n",
       "      <td>69</td>\n",
       "      <td>69</td>\n",
       "      <td>107</td>\n",
       "    </tr>\n",
       "    <tr>\n",
       "      <th>m8</th>\n",
       "      <td>G3</td>\n",
       "      <td>71</td>\n",
       "      <td>70</td>\n",
       "      <td>94</td>\n",
       "    </tr>\n",
       "    <tr>\n",
       "      <th>m9</th>\n",
       "      <td>G3</td>\n",
       "      <td>66</td>\n",
       "      <td>70</td>\n",
       "      <td>92</td>\n",
       "    </tr>\n",
       "  </tbody>\n",
       "</table>\n",
       "</div>"
      ],
      "text/plain": [
       "   group_name n_rxns n_mets n_genes\n",
       "m1         G1     71     72      95\n",
       "m2         G1     69     72      94\n",
       "m3         G1     65     67      83\n",
       "m4         G2     63     69      85\n",
       "m5         G2     76     72     122\n",
       "m6         G2     74     72     112\n",
       "m7         G3     69     69     107\n",
       "m8         G3     71     70      94\n",
       "m9         G3     66     70      92"
      ]
     },
     "execution_count": 20,
     "metadata": {},
     "output_type": "execute_result"
    }
   ],
   "source": [
    "# This should return the same result with the first case\n",
    "\n",
    "grp.get_info(features=[\"group_name\", \"n_rxns\", \"n_mets\", \"n_genes\"])"
   ]
  },
  {
   "cell_type": "markdown",
   "id": "10a20800-a352-4b85-b0ab-8354ea2bf4ba",
   "metadata": {},
   "source": [
    "## Group operations"
   ]
  },
  {
   "cell_type": "code",
   "execution_count": 21,
   "id": "c0b9541c",
   "metadata": {},
   "outputs": [
    {
     "data": {
      "text/html": [
       "\n",
       "        <table>\n",
       "            <tr>\n",
       "                <td><strong>Name</strong></td>\n",
       "                <td>e_coli_core</td>\n",
       "            </tr><tr>\n",
       "                <td><strong>Memory address</strong></td>\n",
       "                <td>0x02682216d700</td>\n",
       "            </tr><tr>\n",
       "                <td><strong>Number of metabolites</strong></td>\n",
       "                <td>72</td>\n",
       "            </tr><tr>\n",
       "                <td><strong>Number of reactions</strong></td>\n",
       "                <td>71</td>\n",
       "            </tr><tr>\n",
       "                <td><strong>Number of groups</strong></td>\n",
       "                <td>0</td>\n",
       "            </tr><tr>\n",
       "                <td><strong>Objective expression</strong></td>\n",
       "                <td>1.0*BIOMASS_Ecoli_core_w_GAM - 1.0*BIOMASS_Ecoli_core_w_GAM_reverse_712e5</td>\n",
       "            </tr><tr>\n",
       "                <td><strong>Compartments</strong></td>\n",
       "                <td>extracellular space, cytosol</td>\n",
       "            </tr>\n",
       "          </table>"
      ],
      "text/plain": [
       "pipeGEM.Model [m1] (g,m,r)=(95, 72, 71)"
      ]
     },
     "execution_count": 21,
     "metadata": {},
     "output_type": "execute_result"
    }
   ],
   "source": [
    "# indexing\n",
    "\n",
    "grp[\"m1\"]"
   ]
  },
  {
   "cell_type": "code",
   "execution_count": 22,
   "id": "12238e71-06d4-439c-97f1-007735950b39",
   "metadata": {},
   "outputs": [
    {
     "data": {
      "text/html": [
       "<div>\n",
       "<style scoped>\n",
       "    .dataframe tbody tr th:only-of-type {\n",
       "        vertical-align: middle;\n",
       "    }\n",
       "\n",
       "    .dataframe tbody tr th {\n",
       "        vertical-align: top;\n",
       "    }\n",
       "\n",
       "    .dataframe thead th {\n",
       "        text-align: right;\n",
       "    }\n",
       "</style>\n",
       "<table border=\"1\" class=\"dataframe\">\n",
       "  <thead>\n",
       "    <tr style=\"text-align: right;\">\n",
       "      <th></th>\n",
       "      <th>group_name</th>\n",
       "      <th>n_rxns</th>\n",
       "      <th>n_mets</th>\n",
       "      <th>n_genes</th>\n",
       "    </tr>\n",
       "  </thead>\n",
       "  <tbody>\n",
       "    <tr>\n",
       "      <th>m1</th>\n",
       "      <td>G1</td>\n",
       "      <td>71</td>\n",
       "      <td>72</td>\n",
       "      <td>95</td>\n",
       "    </tr>\n",
       "    <tr>\n",
       "      <th>m2</th>\n",
       "      <td>G1</td>\n",
       "      <td>69</td>\n",
       "      <td>72</td>\n",
       "      <td>94</td>\n",
       "    </tr>\n",
       "    <tr>\n",
       "      <th>m4</th>\n",
       "      <td>G2</td>\n",
       "      <td>63</td>\n",
       "      <td>69</td>\n",
       "      <td>85</td>\n",
       "    </tr>\n",
       "  </tbody>\n",
       "</table>\n",
       "</div>"
      ],
      "text/plain": [
       "   group_name n_rxns n_mets n_genes\n",
       "m1         G1     71     72      95\n",
       "m2         G1     69     72      94\n",
       "m4         G2     63     69      85"
      ]
     },
     "execution_count": 22,
     "metadata": {},
     "output_type": "execute_result"
    }
   ],
   "source": [
    "# select multiple models\n",
    "\n",
    "grp[[\"m1\", \"m2\", \"m4\"]].get_info()"
   ]
  },
  {
   "cell_type": "code",
   "execution_count": 23,
   "id": "606a97e0-5333-42b2-95a4-4cd47b6c372f",
   "metadata": {},
   "outputs": [
    {
     "data": {
      "text/plain": [
       "{'G1': Group [G1] containing 3 models,\n",
       " 'G2': Group [G2] containing 3 models,\n",
       " 'G3': Group [G3] containing 3 models}"
      ]
     },
     "execution_count": 23,
     "metadata": {},
     "output_type": "execute_result"
    }
   ],
   "source": [
    "# aggregate models with thier group name into a dict\n",
    "\n",
    "grp_dic = grp.aggregate_models(\"group_name\")\n",
    "grp_dic"
   ]
  },
  {
   "cell_type": "code",
   "execution_count": 24,
   "id": "c42a0f80",
   "metadata": {},
   "outputs": [
    {
     "data": {
      "text/html": [
       "<div>\n",
       "<style scoped>\n",
       "    .dataframe tbody tr th:only-of-type {\n",
       "        vertical-align: middle;\n",
       "    }\n",
       "\n",
       "    .dataframe tbody tr th {\n",
       "        vertical-align: top;\n",
       "    }\n",
       "\n",
       "    .dataframe thead th {\n",
       "        text-align: right;\n",
       "    }\n",
       "</style>\n",
       "<table border=\"1\" class=\"dataframe\">\n",
       "  <thead>\n",
       "    <tr style=\"text-align: right;\">\n",
       "      <th></th>\n",
       "      <th>group_name</th>\n",
       "      <th>n_rxns</th>\n",
       "      <th>n_mets</th>\n",
       "      <th>n_genes</th>\n",
       "    </tr>\n",
       "  </thead>\n",
       "  <tbody>\n",
       "    <tr>\n",
       "      <th>m4</th>\n",
       "      <td>G2</td>\n",
       "      <td>63</td>\n",
       "      <td>69</td>\n",
       "      <td>85</td>\n",
       "    </tr>\n",
       "    <tr>\n",
       "      <th>m5</th>\n",
       "      <td>G2</td>\n",
       "      <td>76</td>\n",
       "      <td>72</td>\n",
       "      <td>122</td>\n",
       "    </tr>\n",
       "    <tr>\n",
       "      <th>m6</th>\n",
       "      <td>G2</td>\n",
       "      <td>74</td>\n",
       "      <td>72</td>\n",
       "      <td>112</td>\n",
       "    </tr>\n",
       "  </tbody>\n",
       "</table>\n",
       "</div>"
      ],
      "text/plain": [
       "   group_name n_rxns n_mets n_genes\n",
       "m4         G2     63     69      85\n",
       "m5         G2     76     72     122\n",
       "m6         G2     74     72     112"
      ]
     },
     "execution_count": 24,
     "metadata": {},
     "output_type": "execute_result"
    }
   ],
   "source": [
    "grp_dic[\"G2\"].get_info()"
   ]
  },
  {
   "cell_type": "code",
   "execution_count": 25,
   "id": "8ed51637",
   "metadata": {},
   "outputs": [
    {
     "data": {
      "text/plain": [
       "True"
      ]
     },
     "execution_count": 25,
     "metadata": {},
     "output_type": "execute_result"
    }
   ],
   "source": [
    "# The models inside the pg.Group are pg.Models\n",
    "\n",
    "isinstance(grp_dic[\"G2\"][\"m4\"], pg.Model)"
   ]
  },
  {
   "cell_type": "code",
   "execution_count": 26,
   "id": "6613bf2c-412e-4679-88ec-7345e3364170",
   "metadata": {
    "tags": []
   },
   "outputs": [
    {
     "name": "stdout",
     "output_type": "stream",
     "text": [
      "Read LP format model from file C:\\Users\\qwert\\AppData\\Local\\Temp\\tmprsboeryh.lp\n",
      "Reading time = 0.01 seconds\n",
      ": 72 rows, 190 columns, 720 nonzeros\n"
     ]
    }
   ],
   "source": [
    "grp = pg.Group([pg_mod, pg_mod.copy()], )\n",
    "pfba_result = grp.do_flux_analysis(method=\"pFBA\")"
   ]
  },
  {
   "cell_type": "code",
   "execution_count": 27,
   "id": "2bf154a9-9544-4d50-af23-684932e8829b",
   "metadata": {},
   "outputs": [
    {
     "data": {
      "text/plain": [
       "    Reaction     fluxes  reduced_costs         model\n",
       "0        PFK   7.477382      -2.000000         ecoli\n",
       "1        PFL   0.000000       5.733333         ecoli\n",
       "2        PGI   4.860861      -2.000000         ecoli\n",
       "3        PGK -16.023526       2.000000         ecoli\n",
       "4        PGL   4.959985      -2.000000         ecoli\n",
       "..       ...        ...            ...           ...\n",
       "185   NADH16  38.534610      -2.000000  copied_ecoli\n",
       "186  NADTRHD   0.000000       1.422222  copied_ecoli\n",
       "187     NH4t   4.765319      -2.000000  copied_ecoli\n",
       "188      O2t  21.799493      -2.000000  copied_ecoli\n",
       "189      PDH   9.282533      -2.000000  copied_ecoli\n",
       "\n",
       "[190 rows x 4 columns]"
      ]
     },
     "execution_count": 27,
     "metadata": {},
     "output_type": "execute_result"
    }
   ],
   "source": [
    "pfba_result"
   ]
  },
  {
   "cell_type": "code",
   "execution_count": 58,
   "id": "9c538024-252d-4d28-b583-01f5aa4a067e",
   "metadata": {},
   "outputs": [
    {
     "data": {
      "text/plain": [
       "{'name': 'Unnamed_group',\n",
       " 'group': {'Unnamed_group': ['ecoli', 'copied_ecoli']},\n",
       " 'group_annotation':               n_rxns  n_genes  n_mets\n",
       " ecoli             95      137      72\n",
       " copied_ecoli      95      137      72,\n",
       " 'rxn_annotation':     subsystem\n",
       " PFK          }"
      ]
     },
     "execution_count": 58,
     "metadata": {},
     "output_type": "execute_result"
    }
   ],
   "source": [
    "pfba_result.log"
   ]
  },
  {
   "cell_type": "code",
   "execution_count": 28,
   "id": "00fa205d-3a30-4c4f-9c81-e95946a421eb",
   "metadata": {},
   "outputs": [
    {
     "data": {
      "image/png": "[encoded data removed]",
      "text/plain": [
       "<Figure size 739.75x432 with 1 Axes>"
      ]
     },
     "metadata": {},
     "output_type": "display_data"
    }
   ],
   "source": [
    "pfba_result.plot(rxn_ids=[\"PFK\", \"PGI\", \"PGK\"], \n",
    "                 group_by=\"model\", aspect=1.5, kind=\"bar\")"
   ]
  },
  {
   "cell_type": "markdown",
   "id": "ba36a4e5",
   "metadata": {
    "pycharm": {
     "name": "#%% md\n"
    }
   },
   "source": [
    "## Comparisons"
   ]
  },
  {
   "cell_type": "code",
   "execution_count": 31,
   "id": "fe3cf29c",
   "metadata": {
    "collapsed": false,
    "jupyter": {
     "outputs_hidden": false
    },
    "pycharm": {
     "name": "#%%\n"
    }
   },
   "outputs": [],
   "source": [
    "# compare model components\n",
    "grp = pg.Group({\"G1\": [pg.Model(f\"m{i+1}\", models[i]) for i in range(3)],\n",
    "               \"G2\": [pg.Model(f\"m{i+1}\", models[i]) for i in range(3, 6)],\n",
    "               \"G3\": [pg.Model(f\"m{i+1}\", models[i]) for i in range(6, 9)]}, name_tag=\"group\")\n",
    "comparison = grp.compare(method=\"jaccard\")"
   ]
  },
  {
   "cell_type": "code",
   "execution_count": 32,
   "id": "0d5cf764",
   "metadata": {
    "collapsed": false,
    "jupyter": {
     "outputs_hidden": false
    },
    "pycharm": {
     "name": "#%%\n"
    }
   },
   "outputs": [
    {
     "data": {
      "image/png": "[encoded data removed]",
      "text/plain": [
       "<Figure size 216x216 with 4 Axes>"
      ]
     },
     "metadata": {},
     "output_type": "display_data"
    }
   ],
   "source": [
    "# visualization\n",
    "\n",
    "comparison.plot()"
   ]
  },
  {
   "cell_type": "code",
   "execution_count": 33,
   "id": "bdf08487",
   "metadata": {},
   "outputs": [
    {
     "data": {
      "text/plain": [
       "          G1        G2        G3\n",
       "G1  1.000000  0.957237  0.924342\n",
       "G2  0.957237  1.000000  0.953795\n",
       "G3  0.924342  0.953795  1.000000"
      ]
     },
     "execution_count": 33,
     "metadata": {},
     "output_type": "execute_result"
    }
   ],
   "source": [
    "# data frame showing the jaccard values\n",
    "comparison"
   ]
  },
  {
   "cell_type": "code",
   "execution_count": 34,
   "id": "700c5650-daf9-4fbd-8460-244fe74ad4fd",
   "metadata": {},
   "outputs": [],
   "source": [
    "comparison = grp.compare(method=\"jaccard\", group_by=None)"
   ]
  },
  {
   "cell_type": "code",
   "execution_count": 36,
   "id": "e788e4fe-5418-4ac0-aa45-ffa00dba2ba7",
   "metadata": {},
   "outputs": [
    {
     "data": {
      "image/png": "[encoded data removed]",
      "text/plain": [
       "<Figure size 648x648 with 4 Axes>"
      ]
     },
     "metadata": {},
     "output_type": "display_data"
    }
   ],
   "source": [
    "comparison.plot(annot=True)"
   ]
  },
  {
   "cell_type": "code",
   "execution_count": 41,
   "id": "055a58ed",
   "metadata": {},
   "outputs": [],
   "source": [
    "comparison = grp.compare(method=\"PCA\", group_by=None, n_components=3)"
   ]
  },
  {
   "cell_type": "code",
   "execution_count": 42,
   "id": "c2609efd",
   "metadata": {
    "tags": []
   },
   "outputs": [
    {
     "name": "stdout",
     "output_type": "stream",
     "text": [
      "saving  PCA.png\n"
     ]
    },
    {
     "data": {
      "image/png": "[encoded data removed]",
      "text/plain": [
       "<Figure size 792x576 with 1 Axes>"
      ]
     },
     "metadata": {},
     "output_type": "display_data"
    },
    {
     "data": {
      "image/png": "[encoded data removed]",
      "text/plain": [
       "<Figure size 504x504 with 1 Axes>"
      ]
     },
     "metadata": {},
     "output_type": "display_data"
    }
   ],
   "source": [
    "comparison.plot(file_name=\"PCA.png\", prefix=\"\")"
   ]
  },
  {
   "cell_type": "code",
   "execution_count": 43,
   "id": "e97ecec1",
   "metadata": {},
   "outputs": [],
   "source": [
    "comparison = grp.compare(group_by=\"group_name\", method=\"num\")"
   ]
  },
  {
   "cell_type": "code",
   "execution_count": 46,
   "id": "b96b29b0",
   "metadata": {},
   "outputs": [
    {
     "data": {
      "image/png": "[encoded data removed]",
      "text/plain": [
       "<Figure size 864x504 with 3 Axes>"
      ]
     },
     "metadata": {},
     "output_type": "display_data"
    }
   ],
   "source": [
    "comparison.plot(name_order=\"default\")"
   ]
  },
  {
   "cell_type": "code",
   "execution_count": null,
   "id": "15079f1b",
   "metadata": {},
   "outputs": [],
   "source": []
  }
 ],
 "metadata": {
  "kernelspec": {
   "display_name": "Python 3 (ipykernel)",
   "language": "python",
   "name": "python3"
  },
  "language_info": {
   "codemirror_mode": {
    "name": "ipython",
    "version": 3
   },
   "file_extension": ".py",
   "mimetype": "text/x-python",
   "name": "python",
   "nbconvert_exporter": "python",
   "pygments_lexer": "ipython3",
   "version": "3.10.10"
  }
 },
 "nbformat": 4,
 "nbformat_minor": 5
}
