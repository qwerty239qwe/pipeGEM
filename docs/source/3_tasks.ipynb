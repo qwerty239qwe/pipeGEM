{
 "cells": [
  {
   "cell_type": "markdown",
   "id": "a1954c12",
   "metadata": {},
   "source": [
    "# 3. Metabolic task"
   ]
  },
  {
   "cell_type": "markdown",
   "id": "2f519af0",
   "metadata": {},
   "source": [
    "A Metabolc task were first defined in Thiele and coworkers (2013):\n",
    "\n",
    "*“metabolic task as a nonzero flux through a reaction or through a pathway leading to the production of a metabolite B from a metabolite A. The metabolic capacity of the network was demonstrated by testing nonzero flux values for these metabolic tasks. For each of the simulations, a steady-state flux distribution was calculated. Each metabolic task was optimized individually by choosing the corresponding reaction in the model, if present, as objective function and maximized the flux through the reaction”.*\n",
    "\n",
    "It was then be emphasized in this research:\n",
    "https://journals.plos.org/ploscompbiol/article?id=10.1371/journal.pcbi.1006867\n"
   ]
  },
  {
   "cell_type": "code",
   "execution_count": 1,
   "id": "cbb212e4",
   "metadata": {},
   "outputs": [],
   "source": [
    "import sys\n",
    "from pathlib import Path\n",
    "sys.path.append(str(Path(\"../../\").resolve()))\n",
    "\n",
    "%load_ext autoreload\n",
    "%autoreload 2"
   ]
  },
  {
   "cell_type": "code",
   "execution_count": 3,
   "id": "56623091",
   "metadata": {},
   "outputs": [],
   "source": [
    "import copy\n",
    "import numpy as np\n",
    "import seaborn as sns\n",
    "import pipeGEM as pg\n",
    "\n",
    "from pipeGEM.analysis.tasks import TaskContainer, TASKS_FILE_PATH\n",
    "from pipeGEM.data.synthesis import get_syn_gene_data\n"
   ]
  },
  {
   "cell_type": "markdown",
   "id": "05353009",
   "metadata": {},
   "source": [
    "## Load existing task file"
   ]
  },
  {
   "cell_type": "code",
   "execution_count": 21,
   "id": "a34591ed",
   "metadata": {},
   "outputs": [],
   "source": [
    "tasks = TaskContainer.load(TASKS_FILE_PATH)"
   ]
  },
  {
   "cell_type": "code",
   "execution_count": 5,
   "id": "bc258178",
   "metadata": {
    "collapsed": true,
    "jupyter": {
     "outputs_hidden": true
    },
    "tags": []
   },
   "outputs": [
    {
     "name": "stdout",
     "output_type": "stream",
     "text": [
      "Task ID: 1.0 \n",
      " system : ENERGY METABOLISM\n",
      "subsystem : OXYDATIVE PHOSPHORYLATION\n",
      "description : Oxidative phosphorylation via NADH-coenzyme Q oxidoreductase (COMPLEX I)\n",
      "should fail : False\n",
      "----- input metabolites -----\n",
      "\n",
      "---------------------------------------\n",
      "|     Met ID|      LB|      UB|   comp|\n",
      "---------------------------------------\n",
      "|   MAM03103|   1.000|   1.000|      m|\n",
      "|   MAM02553|   1.000|   1.000|      m|\n",
      "|   MAM02039|   5.000|   5.000|      m|\n",
      "---------------------------------------\n",
      "\n",
      "----- output metabolites -----\n",
      "\n",
      "---------------------------------------\n",
      "|     Met ID|      LB|      UB|   comp|\n",
      "---------------------------------------\n",
      "|   MAM03102|   1.000|   1.000|      m|\n",
      "|   MAM02552|   1.000|   1.000|      m|\n",
      "|   MAM02039|   4.000|   4.000|      i|\n",
      "---------------------------------------\n",
      "\n",
      "Task ID: 2.0 \n",
      " system : ENERGY METABOLISM\n",
      "subsystem : OXYDATIVE PHOSPHORYLATION\n",
      "description : Oxidative phosphorylation via succinate-coenzyme Q oxidoreductase (COMPLEX II)\n",
      "should fail : False\n",
      "----- input metabolites -----\n",
      "\n",
      "---------------------------------------\n",
      "|     Met ID|      LB|      UB|   comp|\n",
      "---------------------------------------\n",
      "|   MAM02943|   1.000|   1.000|      m|\n",
      "|   MAM01802|   1.000|   1.000|      m|\n",
      "---------------------------------------\n",
      "\n",
      "----- output metabolites -----\n",
      "\n",
      "---------------------------------------\n",
      "|     Met ID|      LB|      UB|   comp|\n",
      "---------------------------------------\n",
      "|   MAM01862|   1.000|   1.000|      m|\n",
      "|   MAM01803|   1.000|   1.000|      m|\n",
      "---------------------------------------\n",
      "\n",
      "Task ID: 3.0 \n",
      " system : ENERGY METABOLISM\n",
      "subsystem : KREBS CYCLE\n",
      "description : Krebs cycle - oxidative decarboxylation of pyruvate\n",
      "should fail : False\n",
      "----- input metabolites -----\n",
      "\n",
      "---------------------------------------\n",
      "|     Met ID|      LB|      UB|   comp|\n",
      "---------------------------------------\n",
      "|   MAM02819|   1.000|   1.000|      m|\n",
      "|   MAM02552|   1.000|   1.000|      m|\n",
      "|   MAM01597|   1.000|   1.000|      m|\n",
      "---------------------------------------\n",
      "\n",
      "----- output metabolites -----\n",
      "\n",
      "---------------------------------------\n",
      "|     Met ID|      LB|      UB|   comp|\n",
      "---------------------------------------\n",
      "|   MAM01261|   1.000|   1.000|      m|\n",
      "|   MAM02553|   1.000|   1.000|      m|\n",
      "|   MAM01596|   1.000|   1.000|      m|\n",
      "---------------------------------------\n",
      "\n"
     ]
    }
   ],
   "source": [
    "for i, (task_id, task) in enumerate(tasks.items()):\n",
    "    if i == 3:\n",
    "        break\n",
    "    print(f\"Task ID: {task_id}\", '\\n', task)"
   ]
  },
  {
   "cell_type": "markdown",
   "id": "53795296",
   "metadata": {},
   "source": [
    "## Manipulating a task"
   ]
  },
  {
   "cell_type": "code",
   "execution_count": 7,
   "id": "d491a73f",
   "metadata": {
    "collapsed": true,
    "jupyter": {
     "outputs_hidden": true
    }
   },
   "outputs": [
    {
     "name": "stdout",
     "output_type": "stream",
     "text": [
      "system : ENERGY METABOLISM\n",
      "subsystem : OXYDATIVE PHOSPHORYLATION\n",
      "description : Oxidative phosphorylation via NADH-coenzyme Q oxidoreductase (COMPLEX I)\n",
      "should fail : False\n",
      "----- input metabolites -----\n",
      "\n",
      "---------------------------------------\n",
      "|     Met ID|      LB|      UB|   comp|\n",
      "---------------------------------------\n",
      "|   MAM03103|   1.000|   1.000|      m|\n",
      "|   MAM02553|   1.000|   1.000|      m|\n",
      "|   MAM02039|   5.000|   5.000|      m|\n",
      "---------------------------------------\n",
      "\n",
      "----- output metabolites -----\n",
      "\n",
      "---------------------------------------\n",
      "|     Met ID|      LB|      UB|   comp|\n",
      "---------------------------------------\n",
      "|   MAM03102|   1.000|   1.000|      m|\n",
      "|   MAM02552|   1.000|   1.000|      m|\n",
      "|   MAM02039|   4.000|   4.000|      i|\n",
      "---------------------------------------\n",
      "\n"
     ]
    }
   ],
   "source": [
    "print(tasks[\"1.0\"])"
   ]
  },
  {
   "cell_type": "code",
   "execution_count": 31,
   "id": "809905ab",
   "metadata": {},
   "outputs": [],
   "source": [
    "new_task = copy.deepcopy(tasks[\"1\"])"
   ]
  },
  {
   "cell_type": "code",
   "execution_count": 33,
   "id": "dc51f0da",
   "metadata": {},
   "outputs": [
    {
     "data": {
      "text/plain": [
       "([{'met_id': 'q10', 'lb': 1.0, 'ub': 1.0, 'compartment': 'm'},\n",
       "  {'met_id': 'nadh', 'lb': 1.0, 'ub': 1.0, 'compartment': 'm'},\n",
       "  {'met_id': 'h', 'lb': 5.0, 'ub': 5.0, 'compartment': 'm'}],\n",
       " [{'met_id': 'q10h2', 'lb': 1.0, 'ub': 1.0, 'compartment': 'm'},\n",
       "  {'met_id': 'nad', 'lb': 1.0, 'ub': 1.0, 'compartment': 'm'},\n",
       "  {'met_id': 'h', 'lb': 4.0, 'ub': 4.0, 'compartment': 'c'}])"
      ]
     },
     "execution_count": 33,
     "metadata": {},
     "output_type": "execute_result"
    }
   ],
   "source": [
    "new_task.in_mets, new_task.out_mets"
   ]
  },
  {
   "cell_type": "code",
   "execution_count": 34,
   "id": "e042dd42",
   "metadata": {},
   "outputs": [
    {
     "name": "stdout",
     "output_type": "stream",
     "text": [
      "system : ENERGY METABOLISM\n",
      "subsystem : OXYDATIVE PHOSPHORYLATION\n",
      "description : Oxidative phosphorylation via NADH-coenzyme Q oxidoreductase (COMPLEX I)\n",
      "should fail : False\n",
      "----- input metabolites -----\n",
      "\n",
      "--------------------------------------\n",
      "|   Met ID|      LB|       UB|   comp|\n",
      "--------------------------------------\n",
      "|      q10|   1.000|    1.000|      m|\n",
      "|     nadh|   1.000|    1.000|      m|\n",
      "|        h|   5.000|    5.000|      m|\n",
      "|    glc_D|   0.000|   10.000|      c|\n",
      "--------------------------------------\n",
      "\n",
      "----- output metabolites -----\n",
      "\n",
      "--------------------------------------\n",
      "|   Met ID|      LB|       UB|   comp|\n",
      "--------------------------------------\n",
      "|    q10h2|   1.000|    1.000|      m|\n",
      "|      nad|   1.000|    1.000|      m|\n",
      "|        h|   4.000|    4.000|      c|\n",
      "|      co2|   0.000|   10.000|      c|\n",
      "--------------------------------------\n",
      "\n"
     ]
    }
   ],
   "source": [
    "new_task.in_mets.append({\"met_id\": 'glc_D', 'lb': 0, 'ub': 10, 'compartment': 'c'})\n",
    "new_task.out_mets.append({\"met_id\": 'co2', 'lb': 0, 'ub': 10, 'compartment': 'c'})\n",
    "print(new_task)"
   ]
  },
  {
   "cell_type": "code",
   "execution_count": 35,
   "id": "4b6701f5",
   "metadata": {},
   "outputs": [],
   "source": [
    "# add to a task container\n",
    "new_tasks = TaskContainer()\n",
    "new_tasks[\"1\"] = new_task\n",
    "\n",
    "# you can use it to do the following task testing"
   ]
  },
  {
   "cell_type": "markdown",
   "id": "639f9338",
   "metadata": {},
   "source": [
    "## Test the loaded tasks"
   ]
  },
  {
   "cell_type": "code",
   "execution_count": 14,
   "id": "e8e05550",
   "metadata": {},
   "outputs": [],
   "source": [
    "from pipeGEM.data.fetching import load_remote_model\n",
    "from pipeGEM.data import GeneData"
   ]
  },
  {
   "cell_type": "code",
   "execution_count": 19,
   "id": "ed666106",
   "metadata": {},
   "outputs": [
    {
     "name": "stdout",
     "output_type": "stream",
     "text": [
      "Model Human-GEM is already downloaded\n"
     ]
    }
   ],
   "source": [
    "human1 = pg.Model(\"human\", load_remote_model(\"Human-GEM\"))"
   ]
  },
  {
   "cell_type": "code",
   "execution_count": 22,
   "id": "6559d2f7",
   "metadata": {},
   "outputs": [],
   "source": [
    "human1.add_tasks(\"general\",  # the name of your task\n",
    "                 tasks)  # TaskContainer containing the tasks"
   ]
  },
  {
   "cell_type": "code",
   "execution_count": 11,
   "id": "a240f081",
   "metadata": {},
   "outputs": [],
   "source": [
    "data = np.log2(get_syn_gene_data(human1, n_sample=3) + 1)"
   ]
  },
  {
   "cell_type": "code",
   "execution_count": 12,
   "id": "7b66c06c",
   "metadata": {},
   "outputs": [
    {
     "data": {
      "text/plain": [
       "<seaborn.axisgrid.FacetGrid at 0x2a05ce34130>"
      ]
     },
     "execution_count": 12,
     "metadata": {},
     "output_type": "execute_result"
    },
    {
     "data": {
      "image/png": "[encoded data removed]",
      "text/plain": [
       "<Figure size 360x360 with 1 Axes>"
      ]
     },
     "metadata": {
      "needs_background": "light"
     },
     "output_type": "display_data"
    }
   ],
   "source": [
    "sns.displot(data[\"sample_0\"])"
   ]
  },
  {
   "cell_type": "code",
   "execution_count": 13,
   "id": "83473eda",
   "metadata": {},
   "outputs": [
    {
     "data": {
      "text/html": [
       "<div>\n",
       "<style scoped>\n",
       "    .dataframe tbody tr th:only-of-type {\n",
       "        vertical-align: middle;\n",
       "    }\n",
       "\n",
       "    .dataframe tbody tr th {\n",
       "        vertical-align: top;\n",
       "    }\n",
       "\n",
       "    .dataframe thead th {\n",
       "        text-align: right;\n",
       "    }\n",
       "</style>\n",
       "<table border=\"1\" class=\"dataframe\">\n",
       "  <thead>\n",
       "    <tr style=\"text-align: right;\">\n",
       "      <th></th>\n",
       "      <th>sample_0</th>\n",
       "      <th>sample_1</th>\n",
       "      <th>sample_2</th>\n",
       "    </tr>\n",
       "  </thead>\n",
       "  <tbody>\n",
       "    <tr>\n",
       "      <th>ENSG00000197894</th>\n",
       "      <td>11.977280</td>\n",
       "      <td>12.027906</td>\n",
       "      <td>12.032046</td>\n",
       "    </tr>\n",
       "    <tr>\n",
       "      <th>ENSG00000196616</th>\n",
       "      <td>12.031012</td>\n",
       "      <td>11.959640</td>\n",
       "      <td>11.983350</td>\n",
       "    </tr>\n",
       "    <tr>\n",
       "      <th>ENSG00000180011</th>\n",
       "      <td>12.001056</td>\n",
       "      <td>12.000000</td>\n",
       "      <td>11.999295</td>\n",
       "    </tr>\n",
       "    <tr>\n",
       "      <th>ENSG00000147576</th>\n",
       "      <td>12.038919</td>\n",
       "      <td>11.969027</td>\n",
       "      <td>12.036174</td>\n",
       "    </tr>\n",
       "    <tr>\n",
       "      <th>ENSG00000198099</th>\n",
       "      <td>11.997532</td>\n",
       "      <td>11.993646</td>\n",
       "      <td>12.002112</td>\n",
       "    </tr>\n",
       "  </tbody>\n",
       "</table>\n",
       "</div>"
      ],
      "text/plain": [
       "                  sample_0   sample_1   sample_2\n",
       "ENSG00000197894  11.977280  12.027906  12.032046\n",
       "ENSG00000196616  12.031012  11.959640  11.983350\n",
       "ENSG00000180011  12.001056  12.000000  11.999295\n",
       "ENSG00000147576  12.038919  11.969027  12.036174\n",
       "ENSG00000198099  11.997532  11.993646  12.002112"
      ]
     },
     "execution_count": 13,
     "metadata": {},
     "output_type": "execute_result"
    }
   ],
   "source": [
    "data.head()"
   ]
  },
  {
   "cell_type": "code",
   "execution_count": 23,
   "id": "2a1260d3",
   "metadata": {},
   "outputs": [],
   "source": [
    "gene_data = GeneData(data=data[\"sample_0\"], \n",
    "                     data_transform=lambda x: np.log2(x), \n",
    "                     absent_expression=0)\n",
    "p90_threshold = gene_data.get_threshold(\"percentile\", p=90)\n",
    "\n",
    "human1.add_tasks(\"general\", tasks)\n",
    "human1.add_gene_data(\"sample_0\", gene_data)"
   ]
  },
  {
   "cell_type": "code",
   "execution_count": 24,
   "id": "e83c9491",
   "metadata": {
    "collapsed": true,
    "jupyter": {
     "outputs_hidden": true
    },
    "tags": []
   },
   "outputs": [
    {
     "name": "stdout",
     "output_type": "stream",
     "text": [
      "Task 61.0 cannot support tasks' metabolites\n",
      "Task 64.0 cannot support tasks' metabolites\n",
      "Task 70.0 cannot support tasks' metabolites\n",
      "Task 72.0 cannot support tasks' metabolites\n",
      "Task 77.0 cannot support tasks' metabolites\n",
      "Task 90.0 cannot support tasks' metabolites\n",
      "Task 119.0 cannot support tasks' metabolites\n",
      "Task 164.0 cannot support tasks' metabolites\n",
      "Task 169.0 cannot support tasks' metabolites\n",
      "Task 172.0 cannot support tasks' metabolites\n",
      "Task 174.0 cannot support tasks' metabolites\n",
      "Task 181.0 cannot support tasks' metabolites\n",
      "Task 194.0 cannot support tasks' metabolites\n",
      "score of the model: 182 / 195\n"
     ]
    },
    {
     "name": "stderr",
     "output_type": "stream",
     "text": [
      "C:\\Users\\qwert\\PycharmProjects\\pipeGEM\\pipeGEM\\analysis\\results\\task.py:85: FutureWarning: iteritems is deprecated and will be removed in a future version. Use .items instead.\n",
      "  self._task_support_rxns = dict(self._result_df[\"task_support_rxns\"].iteritems())\n",
      "C:\\Users\\qwert\\PycharmProjects\\pipeGEM\\pipeGEM\\analysis\\results\\task.py:86: FutureWarning: iteritems is deprecated and will be removed in a future version. Use .items instead.\n",
      "  self._task_support_rxn_fluxes = dict(self._result_df[\"task_support_rxn_fluxes\"].iteritems())\n",
      "C:\\Users\\qwert\\PycharmProjects\\pipeGEM\\pipeGEM\\analysis\\results\\task.py:87: FutureWarning: iteritems is deprecated and will be removed in a future version. Use .items instead.\n",
      "  self._rxn_supps = dict(self._result_df[\"rxn_supps\"].iteritems())\n"
     ]
    }
   ],
   "source": [
    "task_analysis_result = human1.test_tasks(\"general\", \n",
    "                                         model_compartment_parenthesis=\"{}\")"
   ]
  },
  {
   "cell_type": "code",
   "execution_count": 26,
   "id": "24d5dffd",
   "metadata": {
    "tags": []
   },
   "outputs": [
    {
     "data": {
      "text/html": [
       "<div>\n",
       "<style scoped>\n",
       "    .dataframe tbody tr th:only-of-type {\n",
       "        vertical-align: middle;\n",
       "    }\n",
       "\n",
       "    .dataframe tbody tr th {\n",
       "        vertical-align: top;\n",
       "    }\n",
       "\n",
       "    .dataframe thead th {\n",
       "        text-align: right;\n",
       "    }\n",
       "</style>\n",
       "<table border=\"1\" class=\"dataframe\">\n",
       "  <thead>\n",
       "    <tr style=\"text-align: right;\">\n",
       "      <th></th>\n",
       "      <th>Passed</th>\n",
       "      <th>Should fail</th>\n",
       "      <th>Missing mets</th>\n",
       "      <th>Status</th>\n",
       "      <th>Obj_value</th>\n",
       "      <th>Obj_rxns</th>\n",
       "      <th>task_support_rxns</th>\n",
       "      <th>task_support_rxn_fluxes</th>\n",
       "      <th>Sink Status</th>\n",
       "      <th>rxn_supps</th>\n",
       "    </tr>\n",
       "  </thead>\n",
       "  <tbody>\n",
       "    <tr>\n",
       "      <th>1.0</th>\n",
       "      <td>True</td>\n",
       "      <td>False</td>\n",
       "      <td>False</td>\n",
       "      <td>optimal</td>\n",
       "      <td>6.0</td>\n",
       "      <td>[output_MAM03102m: MAM03102m --&gt; , output_MAM0...</td>\n",
       "      <td>[MAR06921]</td>\n",
       "      <td>{'MAR06921': 1.0}</td>\n",
       "      <td>optimal</td>\n",
       "      <td>[MAR03854, MAR04143, MAR08506, MAR08508, MAR04...</td>\n",
       "    </tr>\n",
       "    <tr>\n",
       "      <th>2.0</th>\n",
       "      <td>True</td>\n",
       "      <td>False</td>\n",
       "      <td>False</td>\n",
       "      <td>optimal</td>\n",
       "      <td>2.0</td>\n",
       "      <td>[output_MAM01862m: MAM01862m --&gt; , output_MAM0...</td>\n",
       "      <td>[MAR08743]</td>\n",
       "      <td>{'MAR08743': -1.0}</td>\n",
       "      <td>optimal</td>\n",
       "      <td>[MAR04652, MAR08743, MAR06911]</td>\n",
       "    </tr>\n",
       "    <tr>\n",
       "      <th>3.0</th>\n",
       "      <td>True</td>\n",
       "      <td>False</td>\n",
       "      <td>False</td>\n",
       "      <td>optimal</td>\n",
       "      <td>3.0</td>\n",
       "      <td>[output_MAM01261m: MAM01261m --&gt; , output_MAM0...</td>\n",
       "      <td>[MAR04137]</td>\n",
       "      <td>{'MAR04137': 1.0}</td>\n",
       "      <td>optimal</td>\n",
       "      <td>[MAR04137, MAR08514, MAR04280, MAR04461, MAR03...</td>\n",
       "    </tr>\n",
       "    <tr>\n",
       "      <th>4.0</th>\n",
       "      <td>True</td>\n",
       "      <td>False</td>\n",
       "      <td>False</td>\n",
       "      <td>optimal</td>\n",
       "      <td>10.0</td>\n",
       "      <td>[output_MAM01597m: MAM01597m --&gt; , output_MAM0...</td>\n",
       "      <td>[MAR03957, MAR04141, MAR04145, MAR04147, MAR04...</td>\n",
       "      <td>{'MAR03957': 1.0, 'MAR04141': -1.0, 'MAR04145'...</td>\n",
       "      <td>optimal</td>\n",
       "      <td>[MAR04280, MAR05351, MAR04018, MAR07801, MAR03...</td>\n",
       "    </tr>\n",
       "    <tr>\n",
       "      <th>5.0</th>\n",
       "      <td>True</td>\n",
       "      <td>False</td>\n",
       "      <td>False</td>\n",
       "      <td>optimal</td>\n",
       "      <td>72.0</td>\n",
       "      <td>[output_MAM01371c: MAM01371c --&gt; , output_MAM0...</td>\n",
       "      <td>[MAR04137, MAR04388, MAR04301, MAR04358, MAR04...</td>\n",
       "      <td>{'MAR04137': 2.0000000000000004, 'MAR04388': 2...</td>\n",
       "      <td>optimal</td>\n",
       "      <td>[MAR04137, MAR04388, MAR04301, MAR04358, MAR04...</td>\n",
       "    </tr>\n",
       "    <tr>\n",
       "      <th>...</th>\n",
       "      <td>...</td>\n",
       "      <td>...</td>\n",
       "      <td>...</td>\n",
       "      <td>...</td>\n",
       "      <td>...</td>\n",
       "      <td>...</td>\n",
       "      <td>...</td>\n",
       "      <td>...</td>\n",
       "      <td>...</td>\n",
       "      <td>...</td>\n",
       "    </tr>\n",
       "    <tr>\n",
       "      <th>191.0</th>\n",
       "      <td>True</td>\n",
       "      <td>False</td>\n",
       "      <td>False</td>\n",
       "      <td>optimal</td>\n",
       "      <td>3.0</td>\n",
       "      <td>[output_MAM03000g: MAM03000g --&gt; , output_MAM0...</td>\n",
       "      <td>[MAR01353]</td>\n",
       "      <td>{'MAR01353': 1.0}</td>\n",
       "      <td>optimal</td>\n",
       "      <td>[MAR04363, MAR04365, MAR04368, MAR04373, MAR04...</td>\n",
       "    </tr>\n",
       "    <tr>\n",
       "      <th>192.0</th>\n",
       "      <td>True</td>\n",
       "      <td>False</td>\n",
       "      <td>False</td>\n",
       "      <td>optimal</td>\n",
       "      <td>23.0</td>\n",
       "      <td>[output_MAM02288g: MAM02288g --&gt; , output_MAM0...</td>\n",
       "      <td>[MAR07442, MAR07443, MAR07444, MAR07445, MAR07...</td>\n",
       "      <td>{'MAR07442': 1.0, 'MAR07443': 1.0, 'MAR07444':...</td>\n",
       "      <td>optimal</td>\n",
       "      <td>[MAR04388, MAR04355, MAR04363, MAR04365, MAR04...</td>\n",
       "    </tr>\n",
       "    <tr>\n",
       "      <th>193.0</th>\n",
       "      <td>True</td>\n",
       "      <td>False</td>\n",
       "      <td>False</td>\n",
       "      <td>optimal</td>\n",
       "      <td>25.0</td>\n",
       "      <td>[output_MAM02303g: MAM02303g --&gt; , output_MAM0...</td>\n",
       "      <td>[MAR07471, MAR07472, MAR07473, MAR07474, MAR07...</td>\n",
       "      <td>{'MAR07471': 1.0, 'MAR07472': 1.0, 'MAR07473':...</td>\n",
       "      <td>optimal</td>\n",
       "      <td>[MAR04388, MAR04355, MAR04363, MAR04365, MAR04...</td>\n",
       "    </tr>\n",
       "    <tr>\n",
       "      <th>194.0</th>\n",
       "      <td>False</td>\n",
       "      <td>False</td>\n",
       "      <td>False</td>\n",
       "      <td>optimal</td>\n",
       "      <td>57.0</td>\n",
       "      <td>[output_MAM00141l: MAM00141l --&gt; , output_MAM0...</td>\n",
       "      <td>[MAR04379, MAR04358, MAR04360, MAR04363, MAR04...</td>\n",
       "      <td>{'MAR04379': 7.5, 'MAR04358': 11.25, 'MAR04360...</td>\n",
       "      <td>support rxns infeasible</td>\n",
       "      <td>NaN</td>\n",
       "    </tr>\n",
       "    <tr>\n",
       "      <th>195.0</th>\n",
       "      <td>True</td>\n",
       "      <td>False</td>\n",
       "      <td>False</td>\n",
       "      <td>optimal</td>\n",
       "      <td>75.0</td>\n",
       "      <td>[output_MAM02278g: MAM02278g --&gt; , output_MAM0...</td>\n",
       "      <td>[MAR07335, MAR07336, MAR07337, MAR07338, MAR07...</td>\n",
       "      <td>{'MAR07335': 1.0, 'MAR07336': 1.0, 'MAR07337':...</td>\n",
       "      <td>optimal</td>\n",
       "      <td>[MAR04388, MAR04355, MAR04363, MAR04365, MAR04...</td>\n",
       "    </tr>\n",
       "  </tbody>\n",
       "</table>\n",
       "<p>195 rows × 10 columns</p>\n",
       "</div>"
      ],
      "text/plain": [
       "      Passed Should fail Missing mets   Status Obj_value  \\\n",
       "1.0     True       False        False  optimal       6.0   \n",
       "2.0     True       False        False  optimal       2.0   \n",
       "3.0     True       False        False  optimal       3.0   \n",
       "4.0     True       False        False  optimal      10.0   \n",
       "5.0     True       False        False  optimal      72.0   \n",
       "...      ...         ...          ...      ...       ...   \n",
       "191.0   True       False        False  optimal       3.0   \n",
       "192.0   True       False        False  optimal      23.0   \n",
       "193.0   True       False        False  optimal      25.0   \n",
       "194.0  False       False        False  optimal      57.0   \n",
       "195.0   True       False        False  optimal      75.0   \n",
       "\n",
       "                                                Obj_rxns  \\\n",
       "1.0    [output_MAM03102m: MAM03102m --> , output_MAM0...   \n",
       "2.0    [output_MAM01862m: MAM01862m --> , output_MAM0...   \n",
       "3.0    [output_MAM01261m: MAM01261m --> , output_MAM0...   \n",
       "4.0    [output_MAM01597m: MAM01597m --> , output_MAM0...   \n",
       "5.0    [output_MAM01371c: MAM01371c --> , output_MAM0...   \n",
       "...                                                  ...   \n",
       "191.0  [output_MAM03000g: MAM03000g --> , output_MAM0...   \n",
       "192.0  [output_MAM02288g: MAM02288g --> , output_MAM0...   \n",
       "193.0  [output_MAM02303g: MAM02303g --> , output_MAM0...   \n",
       "194.0  [output_MAM00141l: MAM00141l --> , output_MAM0...   \n",
       "195.0  [output_MAM02278g: MAM02278g --> , output_MAM0...   \n",
       "\n",
       "                                       task_support_rxns  \\\n",
       "1.0                                           [MAR06921]   \n",
       "2.0                                           [MAR08743]   \n",
       "3.0                                           [MAR04137]   \n",
       "4.0    [MAR03957, MAR04141, MAR04145, MAR04147, MAR04...   \n",
       "5.0    [MAR04137, MAR04388, MAR04301, MAR04358, MAR04...   \n",
       "...                                                  ...   \n",
       "191.0                                         [MAR01353]   \n",
       "192.0  [MAR07442, MAR07443, MAR07444, MAR07445, MAR07...   \n",
       "193.0  [MAR07471, MAR07472, MAR07473, MAR07474, MAR07...   \n",
       "194.0  [MAR04379, MAR04358, MAR04360, MAR04363, MAR04...   \n",
       "195.0  [MAR07335, MAR07336, MAR07337, MAR07338, MAR07...   \n",
       "\n",
       "                                 task_support_rxn_fluxes  \\\n",
       "1.0                                    {'MAR06921': 1.0}   \n",
       "2.0                                   {'MAR08743': -1.0}   \n",
       "3.0                                    {'MAR04137': 1.0}   \n",
       "4.0    {'MAR03957': 1.0, 'MAR04141': -1.0, 'MAR04145'...   \n",
       "5.0    {'MAR04137': 2.0000000000000004, 'MAR04388': 2...   \n",
       "...                                                  ...   \n",
       "191.0                                  {'MAR01353': 1.0}   \n",
       "192.0  {'MAR07442': 1.0, 'MAR07443': 1.0, 'MAR07444':...   \n",
       "193.0  {'MAR07471': 1.0, 'MAR07472': 1.0, 'MAR07473':...   \n",
       "194.0  {'MAR04379': 7.5, 'MAR04358': 11.25, 'MAR04360...   \n",
       "195.0  {'MAR07335': 1.0, 'MAR07336': 1.0, 'MAR07337':...   \n",
       "\n",
       "                   Sink Status  \\\n",
       "1.0                    optimal   \n",
       "2.0                    optimal   \n",
       "3.0                    optimal   \n",
       "4.0                    optimal   \n",
       "5.0                    optimal   \n",
       "...                        ...   \n",
       "191.0                  optimal   \n",
       "192.0                  optimal   \n",
       "193.0                  optimal   \n",
       "194.0  support rxns infeasible   \n",
       "195.0                  optimal   \n",
       "\n",
       "                                               rxn_supps  \n",
       "1.0    [MAR03854, MAR04143, MAR08506, MAR08508, MAR04...  \n",
       "2.0                       [MAR04652, MAR08743, MAR06911]  \n",
       "3.0    [MAR04137, MAR08514, MAR04280, MAR04461, MAR03...  \n",
       "4.0    [MAR04280, MAR05351, MAR04018, MAR07801, MAR03...  \n",
       "5.0    [MAR04137, MAR04388, MAR04301, MAR04358, MAR04...  \n",
       "...                                                  ...  \n",
       "191.0  [MAR04363, MAR04365, MAR04368, MAR04373, MAR04...  \n",
       "192.0  [MAR04388, MAR04355, MAR04363, MAR04365, MAR04...  \n",
       "193.0  [MAR04388, MAR04355, MAR04363, MAR04365, MAR04...  \n",
       "194.0                                                NaN  \n",
       "195.0  [MAR04388, MAR04355, MAR04363, MAR04365, MAR04...  \n",
       "\n",
       "[195 rows x 10 columns]"
      ]
     },
     "execution_count": 26,
     "metadata": {},
     "output_type": "execute_result"
    }
   ],
   "source": [
    "task_analysis_result.result_df"
   ]
  },
  {
   "cell_type": "code",
   "execution_count": 27,
   "id": "6fdc659c",
   "metadata": {},
   "outputs": [],
   "source": [
    "# saving the result as a json file\n",
    "task_analysis_result.save(\"./task_result.json\")"
   ]
  },
  {
   "cell_type": "markdown",
   "id": "5090f2ad",
   "metadata": {},
   "source": [
    "## Get activated tasks and supported reactions"
   ]
  },
  {
   "cell_type": "code",
   "execution_count": 33,
   "id": "3164e7a4",
   "metadata": {},
   "outputs": [],
   "source": [
    "activated_tasks = human1.get_activated_tasks(\"sample_0\", task_analysis_result, score_threshold=p90_threshold.exp_th)\n",
    "activated_task_sup_rxns = human1.get_activated_task_sup_rxns(\"sample_0\", task_analysis_result, score_threshold=p90_threshold.exp_th)"
   ]
  },
  {
   "cell_type": "code",
   "execution_count": 37,
   "id": "f8cdee82",
   "metadata": {},
   "outputs": [
    {
     "data": {
      "text/plain": [
       "['7.0', '22.0', '31.0', '39.0', '46.0', '57.0', '58.0', '60.0', '63.0', '79.0']"
      ]
     },
     "execution_count": 37,
     "metadata": {},
     "output_type": "execute_result"
    }
   ],
   "source": [
    "activated_tasks[:10]"
   ]
  },
  {
   "cell_type": "code",
   "execution_count": 36,
   "id": "61365440",
   "metadata": {},
   "outputs": [
    {
     "data": {
      "text/plain": [
       "['MAR06052',\n",
       " 'MAR04295',\n",
       " 'MAR04629',\n",
       " 'MAR04832',\n",
       " 'MAR09272',\n",
       " 'MAR11385',\n",
       " 'MAR08950',\n",
       " 'MAR06510',\n",
       " 'MAR03780',\n",
       " 'MAR11147']"
      ]
     },
     "execution_count": 36,
     "metadata": {},
     "output_type": "execute_result"
    }
   ],
   "source": [
    "activated_task_sup_rxns[:10]"
   ]
  }
 ],
 "metadata": {
  "kernelspec": {
   "display_name": "Python 3 (ipykernel)",
   "language": "python",
   "name": "python3"
  },
  "language_info": {
   "codemirror_mode": {
    "name": "ipython",
    "version": 3
   },
   "file_extension": ".py",
   "mimetype": "text/x-python",
   "name": "python",
   "nbconvert_exporter": "python",
   "pygments_lexer": "ipython3",
   "version": "3.8.12"
  }
 },
 "nbformat": 4,
 "nbformat_minor": 5
}
