{
 "cells": [
  {
   "cell_type": "code",
   "execution_count": 1,
   "id": "ee391ecb-44a6-44b3-b193-9a6a3dbcb6ae",
   "metadata": {},
   "outputs": [],
   "source": [
    "import sys\n",
    "from pathlib import Path\n",
    "sys.path.append(str(Path(\"../../\").resolve()))\n",
    "\n",
    "%load_ext autoreload\n",
    "%autoreload 2"
   ]
  },
  {
   "cell_type": "code",
   "execution_count": 33,
   "id": "2a4d9bf6-1089-4b26-9050-c3fd934ccf7a",
   "metadata": {},
   "outputs": [],
   "source": [
    "import numpy as np\n",
    "import seaborn as sns"
   ]
  },
  {
   "cell_type": "code",
   "execution_count": 37,
   "id": "1df1b736-c7d4-4855-af17-b79fff0e58a2",
   "metadata": {},
   "outputs": [
    {
     "data": {
      "text/plain": [
       "<seaborn.axisgrid.FacetGrid at 0x2a9953e6340>"
      ]
     },
     "execution_count": 37,
     "metadata": {},
     "output_type": "execute_result"
    },
    {
     "data": {
      "image/png": "[encoded data removed]",
      "text/plain": [
       "<Figure size 360x360 with 1 Axes>"
      ]
     },
     "metadata": {
      "needs_background": "light"
     },
     "output_type": "display_data"
    }
   ],
   "source": [
    "rng = np.random.default_rng(0)\n",
    "sns.displot(np.ravel(np.log2(rng.negative_binomial(2000000, 0.99999, (1000, 100)) + 1)))"
   ]
  },
  {
   "cell_type": "code",
   "execution_count": 25,
   "id": "6076e2b3-5cae-48ad-9ec2-dd06cf817ff4",
   "metadata": {},
   "outputs": [
    {
     "data": {
      "text/plain": [
       "\u001b[1;31mDocstring:\u001b[0m\n",
       "negative_binomial(n, p, size=None)\n",
       "\n",
       "Draw samples from a negative binomial distribution.\n",
       "\n",
       "Samples are drawn from a negative binomial distribution with specified\n",
       "parameters, `n` successes and `p` probability of success where `n`\n",
       "is > 0 and `p` is in the interval (0, 1].\n",
       "\n",
       "Parameters\n",
       "----------\n",
       "n : float or array_like of floats\n",
       "    Parameter of the distribution, > 0.\n",
       "p : float or array_like of floats\n",
       "    Parameter of the distribution. Must satisfy 0 < p <= 1.\n",
       "size : int or tuple of ints, optional\n",
       "    Output shape.  If the given shape is, e.g., ``(m, n, k)``, then\n",
       "    ``m * n * k`` samples are drawn.  If size is ``None`` (default),\n",
       "    a single value is returned if ``n`` and ``p`` are both scalars.\n",
       "    Otherwise, ``np.broadcast(n, p).size`` samples are drawn.\n",
       "\n",
       "Returns\n",
       "-------\n",
       "out : ndarray or scalar\n",
       "    Drawn samples from the parameterized negative binomial distribution,\n",
       "    where each sample is equal to N, the number of failures that\n",
       "    occurred before a total of n successes was reached.\n",
       "\n",
       "Notes\n",
       "-----\n",
       "The probability mass function of the negative binomial distribution is\n",
       "\n",
       ".. math:: P(N;n,p) = \\frac{\\Gamma(N+n)}{N!\\Gamma(n)}p^{n}(1-p)^{N},\n",
       "\n",
       "where :math:`n` is the number of successes, :math:`p` is the\n",
       "probability of success, :math:`N+n` is the number of trials, and\n",
       ":math:`\\Gamma` is the gamma function. When :math:`n` is an integer,\n",
       ":math:`\\frac{\\Gamma(N+n)}{N!\\Gamma(n)} = \\binom{N+n-1}{N}`, which is\n",
       "the more common form of this term in the the pmf. The negative\n",
       "binomial distribution gives the probability of N failures given n\n",
       "successes, with a success on the last trial.\n",
       "\n",
       "If one throws a die repeatedly until the third time a \"1\" appears,\n",
       "then the probability distribution of the number of non-\"1\"s that\n",
       "appear before the third \"1\" is a negative binomial distribution.\n",
       "\n",
       "References\n",
       "----------\n",
       ".. [1] Weisstein, Eric W. \"Negative Binomial Distribution.\" From\n",
       "       MathWorld--A Wolfram Web Resource.\n",
       "       http://mathworld.wolfram.com/NegativeBinomialDistribution.html\n",
       ".. [2] Wikipedia, \"Negative binomial distribution\",\n",
       "       https://en.wikipedia.org/wiki/Negative_binomial_distribution\n",
       "\n",
       "Examples\n",
       "--------\n",
       "Draw samples from the distribution:\n",
       "\n",
       "A real world example. A company drills wild-cat oil\n",
       "exploration wells, each with an estimated probability of\n",
       "success of 0.1.  What is the probability of having one success\n",
       "for each successive well, that is what is the probability of a\n",
       "single success after drilling 5 wells, after 6 wells, etc.?\n",
       "\n",
       ">>> s = np.random.default_rng().negative_binomial(1, 0.1, 100000)\n",
       ">>> for i in range(1, 11): # doctest: +SKIP\n",
       "...    probability = sum(s<i) / 100000.\n",
       "...    print(i, \"wells drilled, probability of one success =\", probability)\n",
       "\u001b[1;31mType:\u001b[0m      builtin_function_or_method\n"
      ]
     },
     "metadata": {},
     "output_type": "display_data"
    }
   ],
   "source": [
    "?rng.negative_binomial"
   ]
  },
  {
   "cell_type": "code",
   "execution_count": null,
   "id": "40d81c60-ef69-4f15-8682-b070b981740d",
   "metadata": {},
   "outputs": [],
   "source": []
  }
 ],
 "metadata": {
  "kernelspec": {
   "display_name": "Python 3 (ipykernel)",
   "language": "python",
   "name": "python3"
  },
  "language_info": {
   "codemirror_mode": {
    "name": "ipython",
    "version": 3
   },
   "file_extension": ".py",
   "mimetype": "text/x-python",
   "name": "python",
   "nbconvert_exporter": "python",
   "pygments_lexer": "ipython3",
   "version": "3.8.12"
  }
 },
 "nbformat": 4,
 "nbformat_minor": 5
}
